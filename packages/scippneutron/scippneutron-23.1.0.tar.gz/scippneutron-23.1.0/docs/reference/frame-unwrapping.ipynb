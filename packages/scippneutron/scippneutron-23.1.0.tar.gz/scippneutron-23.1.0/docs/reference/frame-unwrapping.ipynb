{
 "cells": [
  {
   "cell_type": "markdown",
   "id": "dcc5c0db-6295-4fe7-a951-881a22070be5",
   "metadata": {},
   "source": [
    "# Frame Unwrapping"
   ]
  },
  {
   "cell_type": "markdown",
   "id": "d8a53e78-18a6-43ab-8b92-5c9af76d004d",
   "metadata": {},
   "source": [
    "## Default"
   ]
  },
  {
   "cell_type": "markdown",
   "id": "d49bd748-0b48-427f-a20b-4b7524c86581",
   "metadata": {},
   "source": [
    "In this case there is a 1:1 correspondence between source pulses and neutron pulses propagated to the sample and detectors."
   ]
  },
  {
   "cell_type": "code",
   "execution_count": null,
   "id": "5072cc02-36cd-47f0-887b-a58a0717cede",
   "metadata": {},
   "outputs": [],
   "source": [
    "from frameunwrapping import default_frame_diagram\n",
    "default_frame_diagram().show()"
   ]
  },
  {
   "cell_type": "markdown",
   "id": "aaf4cac3-6a54-44a2-95f7-a0518474589e",
   "metadata": {},
   "source": [
    "In the figure above the index `i` labels source pulses.\n",
    "We define:\n",
    "\n",
    "- $T_0^i$ is the `event_time_zero` recorded in an `NXevent_data` group.\n",
    "  These times are indicated by the vertical dotted lines.\n",
    "- $T_0^{i+1} = T_0^i + L_0$ where the frame length $L_0$ is defined by $L_0 = 1/f_0$, given a source frequency $f_0$.\n",
    "- $\\Delta T_0$ is the offset from $T_0^i$ at which the neutrons are \"emitted\".\n",
    "  This may be zero (or half the pulse length) if the full pulse length is used, but choppers such as resolution choppers may extract a section of the pulse that is not aligned with the start of the full pulse.\n",
    "  This offset can also be used to take into account a potential difference between the timing system's definition of the pulse time and the actual beginning of the neutron pulse exiting, e.g., the moderator.\n",
    "- The black solid line within the first pulse (blue) indicates a neutron detected at $T_0^{i+1} + \\Delta t$.\n",
    "  $\\Delta t$ is the `event_time_offset` in an `NXevent_data` group.\n",
    "  This value is recorded for every neutron and gives the offset from the latest (previous) `event_time_zero` ($T_0^j$), i.e., the time difference to the previous vertical dotted line.\n",
    "\n",
    "To compute the time-of-flight for a neutron, we need to identify which source pulse it originated from.\n",
    "Consider the shaded vertical band above, indicating the time during which arriving neutrons are associated with $T_0^{i+1}$.\n",
    "For, e.g., detector 1 when then observe:\n",
    "\n",
    "- First (small `event_time_offset` $\\Delta t$, to the left of the dashed black line) we see the slowest neutrons from N (in this case N=2) source pulses earlier.\n",
    "- Then (larger `event_time_offset` $\\Delta t$, to the right of the dashed black line) we see the slowest neutrons from N-1 (in this case N-1=1) source pulses earlier.\n",
    "- Typically there is is an intermediate region where no neutrons should be able to traverse the chopper cascade.\n",
    "  Neutrons detected in this time interval must thus be background from other sources.\n",
    "\n",
    "To compute the time-of-flight we add an integer multiple of the frame length to `event_time_offset`.\n",
    "Within a given frame (indicated above by a band between two dotted vertical lines, such as the grey shaded band) there is a *pivot time*:\n",
    "Neutrons with `event_time_offset` *before* the pivot time originated one source frame *before* neutrons *after* the pivot time.\n",
    "As illustrated in the figure, the pivot time $t_\\text{pivot}$ depends on the detector or rather the distance of the detector from the scattering position.\n",
    "\n",
    "The pivot time can be computed, e.g., by defining the minimum wavelength $\\lambda_{\\text{min}}$ that can propagate through the chopper cascade to reach a detector.\n",
    "This is indicated above by the dashed black line.\n",
    "The computation of the time-of-flight can then proceed as follows (see also illustration below):\n",
    "\n",
    "1. Given $\\lambda_\\text{min}$, we can compute the the corresponding $t_{\\text{min}}$ (`tof_min`), i.e., the time the fastest neutrons take from the source to the detector.\n",
    "   `tof_min` is detector-dependent.\n",
    "2. The pivot time `time_offset_pivot` is computed as $t_\\text{pivot} = (\\Delta T_0 + t_{\\text{min}})\\mod L_0$.\n",
    "3. The time-of-flight $t_\\text{tof}$ is computed as\n",
    "   $$\n",
    "   t_{\\text{tof}} =  t_{\\text{min}} - t_\\text{pivot} +\\Delta t + \n",
    "       \\begin{cases}\n",
    "       L_0, & \\text{for } \\Delta t \\lt t_\\text{pivot}\\\\\n",
    "       0, & \\text{for } \\Delta t \\ge t_\\text{pivot}\n",
    "       \\end{cases}\n",
    "   $$\n",
    "   \n",
    "Note that there are other valid definitions of $t_\\text{pivot}$, differing only in how neutrons in the intermediate \"background\" region (region between two pulses) are mapped to frames."
   ]
  },
  {
   "cell_type": "code",
   "execution_count": null,
   "id": "66353e3c-ef2c-409f-a965-3478b035fdb3",
   "metadata": {},
   "outputs": [],
   "source": [
    "from scippneutron.tof import frames\n",
    "import scipp as sc\n",
    "sc.show_graph(frames.to_tof(), simplified=True)"
   ]
  },
  {
   "cell_type": "markdown",
   "id": "4b532f66-9119-4e65-8827-1ed2f4dcfbd0",
   "metadata": {},
   "source": [
    "## Pulse-skipping"
   ]
  },
  {
   "cell_type": "code",
   "execution_count": null,
   "id": "14d7fbb9-db13-486b-a821-3e062b6eb688",
   "metadata": {},
   "outputs": [],
   "source": [
    "from frameunwrapping import frame_skipping_diagram\n",
    "frame_skipping_diagram().show()"
   ]
  },
  {
   "cell_type": "markdown",
   "id": "b1d30352-5836-435c-8fe2-3cd57a888d8f",
   "metadata": {
    "tags": []
   },
   "source": [
    "## Wavelength-frame multiplication"
   ]
  }
 ],
 "metadata": {
  "kernelspec": {
   "display_name": "Python 3 (ipykernel)",
   "language": "python",
   "name": "python3"
  },
  "language_info": {
   "codemirror_mode": {
    "name": "ipython",
    "version": 3
   },
   "file_extension": ".py",
   "mimetype": "text/x-python",
   "name": "python",
   "nbconvert_exporter": "python",
   "pygments_lexer": "ipython3"
  }
 },
 "nbformat": 4,
 "nbformat_minor": 5
}
