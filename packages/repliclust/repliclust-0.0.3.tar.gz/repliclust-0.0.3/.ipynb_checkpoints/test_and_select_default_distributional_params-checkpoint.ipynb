{
 "cells": [
  {
   "cell_type": "code",
   "execution_count": 1,
   "id": "ae6b79f8-0a09-4d7f-a8e0-3476890dda1d",
   "metadata": {},
   "outputs": [],
   "source": [
    "import numpy as np\n",
    "import repliclust as rc"
   ]
  },
  {
   "cell_type": "code",
   "execution_count": null,
   "id": "d809b03d-0aac-4a7d-b388-03a943700883",
   "metadata": {},
   "outputs": [],
   "source": []
  }
 ],
 "metadata": {
  "kernelspec": {
   "display_name": "Python 3 (ipykernel)",
   "language": "python",
   "name": "python3"
  },
  "language_info": {
   "codemirror_mode": {
    "name": "ipython",
    "version": 3
   },
   "file_extension": ".py",
   "mimetype": "text/x-python",
   "name": "python",
   "nbconvert_exporter": "python",
   "pygments_lexer": "ipython3",
   "version": "3.9.13"
  }
 },
 "nbformat": 4,
 "nbformat_minor": 5
}
