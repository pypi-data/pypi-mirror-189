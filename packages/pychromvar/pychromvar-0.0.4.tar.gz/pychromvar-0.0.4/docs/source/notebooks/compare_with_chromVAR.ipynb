{
 "cells": [
  {
   "cell_type": "markdown",
   "id": "33fe3950-e22b-4a28-a6dc-693fc6592dc4",
   "metadata": {},
   "source": [
    "# Compare with chromVAR: Part II"
   ]
  },
  {
   "cell_type": "markdown",
   "id": "a4c766a3-22ee-44cc-982d-07987a5f6488",
   "metadata": {},
   "source": [
    "## Run pychromVAR on the example data"
   ]
  },
  {
   "cell_type": "markdown",
   "id": "3b822705-2818-4871-8c1d-d143a7ace209",
   "metadata": {},
   "source": [
    "Import packages"
   ]
  },
  {
   "cell_type": "code",
   "execution_count": 1,
   "id": "adf99c74-4011-44a8-9ac9-f3cafc16190c",
   "metadata": {},
   "outputs": [],
   "source": [
    "import anndata\n",
    "from pyjaspar import jaspardb\n",
    "import pychromvar as pc\n",
    "import numpy as np\n",
    "import matplotlib.pyplot as plt\n",
    "import scipy as sp\n",
    "import pandas as pd\n",
    "import seaborn as sns"
   ]
  },
  {
   "cell_type": "code",
   "execution_count": 2,
   "id": "caa71ee7-865c-467c-92ef-021299fef0e7",
   "metadata": {},
   "outputs": [
    {
     "data": {
      "text/plain": [
       "'0.0.3'"
      ]
     },
     "execution_count": 2,
     "metadata": {},
     "output_type": "execute_result"
    }
   ],
   "source": [
    "pc.__version__"
   ]
  },
  {
   "cell_type": "markdown",
   "id": "2e47f0a4-58d5-4223-a8e1-a4455d778c8e",
   "metadata": {},
   "source": [
    "We can load the data as an anndata object"
   ]
  },
  {
   "cell_type": "code",
   "execution_count": 3,
   "id": "f46dcd0f-076a-44db-8106-ccaae131e9ac",
   "metadata": {},
   "outputs": [
    {
     "data": {
      "text/plain": [
       "AnnData object with n_obs × n_vars = 50 × 29269"
      ]
     },
     "execution_count": 3,
     "metadata": {},
     "output_type": "execute_result"
    }
   ],
   "source": [
    "adata = anndata.read_csv(\"./counts.csv\").transpose()\n",
    "adata"
   ]
  },
  {
   "cell_type": "code",
   "execution_count": 4,
   "id": "0c5b5f7b-79d1-4e8d-bf09-b255c0d088dd",
   "metadata": {},
   "outputs": [],
   "source": [
    "adata.write_h5ad(\"example_data.h5ad\")"
   ]
  },
  {
   "cell_type": "markdown",
   "id": "2bd28801-44b0-4a30-8bb3-230d1d33feff",
   "metadata": {},
   "source": [
    "Before we jump into the running, we need a reference genome for GC bias and motif matching. Here pychromVAR provide a function **get_genome** to\n",
    "allow you to download genome sequence that we need. If you already have one, then this step can be skipped."
   ]
  },
  {
   "cell_type": "code",
   "execution_count": 4,
   "id": "df93b36f-51ba-4192-8b63-cd68788c51d9",
   "metadata": {},
   "outputs": [
    {
     "name": "stderr",
     "output_type": "stream",
     "text": [
      "100%|█████████████████████████████████████████████████████████████████████████████████| 25/25 [03:28<00:00,  8.32s/it]\n"
     ]
    }
   ],
   "source": [
    "pc.get_genome(\"hg19\", output_dir=\"./\")"
   ]
  },
  {
   "cell_type": "markdown",
   "id": "b0d01516-e2a2-49b0-95dd-5199df2efbcb",
   "metadata": {},
   "source": [
    "We first extract the sequence information for each peak:"
   ]
  },
  {
   "cell_type": "code",
   "execution_count": 5,
   "id": "4705aaa8-7b29-44ad-b6b8-acbc4103f7b3",
   "metadata": {},
   "outputs": [
    {
     "name": "stderr",
     "output_type": "stream",
     "text": [
      "100%|████████████████████████████████████████████████████████████████████████| 29269/29269 [00:00<00:00, 88935.94it/s]\n"
     ]
    }
   ],
   "source": [
    "pc.add_peak_seq(adata, genome_file=\"./hg19.fa\")"
   ]
  },
  {
   "cell_type": "markdown",
   "id": "1d388922-33e1-47f3-aeff-2e3d5989aa0e",
   "metadata": {},
   "source": [
    "Then we can estimate GC bias per peak and get the backgrounds"
   ]
  },
  {
   "cell_type": "code",
   "execution_count": 6,
   "id": "750cf06e-7ffd-44f2-9367-d113a856a321",
   "metadata": {},
   "outputs": [
    {
     "name": "stderr",
     "output_type": "stream",
     "text": [
      "100%|███████████████████████████████████████████████████████████████████████| 29269/29269 [00:00<00:00, 149184.02it/s]\n",
      "/Users/zhijianli/miniconda3/envs/pychromvar/lib/python3.9/site-packages/scipy/sparse/_index.py:146: SparseEfficiencyWarning: Changing the sparsity structure of a csr_matrix is expensive. lil_matrix is more efficient.\n",
      "  self._set_arrayXarray(i, j, x)\n"
     ]
    }
   ],
   "source": [
    "pc.add_gc_bias(adata)\n",
    "pc.get_bg_peaks(adata)"
   ]
  },
  {
   "cell_type": "markdown",
   "id": "8e213b04-b711-474f-a72c-93644e7edb0e",
   "metadata": {},
   "source": [
    "We next extract TF motifs and perform motif matching to identify TF binding sites"
   ]
  },
  {
   "cell_type": "code",
   "execution_count": 7,
   "id": "c835e281-5747-46a9-8bdd-3eeb6aca311e",
   "metadata": {},
   "outputs": [
    {
     "name": "stderr",
     "output_type": "stream",
     "text": [
      "100%|█████████████████████████████████████████████████████████████████████████| 29269/29269 [00:12<00:00, 2276.23it/s]\n"
     ]
    }
   ],
   "source": [
    "jdb_obj = jaspardb(release='JASPAR2020')\n",
    "motifs = jdb_obj.fetch_motifs(\n",
    "    collection = 'CORE',\n",
    "    tax_group = ['vertebrates'])\n",
    "\n",
    "pc.match_motif(adata, motifs=motifs, p_value=5e-05)"
   ]
  },
  {
   "cell_type": "markdown",
   "id": "77b477be-0036-4ca2-9061-c9cb98ec6baa",
   "metadata": {},
   "source": [
    "With these information, we can estimate TF binding sites accessibility deviations with function **compute_deviations**. This function will return an Anndata object with cells * motifs."
   ]
  },
  {
   "cell_type": "code",
   "execution_count": 8,
   "id": "3aa2fcd7-799f-4f18-91c4-feb3baff8d3e",
   "metadata": {},
   "outputs": [
    {
     "name": "stderr",
     "output_type": "stream",
     "text": [
      "2023-01-27 21:11:31 INFO     computing expectation reads per cell and peak...\n",
      "2023-01-27 21:11:31 INFO     computing observed motif deviations...\n",
      "2023-01-27 21:11:32 INFO     computing background deviations...\n"
     ]
    }
   ],
   "source": [
    "dev = pc.compute_deviations(adata)"
   ]
  },
  {
   "cell_type": "markdown",
   "id": "16002a9d-aae7-440e-b3d2-58399ca08f25",
   "metadata": {},
   "source": [
    "## Compare with chromVAR"
   ]
  },
  {
   "cell_type": "markdown",
   "id": "17fd3afb-0e11-466a-a2ec-9e7cf0d14c5f",
   "metadata": {},
   "source": [
    "We next compare the results between pychromVAR and [chromVAR](https://github.com/GreenleafLab/chromVAR) by calculating the correlation of each cells across all motifs. If these two results are similar, we should observe a high average correlation of all cells."
   ]
  },
  {
   "cell_type": "code",
   "execution_count": 9,
   "id": "a350f034-f356-42bd-9d61-576e134a65d1",
   "metadata": {},
   "outputs": [
    {
     "data": {
      "text/html": [
       "<div>\n",
       "<style scoped>\n",
       "    .dataframe tbody tr th:only-of-type {\n",
       "        vertical-align: middle;\n",
       "    }\n",
       "\n",
       "    .dataframe tbody tr th {\n",
       "        vertical-align: top;\n",
       "    }\n",
       "\n",
       "    .dataframe thead th {\n",
       "        text-align: right;\n",
       "    }\n",
       "</style>\n",
       "<table border=\"1\" class=\"dataframe\">\n",
       "  <thead>\n",
       "    <tr style=\"text-align: right;\">\n",
       "      <th></th>\n",
       "      <th>MA0004.1.Arnt</th>\n",
       "      <th>MA0006.1.Ahr::Arnt</th>\n",
       "      <th>MA0019.1.Ddit3::Cebpa</th>\n",
       "      <th>MA0029.1.Mecom</th>\n",
       "      <th>MA0030.1.FOXF2</th>\n",
       "      <th>MA0031.1.FOXD1</th>\n",
       "      <th>MA0040.1.Foxq1</th>\n",
       "      <th>MA0041.1.Foxd3</th>\n",
       "      <th>MA0051.1.IRF2</th>\n",
       "      <th>MA0057.1.MZF1(var.2)</th>\n",
       "      <th>...</th>\n",
       "      <th>MA0090.3.TEAD1</th>\n",
       "      <th>MA0809.2.TEAD4</th>\n",
       "      <th>MA0003.4.TFAP2A</th>\n",
       "      <th>MA0814.2.TFAP2C(var.2)</th>\n",
       "      <th>MA1123.2.TWIST1</th>\n",
       "      <th>MA0093.3.USF1</th>\n",
       "      <th>MA0526.3.USF2</th>\n",
       "      <th>MA0748.2.YY2</th>\n",
       "      <th>MA0528.2.ZNF263</th>\n",
       "      <th>MA0609.2.CREM</th>\n",
       "    </tr>\n",
       "  </thead>\n",
       "  <tbody>\n",
       "    <tr>\n",
       "      <th>singles-GM12878-140905-1</th>\n",
       "      <td>1.133281</td>\n",
       "      <td>0.923171</td>\n",
       "      <td>1.146088</td>\n",
       "      <td>-1.006249</td>\n",
       "      <td>-0.732861</td>\n",
       "      <td>-0.775700</td>\n",
       "      <td>0.214353</td>\n",
       "      <td>-0.255420</td>\n",
       "      <td>1.749563</td>\n",
       "      <td>-2.356278</td>\n",
       "      <td>...</td>\n",
       "      <td>-4.070214</td>\n",
       "      <td>-4.889636</td>\n",
       "      <td>1.229542</td>\n",
       "      <td>1.677865</td>\n",
       "      <td>-1.271607</td>\n",
       "      <td>0.099937</td>\n",
       "      <td>-0.004178</td>\n",
       "      <td>2.169295</td>\n",
       "      <td>-2.285279</td>\n",
       "      <td>1.149731</td>\n",
       "    </tr>\n",
       "    <tr>\n",
       "      <th>singles-GM12878-140905-2</th>\n",
       "      <td>1.965270</td>\n",
       "      <td>1.240523</td>\n",
       "      <td>0.061824</td>\n",
       "      <td>-1.854125</td>\n",
       "      <td>-0.749239</td>\n",
       "      <td>-1.981010</td>\n",
       "      <td>1.207076</td>\n",
       "      <td>-1.874111</td>\n",
       "      <td>3.280495</td>\n",
       "      <td>-0.835769</td>\n",
       "      <td>...</td>\n",
       "      <td>-2.820434</td>\n",
       "      <td>-4.067576</td>\n",
       "      <td>-0.476055</td>\n",
       "      <td>-0.904521</td>\n",
       "      <td>-1.263341</td>\n",
       "      <td>1.542135</td>\n",
       "      <td>1.745780</td>\n",
       "      <td>1.140910</td>\n",
       "      <td>0.022528</td>\n",
       "      <td>1.950659</td>\n",
       "    </tr>\n",
       "    <tr>\n",
       "      <th>singles-GM12878-140905-3</th>\n",
       "      <td>1.760396</td>\n",
       "      <td>0.855670</td>\n",
       "      <td>1.093846</td>\n",
       "      <td>-1.128929</td>\n",
       "      <td>0.338300</td>\n",
       "      <td>-0.956327</td>\n",
       "      <td>0.645882</td>\n",
       "      <td>-0.614129</td>\n",
       "      <td>3.952821</td>\n",
       "      <td>1.381093</td>\n",
       "      <td>...</td>\n",
       "      <td>-3.604757</td>\n",
       "      <td>-5.775802</td>\n",
       "      <td>0.015363</td>\n",
       "      <td>-0.119689</td>\n",
       "      <td>0.564030</td>\n",
       "      <td>0.937728</td>\n",
       "      <td>0.565363</td>\n",
       "      <td>-0.482187</td>\n",
       "      <td>0.124355</td>\n",
       "      <td>2.456688</td>\n",
       "    </tr>\n",
       "    <tr>\n",
       "      <th>singles-GM12878-140905-4</th>\n",
       "      <td>-0.373720</td>\n",
       "      <td>3.538571</td>\n",
       "      <td>-0.099967</td>\n",
       "      <td>0.272531</td>\n",
       "      <td>-1.520674</td>\n",
       "      <td>-1.973709</td>\n",
       "      <td>-0.810768</td>\n",
       "      <td>-1.069554</td>\n",
       "      <td>3.271915</td>\n",
       "      <td>2.748999</td>\n",
       "      <td>...</td>\n",
       "      <td>-2.810382</td>\n",
       "      <td>-4.400753</td>\n",
       "      <td>-0.874893</td>\n",
       "      <td>-0.740228</td>\n",
       "      <td>1.379180</td>\n",
       "      <td>-0.437777</td>\n",
       "      <td>-1.105703</td>\n",
       "      <td>2.597081</td>\n",
       "      <td>-2.020135</td>\n",
       "      <td>1.768704</td>\n",
       "    </tr>\n",
       "    <tr>\n",
       "      <th>singles-GM12878-140905-5</th>\n",
       "      <td>-0.151169</td>\n",
       "      <td>2.795168</td>\n",
       "      <td>0.667672</td>\n",
       "      <td>-0.941202</td>\n",
       "      <td>0.624300</td>\n",
       "      <td>1.266423</td>\n",
       "      <td>1.801932</td>\n",
       "      <td>-0.349054</td>\n",
       "      <td>2.831177</td>\n",
       "      <td>-0.984145</td>\n",
       "      <td>...</td>\n",
       "      <td>-3.029521</td>\n",
       "      <td>-4.382038</td>\n",
       "      <td>-0.300487</td>\n",
       "      <td>0.089990</td>\n",
       "      <td>-0.726310</td>\n",
       "      <td>-0.062765</td>\n",
       "      <td>-0.118076</td>\n",
       "      <td>-0.127605</td>\n",
       "      <td>-0.445154</td>\n",
       "      <td>-0.099674</td>\n",
       "    </tr>\n",
       "  </tbody>\n",
       "</table>\n",
       "<p>5 rows × 746 columns</p>\n",
       "</div>"
      ],
      "text/plain": [
       "                          MA0004.1.Arnt  MA0006.1.Ahr::Arnt  \\\n",
       "singles-GM12878-140905-1       1.133281            0.923171   \n",
       "singles-GM12878-140905-2       1.965270            1.240523   \n",
       "singles-GM12878-140905-3       1.760396            0.855670   \n",
       "singles-GM12878-140905-4      -0.373720            3.538571   \n",
       "singles-GM12878-140905-5      -0.151169            2.795168   \n",
       "\n",
       "                          MA0019.1.Ddit3::Cebpa  MA0029.1.Mecom  \\\n",
       "singles-GM12878-140905-1               1.146088       -1.006249   \n",
       "singles-GM12878-140905-2               0.061824       -1.854125   \n",
       "singles-GM12878-140905-3               1.093846       -1.128929   \n",
       "singles-GM12878-140905-4              -0.099967        0.272531   \n",
       "singles-GM12878-140905-5               0.667672       -0.941202   \n",
       "\n",
       "                          MA0030.1.FOXF2  MA0031.1.FOXD1  MA0040.1.Foxq1  \\\n",
       "singles-GM12878-140905-1       -0.732861       -0.775700        0.214353   \n",
       "singles-GM12878-140905-2       -0.749239       -1.981010        1.207076   \n",
       "singles-GM12878-140905-3        0.338300       -0.956327        0.645882   \n",
       "singles-GM12878-140905-4       -1.520674       -1.973709       -0.810768   \n",
       "singles-GM12878-140905-5        0.624300        1.266423        1.801932   \n",
       "\n",
       "                          MA0041.1.Foxd3  MA0051.1.IRF2  MA0057.1.MZF1(var.2)  \\\n",
       "singles-GM12878-140905-1       -0.255420       1.749563             -2.356278   \n",
       "singles-GM12878-140905-2       -1.874111       3.280495             -0.835769   \n",
       "singles-GM12878-140905-3       -0.614129       3.952821              1.381093   \n",
       "singles-GM12878-140905-4       -1.069554       3.271915              2.748999   \n",
       "singles-GM12878-140905-5       -0.349054       2.831177             -0.984145   \n",
       "\n",
       "                          ...  MA0090.3.TEAD1  MA0809.2.TEAD4  \\\n",
       "singles-GM12878-140905-1  ...       -4.070214       -4.889636   \n",
       "singles-GM12878-140905-2  ...       -2.820434       -4.067576   \n",
       "singles-GM12878-140905-3  ...       -3.604757       -5.775802   \n",
       "singles-GM12878-140905-4  ...       -2.810382       -4.400753   \n",
       "singles-GM12878-140905-5  ...       -3.029521       -4.382038   \n",
       "\n",
       "                          MA0003.4.TFAP2A  MA0814.2.TFAP2C(var.2)  \\\n",
       "singles-GM12878-140905-1         1.229542                1.677865   \n",
       "singles-GM12878-140905-2        -0.476055               -0.904521   \n",
       "singles-GM12878-140905-3         0.015363               -0.119689   \n",
       "singles-GM12878-140905-4        -0.874893               -0.740228   \n",
       "singles-GM12878-140905-5        -0.300487                0.089990   \n",
       "\n",
       "                          MA1123.2.TWIST1  MA0093.3.USF1  MA0526.3.USF2  \\\n",
       "singles-GM12878-140905-1        -1.271607       0.099937      -0.004178   \n",
       "singles-GM12878-140905-2        -1.263341       1.542135       1.745780   \n",
       "singles-GM12878-140905-3         0.564030       0.937728       0.565363   \n",
       "singles-GM12878-140905-4         1.379180      -0.437777      -1.105703   \n",
       "singles-GM12878-140905-5        -0.726310      -0.062765      -0.118076   \n",
       "\n",
       "                          MA0748.2.YY2  MA0528.2.ZNF263  MA0609.2.CREM  \n",
       "singles-GM12878-140905-1      2.169295        -2.285279       1.149731  \n",
       "singles-GM12878-140905-2      1.140910         0.022528       1.950659  \n",
       "singles-GM12878-140905-3     -0.482187         0.124355       2.456688  \n",
       "singles-GM12878-140905-4      2.597081        -2.020135       1.768704  \n",
       "singles-GM12878-140905-5     -0.127605        -0.445154      -0.099674  \n",
       "\n",
       "[5 rows x 746 columns]"
      ]
     },
     "execution_count": 9,
     "metadata": {},
     "output_type": "execute_result"
    }
   ],
   "source": [
    "df_pychromvar = pd.DataFrame(dev.X, \n",
    "                             columns=dev.var_names, \n",
    "                             index=dev.obs_names)\n",
    "\n",
    "df_pychromvar.head()"
   ]
  },
  {
   "cell_type": "code",
   "execution_count": 10,
   "id": "e4ab4473-f718-485c-af97-8f0425057c95",
   "metadata": {},
   "outputs": [
    {
     "data": {
      "text/html": [
       "<div>\n",
       "<style scoped>\n",
       "    .dataframe tbody tr th:only-of-type {\n",
       "        vertical-align: middle;\n",
       "    }\n",
       "\n",
       "    .dataframe tbody tr th {\n",
       "        vertical-align: top;\n",
       "    }\n",
       "\n",
       "    .dataframe thead th {\n",
       "        text-align: right;\n",
       "    }\n",
       "</style>\n",
       "<table border=\"1\" class=\"dataframe\">\n",
       "  <thead>\n",
       "    <tr style=\"text-align: right;\">\n",
       "      <th></th>\n",
       "      <th>MA0004.1.Arnt</th>\n",
       "      <th>MA0006.1.Ahr::Arnt</th>\n",
       "      <th>MA0019.1.Ddit3::Cebpa</th>\n",
       "      <th>MA0029.1.Mecom</th>\n",
       "      <th>MA0030.1.FOXF2</th>\n",
       "      <th>MA0031.1.FOXD1</th>\n",
       "      <th>MA0040.1.Foxq1</th>\n",
       "      <th>MA0041.1.Foxd3</th>\n",
       "      <th>MA0051.1.IRF2</th>\n",
       "      <th>MA0057.1.MZF1(var.2)</th>\n",
       "      <th>...</th>\n",
       "      <th>MA0090.3.TEAD1</th>\n",
       "      <th>MA0809.2.TEAD4</th>\n",
       "      <th>MA0003.4.TFAP2A</th>\n",
       "      <th>MA0814.2.TFAP2C(var.2)</th>\n",
       "      <th>MA1123.2.TWIST1</th>\n",
       "      <th>MA0093.3.USF1</th>\n",
       "      <th>MA0526.3.USF2</th>\n",
       "      <th>MA0748.2.YY2</th>\n",
       "      <th>MA0528.2.ZNF263</th>\n",
       "      <th>MA0609.2.CREM</th>\n",
       "    </tr>\n",
       "  </thead>\n",
       "  <tbody>\n",
       "    <tr>\n",
       "      <th>singles-GM12878-140905-1</th>\n",
       "      <td>0.75</td>\n",
       "      <td>0.84</td>\n",
       "      <td>2.36</td>\n",
       "      <td>-0.97</td>\n",
       "      <td>-1.15</td>\n",
       "      <td>-0.87</td>\n",
       "      <td>-0.42</td>\n",
       "      <td>-0.45</td>\n",
       "      <td>1.39</td>\n",
       "      <td>-2.27</td>\n",
       "      <td>...</td>\n",
       "      <td>-3.93</td>\n",
       "      <td>-4.81</td>\n",
       "      <td>0.36</td>\n",
       "      <td>1.57</td>\n",
       "      <td>-0.49</td>\n",
       "      <td>-0.16</td>\n",
       "      <td>0.05</td>\n",
       "      <td>1.94</td>\n",
       "      <td>-1.17</td>\n",
       "      <td>0.51</td>\n",
       "    </tr>\n",
       "    <tr>\n",
       "      <th>singles-GM12878-140905-2</th>\n",
       "      <td>2.34</td>\n",
       "      <td>1.52</td>\n",
       "      <td>0.87</td>\n",
       "      <td>-1.46</td>\n",
       "      <td>-0.79</td>\n",
       "      <td>-1.69</td>\n",
       "      <td>0.51</td>\n",
       "      <td>-1.17</td>\n",
       "      <td>1.87</td>\n",
       "      <td>-1.18</td>\n",
       "      <td>...</td>\n",
       "      <td>-3.63</td>\n",
       "      <td>-4.43</td>\n",
       "      <td>-0.94</td>\n",
       "      <td>-0.81</td>\n",
       "      <td>-1.57</td>\n",
       "      <td>3.01</td>\n",
       "      <td>2.55</td>\n",
       "      <td>0.98</td>\n",
       "      <td>-0.60</td>\n",
       "      <td>1.82</td>\n",
       "    </tr>\n",
       "    <tr>\n",
       "      <th>singles-GM12878-140905-3</th>\n",
       "      <td>1.81</td>\n",
       "      <td>0.34</td>\n",
       "      <td>1.16</td>\n",
       "      <td>-1.48</td>\n",
       "      <td>-0.71</td>\n",
       "      <td>0.14</td>\n",
       "      <td>-0.36</td>\n",
       "      <td>-1.38</td>\n",
       "      <td>1.85</td>\n",
       "      <td>1.36</td>\n",
       "      <td>...</td>\n",
       "      <td>-3.59</td>\n",
       "      <td>-4.59</td>\n",
       "      <td>0.18</td>\n",
       "      <td>0.32</td>\n",
       "      <td>-1.00</td>\n",
       "      <td>0.63</td>\n",
       "      <td>0.53</td>\n",
       "      <td>-0.56</td>\n",
       "      <td>-0.18</td>\n",
       "      <td>1.60</td>\n",
       "    </tr>\n",
       "    <tr>\n",
       "      <th>singles-GM12878-140905-4</th>\n",
       "      <td>-0.18</td>\n",
       "      <td>3.77</td>\n",
       "      <td>-0.55</td>\n",
       "      <td>-1.50</td>\n",
       "      <td>-2.06</td>\n",
       "      <td>-3.02</td>\n",
       "      <td>-0.56</td>\n",
       "      <td>-0.93</td>\n",
       "      <td>3.62</td>\n",
       "      <td>1.39</td>\n",
       "      <td>...</td>\n",
       "      <td>-3.18</td>\n",
       "      <td>-4.08</td>\n",
       "      <td>-0.12</td>\n",
       "      <td>-0.21</td>\n",
       "      <td>0.44</td>\n",
       "      <td>-0.33</td>\n",
       "      <td>-0.84</td>\n",
       "      <td>2.23</td>\n",
       "      <td>-2.55</td>\n",
       "      <td>2.67</td>\n",
       "    </tr>\n",
       "    <tr>\n",
       "      <th>singles-GM12878-140905-5</th>\n",
       "      <td>-0.03</td>\n",
       "      <td>2.49</td>\n",
       "      <td>0.80</td>\n",
       "      <td>-0.17</td>\n",
       "      <td>0.69</td>\n",
       "      <td>2.64</td>\n",
       "      <td>0.54</td>\n",
       "      <td>1.17</td>\n",
       "      <td>1.95</td>\n",
       "      <td>-0.99</td>\n",
       "      <td>...</td>\n",
       "      <td>-3.14</td>\n",
       "      <td>-3.32</td>\n",
       "      <td>0.38</td>\n",
       "      <td>0.07</td>\n",
       "      <td>-0.48</td>\n",
       "      <td>0.49</td>\n",
       "      <td>0.46</td>\n",
       "      <td>-0.61</td>\n",
       "      <td>-0.47</td>\n",
       "      <td>-0.09</td>\n",
       "    </tr>\n",
       "  </tbody>\n",
       "</table>\n",
       "<p>5 rows × 746 columns</p>\n",
       "</div>"
      ],
      "text/plain": [
       "                          MA0004.1.Arnt  MA0006.1.Ahr::Arnt  \\\n",
       "singles-GM12878-140905-1           0.75                0.84   \n",
       "singles-GM12878-140905-2           2.34                1.52   \n",
       "singles-GM12878-140905-3           1.81                0.34   \n",
       "singles-GM12878-140905-4          -0.18                3.77   \n",
       "singles-GM12878-140905-5          -0.03                2.49   \n",
       "\n",
       "                          MA0019.1.Ddit3::Cebpa  MA0029.1.Mecom  \\\n",
       "singles-GM12878-140905-1                   2.36           -0.97   \n",
       "singles-GM12878-140905-2                   0.87           -1.46   \n",
       "singles-GM12878-140905-3                   1.16           -1.48   \n",
       "singles-GM12878-140905-4                  -0.55           -1.50   \n",
       "singles-GM12878-140905-5                   0.80           -0.17   \n",
       "\n",
       "                          MA0030.1.FOXF2  MA0031.1.FOXD1  MA0040.1.Foxq1  \\\n",
       "singles-GM12878-140905-1           -1.15           -0.87           -0.42   \n",
       "singles-GM12878-140905-2           -0.79           -1.69            0.51   \n",
       "singles-GM12878-140905-3           -0.71            0.14           -0.36   \n",
       "singles-GM12878-140905-4           -2.06           -3.02           -0.56   \n",
       "singles-GM12878-140905-5            0.69            2.64            0.54   \n",
       "\n",
       "                          MA0041.1.Foxd3  MA0051.1.IRF2  MA0057.1.MZF1(var.2)  \\\n",
       "singles-GM12878-140905-1           -0.45           1.39                 -2.27   \n",
       "singles-GM12878-140905-2           -1.17           1.87                 -1.18   \n",
       "singles-GM12878-140905-3           -1.38           1.85                  1.36   \n",
       "singles-GM12878-140905-4           -0.93           3.62                  1.39   \n",
       "singles-GM12878-140905-5            1.17           1.95                 -0.99   \n",
       "\n",
       "                          ...  MA0090.3.TEAD1  MA0809.2.TEAD4  \\\n",
       "singles-GM12878-140905-1  ...           -3.93           -4.81   \n",
       "singles-GM12878-140905-2  ...           -3.63           -4.43   \n",
       "singles-GM12878-140905-3  ...           -3.59           -4.59   \n",
       "singles-GM12878-140905-4  ...           -3.18           -4.08   \n",
       "singles-GM12878-140905-5  ...           -3.14           -3.32   \n",
       "\n",
       "                          MA0003.4.TFAP2A  MA0814.2.TFAP2C(var.2)  \\\n",
       "singles-GM12878-140905-1             0.36                    1.57   \n",
       "singles-GM12878-140905-2            -0.94                   -0.81   \n",
       "singles-GM12878-140905-3             0.18                    0.32   \n",
       "singles-GM12878-140905-4            -0.12                   -0.21   \n",
       "singles-GM12878-140905-5             0.38                    0.07   \n",
       "\n",
       "                          MA1123.2.TWIST1  MA0093.3.USF1  MA0526.3.USF2  \\\n",
       "singles-GM12878-140905-1            -0.49          -0.16           0.05   \n",
       "singles-GM12878-140905-2            -1.57           3.01           2.55   \n",
       "singles-GM12878-140905-3            -1.00           0.63           0.53   \n",
       "singles-GM12878-140905-4             0.44          -0.33          -0.84   \n",
       "singles-GM12878-140905-5            -0.48           0.49           0.46   \n",
       "\n",
       "                          MA0748.2.YY2  MA0528.2.ZNF263  MA0609.2.CREM  \n",
       "singles-GM12878-140905-1          1.94            -1.17           0.51  \n",
       "singles-GM12878-140905-2          0.98            -0.60           1.82  \n",
       "singles-GM12878-140905-3         -0.56            -0.18           1.60  \n",
       "singles-GM12878-140905-4          2.23            -2.55           2.67  \n",
       "singles-GM12878-140905-5         -0.61            -0.47          -0.09  \n",
       "\n",
       "[5 rows x 746 columns]"
      ]
     },
     "execution_count": 10,
     "metadata": {},
     "output_type": "execute_result"
    }
   ],
   "source": [
    "df_chromvar = pd.read_csv(\"./chromvar_z.csv\", index_col=0)\n",
    "df_chromvar.head()"
   ]
  },
  {
   "cell_type": "code",
   "execution_count": 11,
   "id": "89521925-262d-4dbe-ac42-95ed6ac6c5c6",
   "metadata": {},
   "outputs": [
    {
     "data": {
      "text/plain": [
       "0.8630324565444885"
      ]
     },
     "execution_count": 11,
     "metadata": {},
     "output_type": "execute_result"
    }
   ],
   "source": [
    "correlation = df_pychromvar.corrwith(df_chromvar, axis = 1)\n",
    "\n",
    "np.mean(correlation)"
   ]
  },
  {
   "cell_type": "markdown",
   "id": "6c8ba690-e530-4166-a2e6-d743f5682b24",
   "metadata": {},
   "source": [
    "We can observe that the average correlation is 0.86 which is quite high, indication that our implementation produce highly similar results as the orignial R package does. We can plot the correlations as well."
   ]
  },
  {
   "cell_type": "code",
   "execution_count": 12,
   "id": "75284ab2-a512-41c8-ad4e-fd643e3374d5",
   "metadata": {},
   "outputs": [
    {
     "data": {
      "text/plain": [
       "<AxesSubplot: >"
      ]
     },
     "execution_count": 12,
     "metadata": {},
     "output_type": "execute_result"
    },
    {
     "data": {
      "image/png": "[encoded data removed]",
      "text/plain": [
       "<Figure size 640x480 with 1 Axes>"
      ]
     },
     "metadata": {},
     "output_type": "display_data"
    }
   ],
   "source": [
    "sns.boxplot(data=correlation)"
   ]
  },
  {
   "cell_type": "markdown",
   "id": "dd84dd9e-ff84-4233-ab19-7c01a1deaf50",
   "metadata": {},
   "source": [
    "## Where the differences come from?"
   ]
  },
  {
   "cell_type": "markdown",
   "id": "3665f0ea-d777-4bc3-be27-94cac0bdf3b3",
   "metadata": {},
   "source": [
    "If you want to figure out why there are some differences between our implementation and chromVAR, let's do some **perturbation** experiments. There are two steps that can probably give rise to different results:\n",
    "\n",
    "* background peaks identification\n",
    "* motif matching\n",
    "\n",
    "For background peaks, here I used a simpler approach based on KNN method after normalizing the GC bias and number of reads for peaks.\n",
    "\n",
    "For motif matching, the package [MOODS-python](https://pypi.org/project/MOODS-python/) was used, while in chromVAR, the R package[motifmatchr] (https://github.com/GreenleafLab/motifmatchr) was used. Though both packages are based on [MOODS](https://github.com/jhkorhonen/MOODS), there are maybe some differences in details."
   ]
  },
  {
   "cell_type": "markdown",
   "id": "7da60b09-2b36-456f-b0e1-2fe823212d45",
   "metadata": {},
   "source": [
    "We first replace the background peaks using results from chromVAR, and see if the results are changed significantly or not."
   ]
  },
  {
   "cell_type": "markdown",
   "id": "675a7314-1593-4844-9b6a-5a99efda9d56",
   "metadata": {},
   "source": [
    "load background peaks identified by chromVAR"
   ]
  },
  {
   "cell_type": "code",
   "execution_count": 13,
   "id": "f30c3c18-13e1-44fc-a61f-d50ceec36430",
   "metadata": {},
   "outputs": [],
   "source": [
    "df_bg_peaks = pd.read_csv(\"./bg_peaks.csv\", index_col=0)"
   ]
  },
  {
   "cell_type": "markdown",
   "id": "2dd159de-b7b0-411d-92f5-712da61839ea",
   "metadata": {},
   "source": [
    "replace the background peaks "
   ]
  },
  {
   "cell_type": "code",
   "execution_count": 14,
   "id": "992f8686-4593-4d32-b58e-78926b10a5e2",
   "metadata": {},
   "outputs": [],
   "source": [
    "adata.varm['pychromvar_bg_peaks'] = adata.varm['bg_peaks']\n",
    "adata.varm['bg_peaks'] = df_bg_peaks.to_numpy() - 1"
   ]
  },
  {
   "cell_type": "markdown",
   "id": "f0b1259e-8365-480e-9850-7faeb0ae26d5",
   "metadata": {},
   "source": [
    "compute deviation again"
   ]
  },
  {
   "cell_type": "code",
   "execution_count": 15,
   "id": "ec7769a0-7d47-4eda-97f3-6b5515a95975",
   "metadata": {},
   "outputs": [
    {
     "name": "stderr",
     "output_type": "stream",
     "text": [
      "2023-01-27 21:11:46 INFO     computing expectation reads per cell and peak...\n",
      "2023-01-27 21:11:46 INFO     computing observed motif deviations...\n",
      "2023-01-27 21:11:46 INFO     computing background deviations...\n"
     ]
    }
   ],
   "source": [
    "dev = pc.compute_deviations(adata)"
   ]
  },
  {
   "cell_type": "code",
   "execution_count": 16,
   "id": "1708e3bf-9eee-456c-9e0f-bf2a41ee03af",
   "metadata": {},
   "outputs": [
    {
     "data": {
      "text/plain": [
       "0.8629452586171414"
      ]
     },
     "execution_count": 16,
     "metadata": {},
     "output_type": "execute_result"
    }
   ],
   "source": [
    "df_pychromvar = pd.DataFrame(dev.X, \n",
    "                             columns=dev.var_names, \n",
    "                             index=dev.obs_names)\n",
    "np.mean(df_pychromvar.corrwith(df_chromvar, axis = 1))"
   ]
  },
  {
   "cell_type": "markdown",
   "id": "6313d182-3d69-4284-b74c-19e7283001a4",
   "metadata": {},
   "source": [
    "We can see the corrleation kept almost unchanged, meaning that both methods identified similar background peaks."
   ]
  },
  {
   "cell_type": "markdown",
   "id": "099f19b6-0aa9-4294-9ff7-10671b8d1cae",
   "metadata": {},
   "source": [
    "Let's try to perturb the motif matching results:"
   ]
  },
  {
   "cell_type": "code",
   "execution_count": 17,
   "id": "27a980fe-301e-4054-a8b1-f40279ad6a61",
   "metadata": {},
   "outputs": [],
   "source": [
    "df_motif_match = pd.read_csv(\"./chromvar_motif_match.csv\", index_col=0)\n",
    "adata.varm['motif_match'] = df_motif_match.to_numpy()"
   ]
  },
  {
   "cell_type": "code",
   "execution_count": 18,
   "id": "fbca6613-96e6-42ca-b84d-bc83bddc3e5b",
   "metadata": {},
   "outputs": [
    {
     "name": "stderr",
     "output_type": "stream",
     "text": [
      "2023-01-27 21:12:01 INFO     computing expectation reads per cell and peak...\n",
      "2023-01-27 21:12:01 INFO     computing observed motif deviations...\n",
      "/Users/zhijianli/miniconda3/envs/pychromvar/lib/python3.9/site-packages/pychromvar/compute_deviations.py:103: RuntimeWarning: invalid value encountered in divide\n",
      "  return ((observed - expected) / expected)\n",
      "2023-01-27 21:12:01 INFO     computing background deviations...\n",
      "/Users/zhijianli/miniconda3/envs/pychromvar/lib/python3.9/site-packages/pychromvar/compute_deviations.py:103: RuntimeWarning: invalid value encountered in divide\n",
      "  return ((observed - expected) / expected)\n",
      "/Users/zhijianli/miniconda3/envs/pychromvar/lib/python3.9/site-packages/pychromvar/compute_deviations.py:103: RuntimeWarning: invalid value encountered in divide\n",
      "  return ((observed - expected) / expected)\n",
      "/Users/zhijianli/miniconda3/envs/pychromvar/lib/python3.9/site-packages/pychromvar/compute_deviations.py:103: RuntimeWarning: invalid value encountered in divide\n",
      "  return ((observed - expected) / expected)\n",
      "/Users/zhijianli/miniconda3/envs/pychromvar/lib/python3.9/site-packages/pychromvar/compute_deviations.py:103: RuntimeWarning: invalid value encountered in divide\n",
      "  return ((observed - expected) / expected)\n",
      "/Users/zhijianli/miniconda3/envs/pychromvar/lib/python3.9/site-packages/pychromvar/compute_deviations.py:103: RuntimeWarning: invalid value encountered in divide\n",
      "  return ((observed - expected) / expected)\n",
      "/Users/zhijianli/miniconda3/envs/pychromvar/lib/python3.9/site-packages/pychromvar/compute_deviations.py:103: RuntimeWarning: invalid value encountered in divide\n",
      "  return ((observed - expected) / expected)\n",
      "/Users/zhijianli/miniconda3/envs/pychromvar/lib/python3.9/site-packages/pychromvar/compute_deviations.py:103: RuntimeWarning: invalid value encountered in divide\n",
      "  return ((observed - expected) / expected)\n",
      "/Users/zhijianli/miniconda3/envs/pychromvar/lib/python3.9/site-packages/pychromvar/compute_deviations.py:103: RuntimeWarning: invalid value encountered in divide\n",
      "  return ((observed - expected) / expected)\n"
     ]
    }
   ],
   "source": [
    "dev = pc.compute_deviations(adata)"
   ]
  },
  {
   "cell_type": "code",
   "execution_count": 19,
   "id": "7289e19c-bfcd-4ccd-b0d5-f9abe20d00f4",
   "metadata": {},
   "outputs": [
    {
     "data": {
      "text/plain": [
       "0.9755521523075352"
      ]
     },
     "execution_count": 19,
     "metadata": {},
     "output_type": "execute_result"
    }
   ],
   "source": [
    "df_pychromvar = pd.DataFrame(dev.X, \n",
    "                             columns=dev.var_names, \n",
    "                             index=dev.obs_names)\n",
    "np.mean(df_pychromvar.corrwith(df_chromvar, axis = 1))"
   ]
  },
  {
   "cell_type": "markdown",
   "id": "f3fe9a25-30ad-41d3-8653-21d49a0c776c",
   "metadata": {},
   "source": [
    "Wooow! We got a 0.978 correlation, almost the exactly same results as chromVAR. So it is the motif matching that causes the diveregence between these two packages.\n",
    "After checking MOODS-python and motifmatchr, I found that they are actualy based on different version of MOODS, i.e., MOODS-python is based on 1.9.4 while motifmatchr is based on 1.9.3. Another reason could be that the reference genome sequences are slightly different."
   ]
  },
  {
   "cell_type": "code",
   "execution_count": null,
   "id": "023481b4-b5c3-4301-9bb1-e114025ef77b",
   "metadata": {},
   "outputs": [],
   "source": []
  }
 ],
 "metadata": {
  "kernelspec": {
   "display_name": "Python 3 (ipykernel)",
   "language": "python",
   "name": "python3"
  },
  "language_info": {
   "codemirror_mode": {
    "name": "ipython",
    "version": 3
   },
   "file_extension": ".py",
   "mimetype": "text/x-python",
   "name": "python",
   "nbconvert_exporter": "python",
   "pygments_lexer": "ipython3",
   "version": "3.9.15"
  }
 },
 "nbformat": 4,
 "nbformat_minor": 5
}
