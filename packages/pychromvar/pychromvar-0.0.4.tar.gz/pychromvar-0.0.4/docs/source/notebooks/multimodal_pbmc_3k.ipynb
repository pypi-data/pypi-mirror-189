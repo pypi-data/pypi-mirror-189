{
 "cells": [
  {
   "cell_type": "markdown",
   "id": "91f91428-c6d7-48c6-9ccc-dc0fd4ee60f5",
   "metadata": {},
   "source": [
    "# TF analysis for single-cell multimodal PBMC"
   ]
  },
  {
   "cell_type": "code",
   "execution_count": 1,
   "id": "30b8dc9f-1a80-47d8-87dc-855804e99269",
   "metadata": {},
   "outputs": [],
   "source": [
    "import os\n",
    "import numpy as np\n",
    "import pandas as pd\n",
    "import scanpy as sc\n",
    "import anndata as ad\n",
    "import muon as mu\n",
    "from muon import atac as ac\n",
    "from pyjaspar import jaspardb\n",
    "import pychromvar as pc"
   ]
  },
  {
   "cell_type": "code",
   "execution_count": 2,
   "id": "d289dbf6-b505-4181-9fdd-ef759c1abac1",
   "metadata": {},
   "outputs": [
    {
     "data": {
      "text/plain": [
       "'0.0.2'"
      ]
     },
     "execution_count": 2,
     "metadata": {},
     "output_type": "execute_result"
    }
   ],
   "source": [
    "pc.__version__"
   ]
  },
  {
   "cell_type": "markdown",
   "id": "0fe81fab-3eb4-4a67-9cd7-97be649179e5",
   "metadata": {},
   "source": [
    "download data"
   ]
  },
  {
   "cell_type": "code",
   "execution_count": 3,
   "id": "0b51ecc0-d520-4dbe-9e24-93193921c827",
   "metadata": {},
   "outputs": [
    {
     "name": "stdout",
     "output_type": "stream",
     "text": [
      "--2023-01-28 05:38:05--  https://cf.10xgenomics.com/samples/cell-arc/2.0.0/pbmc_granulocyte_sorted_3k/pbmc_granulocyte_sorted_3k_filtered_feature_bc_matrix.h5\n",
      "Resolving cf.10xgenomics.com (cf.10xgenomics.com)... 104.18.0.173, 104.18.1.173, 2606:4700::6812:ad, ...\n",
      "Connecting to cf.10xgenomics.com (cf.10xgenomics.com)|104.18.0.173|:443... connected.\n",
      "HTTP request sent, awaiting response... 200 OK\n",
      "Length: 38844318 (37M) [binary/octet-stream]\n",
      "Saving to: ‘pbmc_granulocyte_sorted_3k_filtered_feature_bc_matrix.h5’\n",
      "\n",
      "pbmc_granulocyte_so 100%[===================>]  37.04M   101MB/s    in 0.4s    \n",
      "\n",
      "2023-01-28 05:38:05 (101 MB/s) - ‘pbmc_granulocyte_sorted_3k_filtered_feature_bc_matrix.h5’ saved [38844318/38844318]\n",
      "\n"
     ]
    }
   ],
   "source": [
    "!wget https://cf.10xgenomics.com/samples/cell-arc/2.0.0/pbmc_granulocyte_sorted_3k/pbmc_granulocyte_sorted_3k_filtered_feature_bc_matrix.h5"
   ]
  },
  {
   "cell_type": "markdown",
   "id": "b25dd7bc-7734-4f90-b075-fd37911b80f1",
   "metadata": {},
   "source": [
    "Loda data as Mudata object"
   ]
  },
  {
   "cell_type": "code",
   "execution_count": 4,
   "id": "417a330d-09ca-4ac4-9307-a2a0b690e225",
   "metadata": {},
   "outputs": [
    {
     "name": "stderr",
     "output_type": "stream",
     "text": [
      "/home/rs619065/miniconda3/envs/r-4.1/lib/python3.8/site-packages/anndata/_core/anndata.py:1830: UserWarning: Variable names are not unique. To make them unique, call `.var_names_make_unique`.\n",
      "  utils.warn_names_duplicates(\"var\")\n"
     ]
    },
    {
     "name": "stdout",
     "output_type": "stream",
     "text": [
      "Added `interval` annotation for features from pbmc_granulocyte_sorted_3k_filtered_feature_bc_matrix.h5\n"
     ]
    },
    {
     "name": "stderr",
     "output_type": "stream",
     "text": [
      "/home/rs619065/miniconda3/envs/r-4.1/lib/python3.8/site-packages/mudata/_core/mudata.py:446: UserWarning: var_names are not unique. To make them unique, call `.var_names_make_unique`.\n",
      "  warnings.warn(\n"
     ]
    }
   ],
   "source": [
    "mdata = mu.read_10x_h5(\"pbmc_granulocyte_sorted_3k_filtered_feature_bc_matrix.h5\")"
   ]
  },
  {
   "cell_type": "code",
   "execution_count": 5,
   "id": "bb049918-db62-473e-921b-2405cefd45a6",
   "metadata": {},
   "outputs": [],
   "source": [
    "mdata.var_names_make_unique()"
   ]
  },
  {
   "cell_type": "markdown",
   "id": "01550c60-f861-4ef8-bb10-15417888d1b3",
   "metadata": {},
   "source": [
    "### Quality control of RNA-seq data"
   ]
  },
  {
   "cell_type": "code",
   "execution_count": 6,
   "id": "f6c6d44c-d7d7-47e0-ac1b-ba042defc361",
   "metadata": {},
   "outputs": [],
   "source": [
    "# compute quality\n",
    "mdata['rna'].var['mt'] = mdata['rna'].var_names.str.startswith('MT-')\n",
    "sc.pp.calculate_qc_metrics(mdata['rna'], qc_vars=['mt'], percent_top=None, log1p=False, inplace=True)\n",
    "\n",
    "# control quality\n",
    "mu.pp.filter_var(mdata['rna'], 'n_cells_by_counts', lambda x: x >= 3)\n",
    "mu.pp.filter_obs(mdata['rna'], 'n_genes_by_counts', lambda x: (x >= 200) & (x < 5000))\n",
    "mu.pp.filter_obs(mdata['rna'], 'total_counts', lambda x: x < 15000)\n",
    "mu.pp.filter_obs(mdata['rna'], 'pct_counts_mt', lambda x: x < 20)"
   ]
  },
  {
   "cell_type": "markdown",
   "id": "9c30da44-96c0-4bee-aa96-34989538758d",
   "metadata": {},
   "source": [
    "### Quality control of ATAC-seq data"
   ]
  },
  {
   "cell_type": "code",
   "execution_count": 7,
   "id": "5b589652-5333-468c-99b4-bccbf2c4c54d",
   "metadata": {},
   "outputs": [],
   "source": [
    "sc.pp.calculate_qc_metrics(mdata['atac'], percent_top=None, log1p=False, inplace=True)\n",
    "\n",
    "mu.pp.filter_var(mdata['atac'], 'n_cells_by_counts', lambda x: x >= 50)\n",
    "mu.pp.filter_obs(mdata['atac'], 'n_genes_by_counts', lambda x: (x >= 2000) & (x <= 15000))\n",
    "mu.pp.filter_obs(mdata['atac'], 'total_counts', lambda x: (x >= 4000) & (x <= 40000))"
   ]
  },
  {
   "cell_type": "markdown",
   "id": "2e34e038-a623-498d-a87a-887d8ad6b7ac",
   "metadata": {},
   "source": [
    "only keep cells that pass the control for both modalities"
   ]
  },
  {
   "cell_type": "code",
   "execution_count": 8,
   "id": "74314d6f-7b92-4448-a48e-849e018232ea",
   "metadata": {},
   "outputs": [],
   "source": [
    "mu.pp.intersect_obs(mdata)"
   ]
  },
  {
   "cell_type": "markdown",
   "id": "4dd3fc8b-5d16-46ad-859f-b9fa447cd93c",
   "metadata": {},
   "source": [
    "### Data normalization and PCA for RNA"
   ]
  },
  {
   "cell_type": "code",
   "execution_count": 9,
   "id": "faad49aa-1e48-47d3-acb2-8f2fa8c9a726",
   "metadata": {},
   "outputs": [],
   "source": [
    "mdata['rna'].layers[\"counts\"] = mdata['rna'].X.copy()\n",
    "sc.pp.normalize_total(mdata['rna'], target_sum=1e4)\n",
    "sc.pp.log1p(mdata['rna'])\n",
    "\n",
    "sc.pp.highly_variable_genes(mdata['rna'], min_mean=0.02, max_mean=4, min_disp=0.5)\n",
    "sc.pp.scale(mdata['rna'], max_value=10)\n",
    "sc.tl.pca(mdata['rna'], svd_solver='arpack')"
   ]
  },
  {
   "cell_type": "markdown",
   "id": "5ded811c-6144-4922-aac0-5c04fa5b3389",
   "metadata": {},
   "source": [
    "### Data normalization and LSI for ATAC"
   ]
  },
  {
   "cell_type": "code",
   "execution_count": 10,
   "id": "edaffe81-db0b-44af-8073-ce55f339e8aa",
   "metadata": {},
   "outputs": [],
   "source": [
    "mdata['atac'].layers[\"counts\"] = mdata['atac'].X\n",
    "ac.pp.tfidf(mdata['atac'], scale_factor=None)\n",
    "ac.tl.lsi(mdata['atac'])\n",
    "mdata['atac'].obsm['X_lsi'] = mdata['atac'].obsm['X_lsi'][:,1:]\n",
    "mdata['atac'].varm[\"LSI\"] = mdata['atac'].varm[\"LSI\"][:,1:]\n",
    "mdata['atac'].uns[\"lsi\"][\"stdev\"] = mdata['atac'].uns[\"lsi\"][\"stdev\"][1:]"
   ]
  },
  {
   "cell_type": "markdown",
   "id": "26b3eff5-38aa-41ea-9d1d-719335b8c9d3",
   "metadata": {},
   "source": [
    "### Multi-modal data integration of RNA/ATAC with WNN analysis"
   ]
  },
  {
   "cell_type": "code",
   "execution_count": 11,
   "id": "894864f5-fc77-4a98-a30f-111e428d863d",
   "metadata": {},
   "outputs": [
    {
     "name": "stderr",
     "output_type": "stream",
     "text": [
      "/home/rs619065/miniconda3/envs/r-4.1/lib/python3.8/site-packages/pynndescent/pynndescent_.py:334: NumbaWarning: Cannot cache compiled function \"generate_leaf_updates\" as it uses dynamic globals (such as ctypes pointers and large global arrays)\n",
      "  init_rp_tree(data, dist, current_graph, leaf_array)\n",
      "/home/rs619065/miniconda3/envs/r-4.1/lib/python3.8/site-packages/pynndescent/pynndescent_.py:334: NumbaWarning: Cannot cache compiled function \"init_rp_tree\" as it uses dynamic globals (such as ctypes pointers and large global arrays)\n",
      "  init_rp_tree(data, dist, current_graph, leaf_array)\n",
      "/home/rs619065/miniconda3/envs/r-4.1/lib/python3.8/site-packages/pynndescent/pynndescent_.py:336: NumbaWarning: Cannot cache compiled function \"init_random\" as it uses dynamic globals (such as ctypes pointers and large global arrays)\n",
      "  init_random(n_neighbors, data, current_graph, dist, rng_state)\n",
      "/home/rs619065/miniconda3/envs/r-4.1/lib/python3.8/site-packages/pynndescent/pynndescent_.py:346: NumbaWarning: Cannot cache compiled function \"generate_graph_updates\" as it uses dynamic globals (such as ctypes pointers and large global arrays)\n",
      "  nn_descent_internal_low_memory_parallel(\n",
      "/home/rs619065/miniconda3/envs/r-4.1/lib/python3.8/site-packages/pynndescent/pynndescent_.py:346: NumbaWarning: Cannot cache compiled function \"process_candidates\" as it uses dynamic globals (such as ctypes pointers and large global arrays)\n",
      "  nn_descent_internal_low_memory_parallel(\n"
     ]
    }
   ],
   "source": [
    "sc.pp.neighbors(mdata['rna'], n_neighbors=10, n_pcs=20)\n",
    "sc.pp.neighbors(mdata['atac'], use_rep=\"X_lsi\", n_neighbors=10, n_pcs=20)\n",
    "mu.pp.neighbors(mdata, key_added='wnn')"
   ]
  },
  {
   "cell_type": "markdown",
   "id": "fe810ce8-34f5-4ad4-8811-3fd687c6a955",
   "metadata": {},
   "source": [
    "We can visualize the cells in this integrated space"
   ]
  },
  {
   "cell_type": "code",
   "execution_count": 12,
   "id": "00664c36-3048-4d75-87d2-450386a5f30f",
   "metadata": {},
   "outputs": [
    {
     "data": {
      "image/png": "[encoded data removed]",
      "text/plain": [
       "<Figure size 432x288 with 1 Axes>"
      ]
     },
     "metadata": {},
     "output_type": "display_data"
    }
   ],
   "source": [
    "mu.tl.umap(mdata, neighbors_key='wnn', random_state=10)\n",
    "mdata.obsm[\"X_wnn_umap\"] = mdata.obsm[\"X_umap\"]\n",
    "\n",
    "sc.tl.leiden(mdata, resolution=.3, neighbors_key='wnn', key_added='leiden_wnn')\n",
    "mu.pl.umap(mdata, color=['leiden_wnn'], frameon=False, title=\"UMAP embedding\", legend_loc=\"on data\")"
   ]
  },
  {
   "cell_type": "markdown",
   "id": "5e6463ce-c62e-46cf-a7ef-49bde644a28c",
   "metadata": {},
   "source": [
    "Add the clustering results to RNA and ATAC modality"
   ]
  },
  {
   "cell_type": "code",
   "execution_count": 13,
   "id": "be8e0e89-df55-4189-8f41-8967aa3e06bc",
   "metadata": {},
   "outputs": [],
   "source": [
    "# add the clustering results to chromvar modality\n",
    "mdata['rna'].obs['leiden_wnn'] = mdata.obs['leiden_wnn']\n",
    "mdata['atac'].obs['leiden_wnn'] = mdata.obs['leiden_wnn']"
   ]
  },
  {
   "cell_type": "markdown",
   "id": "936597d7-97d7-4f62-9160-7bd489c995a0",
   "metadata": {},
   "source": [
    "Perform differential expression analysis"
   ]
  },
  {
   "cell_type": "code",
   "execution_count": 14,
   "id": "a069e951-7f3e-4e48-aacf-a64942881037",
   "metadata": {},
   "outputs": [
    {
     "name": "stderr",
     "output_type": "stream",
     "text": [
      "... storing 'feature_types' as categorical\n",
      "... storing 'genome' as categorical\n",
      "... storing 'interval' as categorical\n",
      "/home/rs619065/miniconda3/envs/r-4.1/lib/python3.8/site-packages/scanpy/tools/_rank_genes_groups.py:420: RuntimeWarning: invalid value encountered in log2\n",
      "  self.stats[group_name, 'logfoldchanges'] = np.log2(\n"
     ]
    },
    {
     "data": {
      "text/html": [
       "<div>\n",
       "<style scoped>\n",
       "    .dataframe tbody tr th:only-of-type {\n",
       "        vertical-align: middle;\n",
       "    }\n",
       "\n",
       "    .dataframe tbody tr th {\n",
       "        vertical-align: top;\n",
       "    }\n",
       "\n",
       "    .dataframe thead th {\n",
       "        text-align: right;\n",
       "    }\n",
       "</style>\n",
       "<table border=\"1\" class=\"dataframe\">\n",
       "  <thead>\n",
       "    <tr style=\"text-align: right;\">\n",
       "      <th></th>\n",
       "      <th>0</th>\n",
       "      <th>1</th>\n",
       "      <th>2</th>\n",
       "      <th>3</th>\n",
       "      <th>4</th>\n",
       "      <th>5</th>\n",
       "      <th>6</th>\n",
       "      <th>7</th>\n",
       "      <th>8</th>\n",
       "      <th>9</th>\n",
       "    </tr>\n",
       "  </thead>\n",
       "  <tbody>\n",
       "    <tr>\n",
       "      <th>0</th>\n",
       "      <td>DPYD</td>\n",
       "      <td>IL32</td>\n",
       "      <td>FHIT</td>\n",
       "      <td>LEF1</td>\n",
       "      <td>BANK1</td>\n",
       "      <td>CCL5</td>\n",
       "      <td>FCGR3A</td>\n",
       "      <td>GNLY</td>\n",
       "      <td>HLA-DPB1</td>\n",
       "      <td>PTPRS</td>\n",
       "    </tr>\n",
       "    <tr>\n",
       "      <th>1</th>\n",
       "      <td>PLXDC2</td>\n",
       "      <td>LTB</td>\n",
       "      <td>LEF1</td>\n",
       "      <td>BACH2</td>\n",
       "      <td>RALGPS2</td>\n",
       "      <td>NKG7</td>\n",
       "      <td>IFITM3</td>\n",
       "      <td>PRF1</td>\n",
       "      <td>HLA-DRA</td>\n",
       "      <td>TCF4</td>\n",
       "    </tr>\n",
       "    <tr>\n",
       "      <th>2</th>\n",
       "      <td>NEAT1</td>\n",
       "      <td>INPP4B</td>\n",
       "      <td>BCL11B</td>\n",
       "      <td>THEMIS</td>\n",
       "      <td>MS4A1</td>\n",
       "      <td>GZMA</td>\n",
       "      <td>LST1</td>\n",
       "      <td>NKG7</td>\n",
       "      <td>HLA-DPA1</td>\n",
       "      <td>LINC01374</td>\n",
       "    </tr>\n",
       "    <tr>\n",
       "      <th>3</th>\n",
       "      <td>LRMDA</td>\n",
       "      <td>EEF1A1</td>\n",
       "      <td>MALAT1</td>\n",
       "      <td>NELL2</td>\n",
       "      <td>AFF3</td>\n",
       "      <td>CST7</td>\n",
       "      <td>AIF1</td>\n",
       "      <td>CD247</td>\n",
       "      <td>CST3</td>\n",
       "      <td>IRF8</td>\n",
       "    </tr>\n",
       "    <tr>\n",
       "      <th>4</th>\n",
       "      <td>FCN1</td>\n",
       "      <td>IL7R</td>\n",
       "      <td>CAMK4</td>\n",
       "      <td>CD8B</td>\n",
       "      <td>PAX5</td>\n",
       "      <td>CTSW</td>\n",
       "      <td>SERPINA1</td>\n",
       "      <td>KLRD1</td>\n",
       "      <td>HLA-DRB1</td>\n",
       "      <td>ZFAT</td>\n",
       "    </tr>\n",
       "    <tr>\n",
       "      <th>5</th>\n",
       "      <td>JAK2</td>\n",
       "      <td>ITGB1</td>\n",
       "      <td>BACH2</td>\n",
       "      <td>PDE3B</td>\n",
       "      <td>CD74</td>\n",
       "      <td>IL32</td>\n",
       "      <td>TCF7L2</td>\n",
       "      <td>GZMA</td>\n",
       "      <td>CD74</td>\n",
       "      <td>FCHSD2</td>\n",
       "    </tr>\n",
       "    <tr>\n",
       "      <th>6</th>\n",
       "      <td>VCAN</td>\n",
       "      <td>TPT1</td>\n",
       "      <td>INPP4B</td>\n",
       "      <td>OXNAD1</td>\n",
       "      <td>CD79A</td>\n",
       "      <td>PRF1</td>\n",
       "      <td>FCER1G</td>\n",
       "      <td>CTSW</td>\n",
       "      <td>FLT3</td>\n",
       "      <td>LINC00996</td>\n",
       "    </tr>\n",
       "    <tr>\n",
       "      <th>7</th>\n",
       "      <td>SLC8A1</td>\n",
       "      <td>RPL41</td>\n",
       "      <td>OXNAD1</td>\n",
       "      <td>CD8A</td>\n",
       "      <td>LINC00926</td>\n",
       "      <td>A2M</td>\n",
       "      <td>PSAP</td>\n",
       "      <td>CST7</td>\n",
       "      <td>HLA-DRB5</td>\n",
       "      <td>CUX2</td>\n",
       "    </tr>\n",
       "    <tr>\n",
       "      <th>8</th>\n",
       "      <td>ARHGAP26</td>\n",
       "      <td>TRAC</td>\n",
       "      <td>TCF7</td>\n",
       "      <td>CCR7</td>\n",
       "      <td>IGHM</td>\n",
       "      <td>GNLY</td>\n",
       "      <td>IFI30</td>\n",
       "      <td>SPON2</td>\n",
       "      <td>HLA-DQA1</td>\n",
       "      <td>PLD4</td>\n",
       "    </tr>\n",
       "    <tr>\n",
       "      <th>9</th>\n",
       "      <td>DENND1A</td>\n",
       "      <td>RPS18</td>\n",
       "      <td>ANK3</td>\n",
       "      <td>TXK</td>\n",
       "      <td>CD79B</td>\n",
       "      <td>HCST</td>\n",
       "      <td>CST3</td>\n",
       "      <td>GZMB</td>\n",
       "      <td>GAPDH</td>\n",
       "      <td>CCDC50</td>\n",
       "    </tr>\n",
       "  </tbody>\n",
       "</table>\n",
       "</div>"
      ],
      "text/plain": [
       "          0       1       2       3          4     5         6      7  \\\n",
       "0      DPYD    IL32    FHIT    LEF1      BANK1  CCL5    FCGR3A   GNLY   \n",
       "1    PLXDC2     LTB    LEF1   BACH2    RALGPS2  NKG7    IFITM3   PRF1   \n",
       "2     NEAT1  INPP4B  BCL11B  THEMIS      MS4A1  GZMA      LST1   NKG7   \n",
       "3     LRMDA  EEF1A1  MALAT1   NELL2       AFF3  CST7      AIF1  CD247   \n",
       "4      FCN1    IL7R   CAMK4    CD8B       PAX5  CTSW  SERPINA1  KLRD1   \n",
       "5      JAK2   ITGB1   BACH2   PDE3B       CD74  IL32    TCF7L2   GZMA   \n",
       "6      VCAN    TPT1  INPP4B  OXNAD1      CD79A  PRF1    FCER1G   CTSW   \n",
       "7    SLC8A1   RPL41  OXNAD1    CD8A  LINC00926   A2M      PSAP   CST7   \n",
       "8  ARHGAP26    TRAC    TCF7    CCR7       IGHM  GNLY     IFI30  SPON2   \n",
       "9   DENND1A   RPS18    ANK3     TXK      CD79B  HCST      CST3   GZMB   \n",
       "\n",
       "          8          9  \n",
       "0  HLA-DPB1      PTPRS  \n",
       "1   HLA-DRA       TCF4  \n",
       "2  HLA-DPA1  LINC01374  \n",
       "3      CST3       IRF8  \n",
       "4  HLA-DRB1       ZFAT  \n",
       "5      CD74     FCHSD2  \n",
       "6      FLT3  LINC00996  \n",
       "7  HLA-DRB5       CUX2  \n",
       "8  HLA-DQA1       PLD4  \n",
       "9     GAPDH     CCDC50  "
      ]
     },
     "execution_count": 14,
     "metadata": {},
     "output_type": "execute_result"
    }
   ],
   "source": [
    "sc.tl.rank_genes_groups(mdata['rna'], 'leiden_wnn', method='wilcoxon')\n",
    "pd.DataFrame(mdata['rna'].uns['rank_genes_groups']['names']).head(10)"
   ]
  },
  {
   "cell_type": "markdown",
   "id": "313bc710-7331-4879-9951-16dc27605be3",
   "metadata": {},
   "source": [
    "### Motif analysis with pychromVAR"
   ]
  },
  {
   "cell_type": "markdown",
   "id": "025126e2-3d61-4a3b-9be8-ee94d057f4bf",
   "metadata": {},
   "source": [
    "We first download the genome sequence, here hg38 is used."
   ]
  },
  {
   "cell_type": "code",
   "execution_count": 15,
   "id": "538d9233-f715-4ebd-8e41-4ac1049903cf",
   "metadata": {},
   "outputs": [],
   "source": [
    "pc.get_genome(\"hg38\", output_dir=\"./\")"
   ]
  },
  {
   "cell_type": "markdown",
   "id": "7daf9920-cee8-46ce-9b7a-d949411addde",
   "metadata": {},
   "source": [
    "Pre-processing data and perform motif matching"
   ]
  },
  {
   "cell_type": "code",
   "execution_count": 16,
   "id": "a81bb6e3-62da-4263-acaa-23de261440c5",
   "metadata": {},
   "outputs": [
    {
     "name": "stderr",
     "output_type": "stream",
     "text": [
      "100%|██████████| 62871/62871 [00:00<00:00, 67751.41it/s]\n",
      "100%|██████████| 62871/62871 [00:00<00:00, 86294.72it/s]\n",
      "100%|██████████| 62871/62871 [00:47<00:00, 1320.46it/s]\n"
     ]
    }
   ],
   "source": [
    "mdata['atac'].X = mdata['atac'].layers[\"counts\"]\n",
    "\n",
    "pc.add_peak_seq(mdata, genome_file=\"./hg38.fa\", delimiter=\":|-\")\n",
    "pc.add_gc_bias(mdata)\n",
    "pc.get_bg_peaks(mdata)\n",
    "\n",
    "# get motifs\n",
    "jdb_obj = jaspardb(release='JASPAR2020')\n",
    "motifs = jdb_obj.fetch_motifs(\n",
    "    collection = 'CORE',\n",
    "    tax_group = ['vertebrates'])\n",
    "\n",
    "pc.match_motif(mdata, motifs=motifs)"
   ]
  },
  {
   "cell_type": "code",
   "execution_count": 17,
   "id": "676a0777-7984-4336-b570-67623007f484",
   "metadata": {},
   "outputs": [
    {
     "data": {
      "text/html": [
       "<pre>MuData object with n_obs × n_vars = 2391 × 134920\n",
       "  obs:\t&#x27;leiden_wnn&#x27;\n",
       "  var:\t&#x27;gene_ids&#x27;, &#x27;feature_types&#x27;, &#x27;genome&#x27;, &#x27;interval&#x27;\n",
       "  obsm:\t&#x27;X_umap&#x27;, &#x27;X_wnn_umap&#x27;\n",
       "  obsp:\t&#x27;wnn_distances&#x27;, &#x27;wnn_connectivities&#x27;\n",
       "  2 modalities\n",
       "    rna:\t2391 x 21256\n",
       "      obs:\t&#x27;n_genes_by_counts&#x27;, &#x27;total_counts&#x27;, &#x27;total_counts_mt&#x27;, &#x27;pct_counts_mt&#x27;, &#x27;leiden_wnn&#x27;\n",
       "      var:\t&#x27;gene_ids&#x27;, &#x27;feature_types&#x27;, &#x27;genome&#x27;, &#x27;interval&#x27;, &#x27;mt&#x27;, &#x27;n_cells_by_counts&#x27;, &#x27;mean_counts&#x27;, &#x27;pct_dropout_by_counts&#x27;, &#x27;total_counts&#x27;, &#x27;highly_variable&#x27;, &#x27;means&#x27;, &#x27;dispersions&#x27;, &#x27;dispersions_norm&#x27;, &#x27;mean&#x27;, &#x27;std&#x27;\n",
       "      uns:\t&#x27;log1p&#x27;, &#x27;hvg&#x27;, &#x27;pca&#x27;, &#x27;neighbors&#x27;, &#x27;rank_genes_groups&#x27;\n",
       "      obsm:\t&#x27;X_pca&#x27;\n",
       "      varm:\t&#x27;PCs&#x27;\n",
       "      layers:\t&#x27;counts&#x27;\n",
       "      obsp:\t&#x27;distances&#x27;, &#x27;connectivities&#x27;\n",
       "    atac:\t2391 x 62871\n",
       "      obs:\t&#x27;n_genes_by_counts&#x27;, &#x27;total_counts&#x27;, &#x27;leiden_wnn&#x27;\n",
       "      var:\t&#x27;gene_ids&#x27;, &#x27;feature_types&#x27;, &#x27;genome&#x27;, &#x27;interval&#x27;, &#x27;n_cells_by_counts&#x27;, &#x27;mean_counts&#x27;, &#x27;pct_dropout_by_counts&#x27;, &#x27;total_counts&#x27;, &#x27;gc_bias&#x27;\n",
       "      uns:\t&#x27;lsi&#x27;, &#x27;neighbors&#x27;, &#x27;peak_seq&#x27;, &#x27;motif_name&#x27;\n",
       "      obsm:\t&#x27;X_lsi&#x27;\n",
       "      varm:\t&#x27;LSI&#x27;, &#x27;bg_peaks&#x27;, &#x27;motif_match&#x27;\n",
       "      layers:\t&#x27;counts&#x27;\n",
       "      obsp:\t&#x27;distances&#x27;, &#x27;connectivities&#x27;</pre>"
      ],
      "text/plain": [
       "MuData object with n_obs × n_vars = 2391 × 134920\n",
       "  obs:\t'leiden_wnn'\n",
       "  var:\t'gene_ids', 'feature_types', 'genome', 'interval'\n",
       "  obsm:\t'X_umap', 'X_wnn_umap'\n",
       "  obsp:\t'wnn_distances', 'wnn_connectivities'\n",
       "  2 modalities\n",
       "    rna:\t2391 x 21256\n",
       "      obs:\t'n_genes_by_counts', 'total_counts', 'total_counts_mt', 'pct_counts_mt', 'leiden_wnn'\n",
       "      var:\t'gene_ids', 'feature_types', 'genome', 'interval', 'mt', 'n_cells_by_counts', 'mean_counts', 'pct_dropout_by_counts', 'total_counts', 'highly_variable', 'means', 'dispersions', 'dispersions_norm', 'mean', 'std'\n",
       "      uns:\t'log1p', 'hvg', 'pca', 'neighbors', 'rank_genes_groups'\n",
       "      obsm:\t'X_pca'\n",
       "      varm:\t'PCs'\n",
       "      layers:\t'counts'\n",
       "      obsp:\t'distances', 'connectivities'\n",
       "    atac:\t2391 x 62871\n",
       "      obs:\t'n_genes_by_counts', 'total_counts', 'leiden_wnn'\n",
       "      var:\t'gene_ids', 'feature_types', 'genome', 'interval', 'n_cells_by_counts', 'mean_counts', 'pct_dropout_by_counts', 'total_counts', 'gc_bias'\n",
       "      uns:\t'lsi', 'neighbors', 'peak_seq', 'motif_name'\n",
       "      obsm:\t'X_lsi'\n",
       "      varm:\t'LSI', 'bg_peaks', 'motif_match'\n",
       "      layers:\t'counts'\n",
       "      obsp:\t'distances', 'connectivities'"
      ]
     },
     "execution_count": 17,
     "metadata": {},
     "output_type": "execute_result"
    }
   ],
   "source": [
    "mdata"
   ]
  },
  {
   "cell_type": "code",
   "execution_count": 18,
   "id": "34fc8343-b534-420b-bcf2-8a9d733de665",
   "metadata": {},
   "outputs": [
    {
     "name": "stderr",
     "output_type": "stream",
     "text": [
      "2023-01-28 05:46:47 INFO     computing expectation reads per cell and peak...\n",
      "2023-01-28 05:46:47 INFO     computing observed motif deviations...\n",
      "2023-01-28 05:46:47 INFO     computing background deviations...\n"
     ]
    },
    {
     "data": {
      "text/plain": [
       "AnnData object with n_obs × n_vars = 2391 × 746"
      ]
     },
     "execution_count": 18,
     "metadata": {},
     "output_type": "execute_result"
    }
   ],
   "source": [
    "dev = pc.compute_deviations(mdata)\n",
    "dev"
   ]
  },
  {
   "cell_type": "markdown",
   "id": "525570cb-eb62-4011-8292-160fe05ac8e8",
   "metadata": {},
   "source": [
    "We can add it to mdata as another modality"
   ]
  },
  {
   "cell_type": "code",
   "execution_count": 19,
   "id": "4e20a96a-5b6f-4083-a041-2f42548e7fed",
   "metadata": {},
   "outputs": [],
   "source": [
    "mdata.mod['chromvar'] = dev\n",
    "mdata.mod['chromvar'].raw = dev"
   ]
  },
  {
   "cell_type": "markdown",
   "id": "6768a2a0-d8c3-498f-a060-245e7cf06036",
   "metadata": {},
   "source": [
    "Then we can analysis and visualize the motif variability as if they are RNA-seq data"
   ]
  },
  {
   "cell_type": "code",
   "execution_count": 20,
   "id": "043b9284-da17-4bc4-a3c1-407ebc133631",
   "metadata": {},
   "outputs": [],
   "source": [
    "# add the clustering results to chromvar modality\n",
    "mdata['chromvar'].obs['leiden_wnn'] = mdata.obs['leiden_wnn']"
   ]
  },
  {
   "cell_type": "markdown",
   "id": "97e2750d-dd04-458c-867c-b336bcfb4f96",
   "metadata": {},
   "source": [
    "We can perform differential analysis to identify marker motifs for each cluster"
   ]
  },
  {
   "cell_type": "code",
   "execution_count": 21,
   "id": "98fc5703-b19a-4f40-9639-28c7a1e31e22",
   "metadata": {},
   "outputs": [
    {
     "name": "stderr",
     "output_type": "stream",
     "text": [
      "/home/rs619065/miniconda3/envs/r-4.1/lib/python3.8/site-packages/scanpy/tools/_rank_genes_groups.py:420: RuntimeWarning: invalid value encountered in log2\n",
      "  self.stats[group_name, 'logfoldchanges'] = np.log2(\n"
     ]
    }
   ],
   "source": [
    "sc.tl.rank_genes_groups(mdata['chromvar'], 'leiden_wnn', method='wilcoxon', use_raw=True)"
   ]
  },
  {
   "cell_type": "markdown",
   "id": "7a9d9e48-e4c0-4694-a2a9-7ec5abe2f162",
   "metadata": {},
   "source": [
    "Print the top10 motifs per cluster:"
   ]
  },
  {
   "cell_type": "code",
   "execution_count": 22,
   "id": "a8ebbcee-dcb7-4328-959e-990a9f5ab301",
   "metadata": {},
   "outputs": [
    {
     "data": {
      "text/html": [
       "<div>\n",
       "<style scoped>\n",
       "    .dataframe tbody tr th:only-of-type {\n",
       "        vertical-align: middle;\n",
       "    }\n",
       "\n",
       "    .dataframe tbody tr th {\n",
       "        vertical-align: top;\n",
       "    }\n",
       "\n",
       "    .dataframe thead th {\n",
       "        text-align: right;\n",
       "    }\n",
       "</style>\n",
       "<table border=\"1\" class=\"dataframe\">\n",
       "  <thead>\n",
       "    <tr style=\"text-align: right;\">\n",
       "      <th></th>\n",
       "      <th>0</th>\n",
       "      <th>1</th>\n",
       "      <th>2</th>\n",
       "      <th>3</th>\n",
       "      <th>4</th>\n",
       "      <th>5</th>\n",
       "      <th>6</th>\n",
       "      <th>7</th>\n",
       "      <th>8</th>\n",
       "      <th>9</th>\n",
       "    </tr>\n",
       "  </thead>\n",
       "  <tbody>\n",
       "    <tr>\n",
       "      <th>0</th>\n",
       "      <td>MA0501.1.MAF::NFE2</td>\n",
       "      <td>MA0769.2.TCF7</td>\n",
       "      <td>MA0523.1.TCF7L2</td>\n",
       "      <td>MA0523.1.TCF7L2</td>\n",
       "      <td>MA0627.2.POU2F3</td>\n",
       "      <td>MA0800.1.EOMES</td>\n",
       "      <td>MA1111.1.NR2F2</td>\n",
       "      <td>MA0800.1.EOMES</td>\n",
       "      <td>MA0081.2.SPIB</td>\n",
       "      <td>MA1100.2.ASCL1</td>\n",
       "    </tr>\n",
       "    <tr>\n",
       "      <th>1</th>\n",
       "      <td>MA0150.2.Nfe2l2</td>\n",
       "      <td>MA1513.1.KLF15</td>\n",
       "      <td>MA0768.1.LEF1</td>\n",
       "      <td>MA0768.1.LEF1</td>\n",
       "      <td>MA1115.1.POU5F1</td>\n",
       "      <td>MA0690.1.TBX21</td>\n",
       "      <td>MA0687.1.SPIC</td>\n",
       "      <td>MA0688.1.TBX2</td>\n",
       "      <td>MA0080.5.SPI1</td>\n",
       "      <td>MA1635.1.BHLHE22(var.2)</td>\n",
       "    </tr>\n",
       "    <tr>\n",
       "      <th>2</th>\n",
       "      <td>MA0089.2.NFE2L1</td>\n",
       "      <td>MA0139.1.CTCF</td>\n",
       "      <td>MA0769.2.TCF7</td>\n",
       "      <td>MA0769.2.TCF7</td>\n",
       "      <td>MA0792.1.POU5F1B</td>\n",
       "      <td>MA0688.1.TBX2</td>\n",
       "      <td>MA0598.3.EHF</td>\n",
       "      <td>MA0690.1.TBX21</td>\n",
       "      <td>MA1508.1.IKZF1</td>\n",
       "      <td>MA0500.2.MYOG</td>\n",
       "    </tr>\n",
       "    <tr>\n",
       "      <th>3</th>\n",
       "      <td>MA0833.2.ATF4</td>\n",
       "      <td>MA0511.2.RUNX2</td>\n",
       "      <td>MA0632.2.TCFL5</td>\n",
       "      <td>MA0006.1.Ahr::Arnt</td>\n",
       "      <td>MA0507.1.POU2F2</td>\n",
       "      <td>MA0802.1.TBR1</td>\n",
       "      <td>MA0859.1.Rarg</td>\n",
       "      <td>MA0802.1.TBR1</td>\n",
       "      <td>MA1652.1.ZKSCAN5</td>\n",
       "      <td>MA0816.1.Ascl2</td>\n",
       "    </tr>\n",
       "    <tr>\n",
       "      <th>4</th>\n",
       "      <td>MA0838.1.CEBPG</td>\n",
       "      <td>MA0685.1.SP4</td>\n",
       "      <td>MA1421.1.TCF7L1</td>\n",
       "      <td>MA1421.1.TCF7L1</td>\n",
       "      <td>MA0785.1.POU2F1</td>\n",
       "      <td>MA0803.1.TBX15</td>\n",
       "      <td>MA0017.2.NR2F1</td>\n",
       "      <td>MA0803.1.TBX15</td>\n",
       "      <td>MA0598.3.EHF</td>\n",
       "      <td>MA1467.1.ATOH1(var.2)</td>\n",
       "    </tr>\n",
       "    <tr>\n",
       "      <th>5</th>\n",
       "      <td>MA0836.2.CEBPD</td>\n",
       "      <td>MA0481.3.FOXP1</td>\n",
       "      <td>MA0006.1.Ahr::Arnt</td>\n",
       "      <td>MA0442.2.SOX10</td>\n",
       "      <td>MA0789.1.POU3F4</td>\n",
       "      <td>MA1567.1.TBX6</td>\n",
       "      <td>MA0136.2.ELF5</td>\n",
       "      <td>MA0689.1.TBX20</td>\n",
       "      <td>MA0640.2.ELF3</td>\n",
       "      <td>MA0832.1.Tcf21</td>\n",
       "    </tr>\n",
       "    <tr>\n",
       "      <th>6</th>\n",
       "      <td>MA1633.1.BACH1</td>\n",
       "      <td>MA1683.1.FOXA3</td>\n",
       "      <td>MA1650.1.ZBTB14</td>\n",
       "      <td>MA0103.3.ZEB1</td>\n",
       "      <td>MA0784.1.POU1F1</td>\n",
       "      <td>MA0689.1.TBX20</td>\n",
       "      <td>MA1508.1.IKZF1</td>\n",
       "      <td>MA1567.1.TBX6</td>\n",
       "      <td>MA0687.1.SPIC</td>\n",
       "      <td>MA0048.2.NHLH1</td>\n",
       "    </tr>\n",
       "    <tr>\n",
       "      <th>7</th>\n",
       "      <td>MA0102.4.CEBPA</td>\n",
       "      <td>MA0768.1.LEF1</td>\n",
       "      <td>MA0732.1.EGR3</td>\n",
       "      <td>MA0139.1.CTCF</td>\n",
       "      <td>MA0787.1.POU3F2</td>\n",
       "      <td>MA1566.1.TBX3</td>\n",
       "      <td>MA0160.1.NR4A2</td>\n",
       "      <td>MA0805.1.TBX1</td>\n",
       "      <td>MA0645.1.ETV6</td>\n",
       "      <td>MA1472.1.BHLHA15(var.2)</td>\n",
       "    </tr>\n",
       "    <tr>\n",
       "      <th>8</th>\n",
       "      <td>MA1636.1.CEBPG(var.2)</td>\n",
       "      <td>MA0042.2.FOXI1</td>\n",
       "      <td>MA0162.4.EGR1</td>\n",
       "      <td>MA0162.4.EGR1</td>\n",
       "      <td>MA0786.1.POU3F1</td>\n",
       "      <td>MA0805.1.TBX1</td>\n",
       "      <td>MA0080.5.SPI1</td>\n",
       "      <td>MA0801.1.MGA</td>\n",
       "      <td>MA0517.1.STAT1::STAT2</td>\n",
       "      <td>MA0698.1.ZBTB18</td>\n",
       "    </tr>\n",
       "    <tr>\n",
       "      <th>9</th>\n",
       "      <td>MA0496.3.MAFK</td>\n",
       "      <td>MA0850.1.FOXP3</td>\n",
       "      <td>MA1102.2.CTCFL</td>\n",
       "      <td>MA1102.2.CTCFL</td>\n",
       "      <td>MA0788.1.POU3F3</td>\n",
       "      <td>MA0801.1.MGA</td>\n",
       "      <td>MA0081.2.SPIB</td>\n",
       "      <td>MA1566.1.TBX3</td>\n",
       "      <td>MA0473.3.ELF1</td>\n",
       "      <td>MA0521.1.Tcf12</td>\n",
       "    </tr>\n",
       "  </tbody>\n",
       "</table>\n",
       "</div>"
      ],
      "text/plain": [
       "                       0               1                   2  \\\n",
       "0     MA0501.1.MAF::NFE2   MA0769.2.TCF7     MA0523.1.TCF7L2   \n",
       "1        MA0150.2.Nfe2l2  MA1513.1.KLF15       MA0768.1.LEF1   \n",
       "2        MA0089.2.NFE2L1   MA0139.1.CTCF       MA0769.2.TCF7   \n",
       "3          MA0833.2.ATF4  MA0511.2.RUNX2      MA0632.2.TCFL5   \n",
       "4         MA0838.1.CEBPG    MA0685.1.SP4     MA1421.1.TCF7L1   \n",
       "5         MA0836.2.CEBPD  MA0481.3.FOXP1  MA0006.1.Ahr::Arnt   \n",
       "6         MA1633.1.BACH1  MA1683.1.FOXA3     MA1650.1.ZBTB14   \n",
       "7         MA0102.4.CEBPA   MA0768.1.LEF1       MA0732.1.EGR3   \n",
       "8  MA1636.1.CEBPG(var.2)  MA0042.2.FOXI1       MA0162.4.EGR1   \n",
       "9          MA0496.3.MAFK  MA0850.1.FOXP3      MA1102.2.CTCFL   \n",
       "\n",
       "                    3                 4               5               6  \\\n",
       "0     MA0523.1.TCF7L2   MA0627.2.POU2F3  MA0800.1.EOMES  MA1111.1.NR2F2   \n",
       "1       MA0768.1.LEF1   MA1115.1.POU5F1  MA0690.1.TBX21   MA0687.1.SPIC   \n",
       "2       MA0769.2.TCF7  MA0792.1.POU5F1B   MA0688.1.TBX2    MA0598.3.EHF   \n",
       "3  MA0006.1.Ahr::Arnt   MA0507.1.POU2F2   MA0802.1.TBR1   MA0859.1.Rarg   \n",
       "4     MA1421.1.TCF7L1   MA0785.1.POU2F1  MA0803.1.TBX15  MA0017.2.NR2F1   \n",
       "5      MA0442.2.SOX10   MA0789.1.POU3F4   MA1567.1.TBX6   MA0136.2.ELF5   \n",
       "6       MA0103.3.ZEB1   MA0784.1.POU1F1  MA0689.1.TBX20  MA1508.1.IKZF1   \n",
       "7       MA0139.1.CTCF   MA0787.1.POU3F2   MA1566.1.TBX3  MA0160.1.NR4A2   \n",
       "8       MA0162.4.EGR1   MA0786.1.POU3F1   MA0805.1.TBX1   MA0080.5.SPI1   \n",
       "9      MA1102.2.CTCFL   MA0788.1.POU3F3    MA0801.1.MGA   MA0081.2.SPIB   \n",
       "\n",
       "                7                      8                        9  \n",
       "0  MA0800.1.EOMES          MA0081.2.SPIB           MA1100.2.ASCL1  \n",
       "1   MA0688.1.TBX2          MA0080.5.SPI1  MA1635.1.BHLHE22(var.2)  \n",
       "2  MA0690.1.TBX21         MA1508.1.IKZF1            MA0500.2.MYOG  \n",
       "3   MA0802.1.TBR1       MA1652.1.ZKSCAN5           MA0816.1.Ascl2  \n",
       "4  MA0803.1.TBX15           MA0598.3.EHF    MA1467.1.ATOH1(var.2)  \n",
       "5  MA0689.1.TBX20          MA0640.2.ELF3           MA0832.1.Tcf21  \n",
       "6   MA1567.1.TBX6          MA0687.1.SPIC           MA0048.2.NHLH1  \n",
       "7   MA0805.1.TBX1          MA0645.1.ETV6  MA1472.1.BHLHA15(var.2)  \n",
       "8    MA0801.1.MGA  MA0517.1.STAT1::STAT2          MA0698.1.ZBTB18  \n",
       "9   MA1566.1.TBX3          MA0473.3.ELF1           MA0521.1.Tcf12  "
      ]
     },
     "execution_count": 22,
     "metadata": {},
     "output_type": "execute_result"
    }
   ],
   "source": [
    "pd.DataFrame(mdata['chromvar'].uns['rank_genes_groups']['names']).head(10)"
   ]
  },
  {
   "cell_type": "markdown",
   "id": "f9f8cf64-39f5-44ab-87d6-7c1c6a71a34a",
   "metadata": {},
   "source": [
    "We can visualize the motif activity and gene expression at the same time."
   ]
  },
  {
   "cell_type": "code",
   "execution_count": 23,
   "id": "25d57410-fe0e-412f-a04a-3564a26a2f85",
   "metadata": {},
   "outputs": [
    {
     "data": {
      "image/png": "[encoded data removed]",
      "text/plain": [
       "<Figure size 1483.92x288 with 6 Axes>"
      ]
     },
     "metadata": {
      "needs_background": "light"
     },
     "output_type": "display_data"
    }
   ],
   "source": [
    "mu.pl.umap(mdata, color=['MA0769.2.TCF7', 'TCF7', \"IL7R\"], frameon=False, vmin='p1', vmax='p99')"
   ]
  },
  {
   "cell_type": "code",
   "execution_count": null,
   "id": "10721dce-f4dc-48d8-a6ce-5049eb476a35",
   "metadata": {},
   "outputs": [],
   "source": []
  }
 ],
 "metadata": {
  "kernelspec": {
   "display_name": "Python 3 (ipykernel)",
   "language": "python",
   "name": "python3"
  },
  "language_info": {
   "codemirror_mode": {
    "name": "ipython",
    "version": 3
   },
   "file_extension": ".py",
   "mimetype": "text/x-python",
   "name": "python",
   "nbconvert_exporter": "python",
   "pygments_lexer": "ipython3",
   "version": "3.8.12"
  }
 },
 "nbformat": 4,
 "nbformat_minor": 5
}
