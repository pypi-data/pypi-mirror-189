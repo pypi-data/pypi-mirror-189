{
 "cells": [
  {
   "attachments": {},
   "cell_type": "markdown",
   "metadata": {},
   "source": [
    "# Run declarative pipeline\n",
    "\n",
    "Simple example of running this declarative pipeline (written in YAML):\n",
    "\n",
    "```{literalinclude} ../include/pipe.yml\n",
    ":language: yaml\n",
    ":linenos:\n",
    ":caption: pipe.yml\n",
    "```"
   ]
  },
  {
   "attachments": {},
   "cell_type": "markdown",
   "metadata": {},
   "source": [
    "First, the (default) AiiDA profile is loaded.\n",
    "To load a specific AiiDA profile, pass it in as a `str` to `load_profile()`."
   ]
  },
  {
   "cell_type": "code",
   "execution_count": null,
   "metadata": {
    "tags": [
     "remove-output"
    ]
   },
   "outputs": [],
   "source": [
    "from aiida import load_profile\n",
    "\n",
    "load_profile()"
   ]
  },
  {
   "attachments": {},
   "cell_type": "markdown",
   "metadata": {},
   "source": [
    "Import the special `run_get_pk` function, to *also* return the workflow's PK (local AiiDA Node ID) in addition to the result output from the workflow, which is a Python `dict` with the named outputs.\n",
    "\n",
    "Further, import and use the factory classes from AiiDA to load an AiiDA `Str` Node, to store the string path to the declarative pipeline, as well as load the ExecFlowSDK WorkChain for running an OTEAPI pipeline."
   ]
  },
  {
   "cell_type": "code",
   "execution_count": null,
   "metadata": {},
   "outputs": [],
   "source": [
    "from aiida.engine import run_get_pk\n",
    "from aiida.plugins import DataFactory, WorkflowFactory\n",
    "\n",
    "path_to_yaml_file = DataFactory(\"core.str\")(\"../include/pipe.yml\")\n",
    "\n",
    "result, workflow_pk = run_get_pk(\n",
    "    WorkflowFactory(\"execflow.pipeline\"),\n",
    "    pipeline=path_to_yaml_file,\n",
    ")"
   ]
  },
  {
   "attachments": {},
   "cell_type": "markdown",
   "metadata": {},
   "source": [
    "The result:"
   ]
  },
  {
   "cell_type": "code",
   "execution_count": null,
   "metadata": {},
   "outputs": [],
   "source": [
    "result"
   ]
  },
  {
   "attachments": {},
   "cell_type": "markdown",
   "metadata": {},
   "source": [
    "Using the AiiDA `Dict` Node-specific method `get_dict()` to return the Python `dict` representation of the Node's content, we get:"
   ]
  },
  {
   "cell_type": "code",
   "execution_count": null,
   "metadata": {},
   "outputs": [],
   "source": [
    "result[\"session\"].get_dict()"
   ]
  },
  {
   "attachments": {},
   "cell_type": "markdown",
   "metadata": {},
   "source": [
    "Now, we can generate the provenance graph resulted from running the pipeline, using `verdi`:"
   ]
  },
  {
   "cell_type": "code",
   "execution_count": null,
   "metadata": {
    "tags": [
     "remove-output"
    ]
   },
   "outputs": [],
   "source": [
    "!verdi node graph generate -f png $workflow_pk"
   ]
  },
  {
   "cell_type": "code",
   "execution_count": null,
   "metadata": {
    "tags": [
     "hide-input"
    ]
   },
   "outputs": [],
   "source": [
    "from IPython.display import Image\n",
    "\n",
    "Image(f\"{workflow_pk}.dot.png\")"
   ]
  }
 ],
 "metadata": {
  "kernelspec": {
   "display_name": "openmodel_wrapperSDK",
   "language": "python",
   "name": "python3"
  },
  "language_info": {
   "codemirror_mode": {
    "name": "ipython",
    "version": 3
   },
   "file_extension": ".py",
   "mimetype": "text/x-python",
   "name": "python",
   "nbconvert_exporter": "python",
   "pygments_lexer": "ipython3",
   "version": "3.9.16"
  },
  "orig_nbformat": 4,
  "vscode": {
   "interpreter": {
    "hash": "dc2109a38caf397dd5382abeecab1e39cd92c7f6cd96d09c836845ea15f16152"
   }
  }
 },
 "nbformat": 4,
 "nbformat_minor": 2
}
