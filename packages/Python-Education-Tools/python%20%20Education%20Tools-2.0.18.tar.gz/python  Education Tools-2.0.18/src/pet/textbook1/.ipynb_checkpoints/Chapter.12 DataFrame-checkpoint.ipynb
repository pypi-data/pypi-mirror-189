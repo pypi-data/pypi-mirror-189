{
 "cells": [
  {
   "cell_type": "code",
   "execution_count": 1,
   "id": "5357b241",
   "metadata": {},
   "outputs": [
    {
     "name": "stdout",
     "output_type": "stream",
     "text": [
      "Requirement already satisfied: python-education-tools in c:\\python\\python310\\lib\\site-packages (2.0.16)\n",
      "Requirement already satisfied: pydub in c:\\python\\python310\\lib\\site-packages (from python-education-tools) (0.25.1)\n",
      "Requirement already satisfied: importlib-metadata in c:\\python\\python310\\lib\\site-packages (from python-education-tools) (4.11.3)\n",
      "Requirement already satisfied: pyttsx3 in c:\\python\\python310\\lib\\site-packages (from python-education-tools) (2.90)\n",
      "Requirement already satisfied: requests-html in c:\\python\\python310\\lib\\site-packages (from python-education-tools) (0.10.0)\n",
      "Requirement already satisfied: openpyxl in c:\\python\\python310\\lib\\site-packages (from python-education-tools) (3.0.9)\n",
      "Requirement already satisfied: pandas in c:\\python\\python310\\lib\\site-packages (from python-education-tools) (1.4.1)\n",
      "Requirement already satisfied: numpy in c:\\python\\python310\\lib\\site-packages (from python-education-tools) (1.24.1)\n",
      "Requirement already satisfied: matplotlib in c:\\python\\python310\\lib\\site-packages (from python-education-tools) (3.5.1)\n",
      "Requirement already satisfied: jieba in c:\\python\\python310\\lib\\site-packages (from python-education-tools) (0.42.1)\n",
      "Requirement already satisfied: zipp>=0.5 in c:\\python\\python310\\lib\\site-packages (from importlib-metadata->python-education-tools) (3.7.0)\n",
      "Requirement already satisfied: python-dateutil>=2.7 in c:\\python\\python310\\lib\\site-packages (from matplotlib->python-education-tools) (2.8.2)\n",
      "Requirement already satisfied: cycler>=0.10 in c:\\python\\python310\\lib\\site-packages (from matplotlib->python-education-tools) (0.11.0)\n",
      "Requirement already satisfied: pyparsing>=2.2.1 in c:\\python\\python310\\lib\\site-packages (from matplotlib->python-education-tools) (3.0.7)\n",
      "Requirement already satisfied: fonttools>=4.22.0 in c:\\python\\python310\\lib\\site-packages (from matplotlib->python-education-tools) (4.31.2)\n",
      "Requirement already satisfied: packaging>=20.0 in c:\\python\\python310\\lib\\site-packages (from matplotlib->python-education-tools) (21.3)\n",
      "Requirement already satisfied: pillow>=6.2.0 in c:\\python\\python310\\lib\\site-packages (from matplotlib->python-education-tools) (9.1.0)\n",
      "Requirement already satisfied: kiwisolver>=1.0.1 in c:\\python\\python310\\lib\\site-packages (from matplotlib->python-education-tools) (1.4.2)\n",
      "Requirement already satisfied: et-xmlfile in c:\\python\\python310\\lib\\site-packages (from openpyxl->python-education-tools) (1.1.0)\n",
      "Requirement already satisfied: pytz>=2020.1 in c:\\python\\python310\\lib\\site-packages (from pandas->python-education-tools) (2022.1)\n",
      "Requirement already satisfied: pypiwin32 in c:\\python\\python310\\lib\\site-packages (from pyttsx3->python-education-tools) (223)\n",
      "Requirement already satisfied: pywin32 in c:\\python\\python310\\lib\\site-packages (from pyttsx3->python-education-tools) (305)\n",
      "Requirement already satisfied: comtypes in c:\\python\\python310\\lib\\site-packages (from pyttsx3->python-education-tools) (1.1.11)\n",
      "Requirement already satisfied: pyquery in c:\\python\\python310\\lib\\site-packages (from requests-html->python-education-tools) (1.4.3)\n",
      "Requirement already satisfied: w3lib in c:\\python\\python310\\lib\\site-packages (from requests-html->python-education-tools) (1.22.0)\n",
      "Requirement already satisfied: parse in c:\\python\\python310\\lib\\site-packages (from requests-html->python-education-tools) (1.19.0)\n",
      "Requirement already satisfied: fake-useragent in c:\\python\\python310\\lib\\site-packages (from requests-html->python-education-tools) (0.1.11)\n",
      "Requirement already satisfied: bs4 in c:\\python\\python310\\lib\\site-packages (from requests-html->python-education-tools) (0.0.1)\n",
      "Requirement already satisfied: pyppeteer>=0.0.14 in c:\\python\\python310\\lib\\site-packages (from requests-html->python-education-tools) (1.0.2)\n",
      "Requirement already satisfied: requests in c:\\python\\python310\\lib\\site-packages (from requests-html->python-education-tools) (2.27.1)\n",
      "Requirement already satisfied: tqdm<5.0.0,>=4.42.1 in c:\\python\\python310\\lib\\site-packages (from pyppeteer>=0.0.14->requests-html->python-education-tools) (4.63.1)\n",
      "Requirement already satisfied: certifi>=2021 in c:\\python\\python310\\lib\\site-packages (from pyppeteer>=0.0.14->requests-html->python-education-tools) (2021.10.8)\n",
      "Requirement already satisfied: pyee<9.0.0,>=8.1.0 in c:\\python\\python310\\lib\\site-packages (from pyppeteer>=0.0.14->requests-html->python-education-tools) (8.2.2)\n",
      "Requirement already satisfied: urllib3<2.0.0,>=1.25.8 in c:\\python\\python310\\lib\\site-packages (from pyppeteer>=0.0.14->requests-html->python-education-tools) (1.26.9)\n",
      "Requirement already satisfied: websockets<11.0,>=10.0 in c:\\python\\python310\\lib\\site-packages (from pyppeteer>=0.0.14->requests-html->python-education-tools) (10.2)\n",
      "Requirement already satisfied: appdirs<2.0.0,>=1.4.3 in c:\\python\\python310\\lib\\site-packages (from pyppeteer>=0.0.14->requests-html->python-education-tools) (1.4.4)\n",
      "Requirement already satisfied: six>=1.5 in c:\\python\\python310\\lib\\site-packages (from python-dateutil>=2.7->matplotlib->python-education-tools) (1.16.0)\n",
      "Requirement already satisfied: beautifulsoup4 in c:\\python\\python310\\lib\\site-packages (from bs4->requests-html->python-education-tools) (4.11.1)\n",
      "Requirement already satisfied: cssselect>0.7.9 in c:\\python\\python310\\lib\\site-packages (from pyquery->requests-html->python-education-tools) (1.1.0)\n",
      "Requirement already satisfied: lxml>=2.1 in c:\\python\\python310\\lib\\site-packages (from pyquery->requests-html->python-education-tools) (4.8.0)\n",
      "Requirement already satisfied: charset-normalizer~=2.0.0 in c:\\python\\python310\\lib\\site-packages (from requests->requests-html->python-education-tools) (2.0.12)\n",
      "Requirement already satisfied: idna<4,>=2.5 in c:\\python\\python310\\lib\\site-packages (from requests->requests-html->python-education-tools) (3.3)\n",
      "Requirement already satisfied: colorama in c:\\python\\python310\\lib\\site-packages (from tqdm<5.0.0,>=4.42.1->pyppeteer>=0.0.14->requests-html->python-education-tools) (0.4.4)\n",
      "Requirement already satisfied: soupsieve>1.2 in c:\\python\\python310\\lib\\site-packages (from beautifulsoup4->bs4->requests-html->python-education-tools) (2.3.1)\n"
     ]
    },
    {
     "name": "stderr",
     "output_type": "stream",
     "text": [
      "\n",
      "[notice] A new release of pip available: 22.3.1 -> 23.0\n",
      "[notice] To update, run: python.exe -m pip install --upgrade pip\n"
     ]
    }
   ],
   "source": [
    "!pip install -U python-education-tools"
   ]
  },
  {
   "cell_type": "code",
   "execution_count": 2,
   "id": "61a4fa9a",
   "metadata": {},
   "outputs": [],
   "source": [
    "import pandas as pd"
   ]
  },
  {
   "cell_type": "code",
   "execution_count": 3,
   "id": "50119c9f",
   "metadata": {},
   "outputs": [
    {
     "name": "stdout",
     "output_type": "stream",
     "text": [
      "****************************************\n",
      "订单格式：\n",
      "{'专业课.i': [39, 150],\n",
      " '姓名.n': '',\n",
      " '学校.c': ['清华大学',\n",
      "          '北京大学',\n",
      "          '复旦大学',\n",
      "          '上海交通大学',\n",
      "          '华东理工大学',\n",
      "          '中山大学',\n",
      "          '上海师范大学',\n",
      "          '中国科技大学',\n",
      "          '上海大学'],\n",
      " '性别.c': ['男', '女'],\n",
      " '政治.i': [36, 100],\n",
      " '线代.i': [20, 100],\n",
      " '考号.iid': 220151000,\n",
      " '英语.i': [29, 100],\n",
      " '表达能力.i': [49, 150],\n",
      " '面试.i': [29, 150],\n",
      " '高数.i': [15, 150]}\n",
      "****************************************\n",
      "Dataset is generated in C:\\Users\\Administrator\\pet_home/generated_sample_dataframe_2023-02-01 10-38-34.xlsx ！！！\n"
     ]
    },
    {
     "data": {
      "text/html": [
       "<div>\n",
       "<style scoped>\n",
       "    .dataframe tbody tr th:only-of-type {\n",
       "        vertical-align: middle;\n",
       "    }\n",
       "\n",
       "    .dataframe tbody tr th {\n",
       "        vertical-align: top;\n",
       "    }\n",
       "\n",
       "    .dataframe thead th {\n",
       "        text-align: right;\n",
       "    }\n",
       "</style>\n",
       "<table border=\"1\" class=\"dataframe\">\n",
       "  <thead>\n",
       "    <tr style=\"text-align: right;\">\n",
       "      <th></th>\n",
       "      <th>考号</th>\n",
       "      <th>姓名</th>\n",
       "      <th>性别</th>\n",
       "      <th>学校</th>\n",
       "      <th>英语</th>\n",
       "      <th>政治</th>\n",
       "      <th>线代</th>\n",
       "      <th>高数</th>\n",
       "      <th>专业课</th>\n",
       "      <th>表达能力</th>\n",
       "      <th>面试</th>\n",
       "    </tr>\n",
       "  </thead>\n",
       "  <tbody>\n",
       "    <tr>\n",
       "      <th>0</th>\n",
       "      <td>220151000</td>\n",
       "      <td>蒋书</td>\n",
       "      <td>男</td>\n",
       "      <td>上海师范大学</td>\n",
       "      <td>48</td>\n",
       "      <td>36</td>\n",
       "      <td>57</td>\n",
       "      <td>16</td>\n",
       "      <td>111</td>\n",
       "      <td>67</td>\n",
       "      <td>127</td>\n",
       "    </tr>\n",
       "    <tr>\n",
       "      <th>1</th>\n",
       "      <td>220151001</td>\n",
       "      <td>赵正</td>\n",
       "      <td>男</td>\n",
       "      <td>中国科技大学</td>\n",
       "      <td>41</td>\n",
       "      <td>42</td>\n",
       "      <td>58</td>\n",
       "      <td>82</td>\n",
       "      <td>138</td>\n",
       "      <td>50</td>\n",
       "      <td>142</td>\n",
       "    </tr>\n",
       "    <tr>\n",
       "      <th>2</th>\n",
       "      <td>220151002</td>\n",
       "      <td>金丽</td>\n",
       "      <td>男</td>\n",
       "      <td>中山大学</td>\n",
       "      <td>53</td>\n",
       "      <td>44</td>\n",
       "      <td>81</td>\n",
       "      <td>64</td>\n",
       "      <td>131</td>\n",
       "      <td>69</td>\n",
       "      <td>62</td>\n",
       "    </tr>\n",
       "  </tbody>\n",
       "</table>\n",
       "</div>"
      ],
      "text/plain": [
       "          考号  姓名 性别      学校  英语  政治  线代  高数  专业课  表达能力   面试\n",
       "0  220151000  蒋书  男  上海师范大学  48  36  57  16  111    67  127\n",
       "1  220151001  赵正  男  中国科技大学  41  42  58  82  138    50  142\n",
       "2  220151002  金丽  男    中山大学  53  44  81  64  131    69   62"
      ]
     },
     "execution_count": 3,
     "metadata": {},
     "output_type": "execute_result"
    }
   ],
   "source": [
    "from pet.datasets import factory\n",
    "df = factory.gen_sample_dataframe_12() #专为第十二章生成案例\n",
    "df.head(3)\n"
   ]
  },
  {
   "cell_type": "code",
   "execution_count": 4,
   "id": "a82375c4",
   "metadata": {},
   "outputs": [
    {
     "name": "stdout",
     "output_type": "stream",
     "text": [
      "df.shape=(40, 11),df.ndim=2\n",
      "df.size=440,df.index=RangeIndex(start=0, stop=40, step=1)\n",
      "df.columns=Index(['考号', '姓名', '性别', '学校', '英语', '政治', '线代', '高数', '专业课', '表达能力', '面试'], dtype='object')\n",
      "df.dtypes=考号       int64\n",
      "姓名      object\n",
      "性别      object\n",
      "学校      object\n",
      "英语       int32\n",
      "政治       int32\n",
      "线代       int32\n",
      "高数       int32\n",
      "专业课      int32\n",
      "表达能力     int32\n",
      "面试       int32\n",
      "dtype: object\n",
      "df.values=array([[220151000, '蒋书', '男', '上海师范大学', 48, 36, 57, 16, 111, 67, 127],\n",
      "       [220151001, '赵正', '男', '中国科技大学', 41, 42, 58, 82, 138, 50, 142],\n",
      "       [220151002, '金丽', '男', '中山大学', 53, 44, 81, 64, 131, 69, 62],\n",
      "       [220151003, '柳斌妃', '女', '上海大学', 58, 49, 35, 96, 92, 144, 144],\n",
      "       [220151004, '窦谋强', '男', '上海师范大学', 67, 82, 42, 144, 122, 60, 89],\n",
      "       [220151005, '何学红', '女', '华东理工大学', 61, 81, 74, 84, 90, 126, 96],\n",
      "       [220151006, '范繁望', '男', '清华大学', 92, 88, 56, 44, 149, 110, 131],\n",
      "       [220151007, '喻一', '男', '上海大学', 73, 39, 86, 22, 149, 90, 136],\n",
      "       [220151008, '邹嬴世', '男', '华东理工大学', 94, 96, 32, 100, 41, 84, 74],\n",
      "       [220151009, '孙成红', '男', '中国科技大学', 68, 41, 39, 59, 85, 113, 76],\n",
      "       [220151010, '沈繁', '女', '复旦大学', 32, 54, 55, 103, 102, 102, 60],\n",
      "       [220151011, '方彭', '男', '上海大学', 64, 59, 67, 114, 125, 71, 36],\n",
      "       [220151012, '冯平', '女', '华东理工大学', 69, 41, 30, 24, 102, 85, 36],\n",
      "       [220151013, '刁霸文', '女', '中国科技大学', 63, 87, 90, 101, 88, 53, 144],\n",
      "       [220151014, '鲁学', '男', '华东理工大学', 54, 41, 21, 120, 145, 88, 128],\n",
      "       [220151015, '王丽', '男', '中国科技大学', 62, 42, 83, 139, 52, 96, 107],\n",
      "       [220151016, '苏智', '男', '中国科技大学', 97, 40, 94, 44, 134, 84, 101],\n",
      "       [220151017, '李正', '女', '中国科技大学', 99, 76, 69, 119, 121, 115, 141],\n",
      "       [220151018, '奚丽嬴', '男', '清华大学', 71, 99, 43, 62, 70, 71, 116],\n",
      "       [220151019, '谢风懿', '男', '上海大学', 48, 73, 74, 43, 53, 76, 134],\n",
      "       [220151020, '戚一', '男', '中山大学', 39, 96, 73, 16, 104, 55, 61],\n",
      "       [220151021, '章智忠', '女', '中山大学', 74, 87, 32, 26, 82, 103, 44],\n",
      "       [220151022, '郑莉', '男', '复旦大学', 84, 76, 38, 117, 100, 107, 125],\n",
      "       [220151023, '曹兴', '男', '北京大学', 66, 82, 31, 53, 89, 75, 99],\n",
      "       [220151024, '姜群', '女', '北京大学', 33, 97, 36, 117, 39, 115, 120],\n",
      "       [220151025, '吴涛望', '男', '清华大学', 64, 65, 21, 31, 67, 149, 51],\n",
      "       [220151026, '鲁书谋', '女', '华东理工大学', 46, 76, 72, 107, 57, 129, 51],\n",
      "       [220151027, '杨莉伟', '男', '中山大学', 49, 89, 58, 32, 121, 72, 100],\n",
      "       [220151028, '蒋天', '女', '上海大学', 55, 67, 47, 91, 62, 108, 92],\n",
      "       [220151029, '鲁平波', '女', '中山大学', 77, 98, 39, 109, 128, 101, 130],\n",
      "       [220151030, '苗霸', '女', '华东理工大学', 67, 68, 43, 56, 78, 106, 42],\n",
      "       [220151031, '吕岸', '女', '北京大学', 93, 67, 94, 33, 125, 77, 110],\n",
      "       [220151032, '尤民教', '男', '中国科技大学', 30, 60, 82, 63, 88, 104, 85],\n",
      "       [220151033, '周清', '女', '复旦大学', 44, 62, 41, 149, 61, 119, 65],\n",
      "       [220151034, '昌和群', '男', '上海交通大学', 38, 62, 89, 68, 127, 56, 127],\n",
      "       [220151035, '钱桂', '女', '上海大学', 92, 74, 46, 55, 112, 79, 61],\n",
      "       [220151036, '朱圆', '男', '上海交通大学', 92, 51, 25, 85, 61, 51, 56],\n",
      "       [220151037, '马书忠', '女', '清华大学', 41, 82, 52, 41, 112, 139, 33],\n",
      "       [220151038, '苗天', '男', '上海大学', 79, 99, 91, 127, 98, 108, 80],\n",
      "       [220151039, '孙岸', '男', '上海交通大学', 56, 73, 52, 141, 116, 144, 104]],\n",
      "      dtype=object)\n"
     ]
    }
   ],
   "source": [
    "print(f'{df.shape=},{df.ndim=}')\n",
    "print(f'{df.size=},{df.index=}')\n",
    "print(f'{df.columns=}')\n",
    "print(f'{df.dtypes=}')\n",
    "print(f'{df.values=}')\n"
   ]
  },
  {
   "cell_type": "code",
   "execution_count": null,
   "id": "5b3dddbd",
   "metadata": {},
   "outputs": [],
   "source": [
    "import pandas as pd\n",
    "url='https://baike.baidu.com/item/IP%E5%9C%B0%E5%9D%80/150859?fr=aladdin'\n",
    "dfs = pd.read_html(url)\n",
    "print(dfs[0])\n",
    "dfs[0].to_excel('ip_address.xlsx',index=None,header=None)\n",
    "df=pd.read_excel('ip_address.xlsx')\n",
    "print(df)\n"
   ]
  },
  {
   "cell_type": "code",
   "execution_count": null,
   "id": "aa86804e",
   "metadata": {},
   "outputs": [],
   "source": [
    "dfs[0]"
   ]
  },
  {
   "cell_type": "code",
   "execution_count": null,
   "id": "24d8e47d",
   "metadata": {},
   "outputs": [],
   "source": [
    "from pet.datasets import factory\n",
    "df = factory.gen_sample_dataframe_12() #专为第十二章生成案例\n",
    "df.to_excel('students12.xlsx',index=None)\n",
    "df1=pd.read_excel('students12.xlsx')\n",
    "df1.head(3)"
   ]
  },
  {
   "cell_type": "code",
   "execution_count": null,
   "id": "e3d3f576",
   "metadata": {},
   "outputs": [],
   "source": [
    "dff=df.set_index('姓名')\n",
    "dff\n"
   ]
  },
  {
   "cell_type": "code",
   "execution_count": null,
   "id": "d4b7c8de",
   "metadata": {},
   "outputs": [],
   "source": [
    "df.reindex([0,2,8]) "
   ]
  },
  {
   "cell_type": "code",
   "execution_count": null,
   "id": "86f8aa84",
   "metadata": {},
   "outputs": [],
   "source": [
    "df.reindex([0,2,8],columns=['姓名', '线代','高数','专业课'])"
   ]
  },
  {
   "cell_type": "code",
   "execution_count": null,
   "id": "938089b7",
   "metadata": {},
   "outputs": [],
   "source": [
    "df.set_index('姓名').sort_index(ascending=False)"
   ]
  },
  {
   "cell_type": "code",
   "execution_count": null,
   "id": "7f1f9507",
   "metadata": {},
   "outputs": [],
   "source": [
    "df.set_index(['学校','性别'])"
   ]
  },
  {
   "cell_type": "code",
   "execution_count": null,
   "id": "92b2be64",
   "metadata": {},
   "outputs": [],
   "source": [
    "df.iloc[1:3] "
   ]
  },
  {
   "cell_type": "code",
   "execution_count": null,
   "id": "8f126a96",
   "metadata": {},
   "outputs": [],
   "source": [
    "df.iloc[:,1:6].head(3) "
   ]
  },
  {
   "cell_type": "code",
   "execution_count": null,
   "id": "bfa8fc77",
   "metadata": {},
   "outputs": [],
   "source": [
    "df.iloc[1::2,1::2]"
   ]
  },
  {
   "cell_type": "code",
   "execution_count": null,
   "id": "eee4937c",
   "metadata": {},
   "outputs": [],
   "source": [
    "df.loc[1:,'姓名':'专业课']"
   ]
  },
  {
   "cell_type": "code",
   "execution_count": null,
   "id": "af2e2462",
   "metadata": {},
   "outputs": [],
   "source": [
    "[i for i in df]"
   ]
  },
  {
   "cell_type": "code",
   "execution_count": null,
   "id": "e061eaaf",
   "metadata": {},
   "outputs": [],
   "source": [
    "[i for i in df.keys()]"
   ]
  },
  {
   "cell_type": "code",
   "execution_count": null,
   "id": "c165e8f3",
   "metadata": {},
   "outputs": [],
   "source": [
    "for col, ser in df.head(3).iteritems():\n",
    "    print(col,ser)\n"
   ]
  },
  {
   "cell_type": "code",
   "execution_count": null,
   "id": "a67f24ad",
   "metadata": {},
   "outputs": [],
   "source": [
    "df.head(3)"
   ]
  },
  {
   "cell_type": "code",
   "execution_count": null,
   "id": "6d63b958",
   "metadata": {},
   "outputs": [],
   "source": [
    "x= len(df)  #只要x大于等于len(df)即可\n",
    "df.loc[x,:]=[220151099,'赵六','男','华东理工' ,84,92,63,66,88,99,123]  \n",
    "df"
   ]
  },
  {
   "cell_type": "code",
   "execution_count": null,
   "id": "04230d6e",
   "metadata": {},
   "outputs": [],
   "source": [
    "df.drop([1,3])"
   ]
  },
  {
   "cell_type": "code",
   "execution_count": null,
   "id": "db05f0e0",
   "metadata": {},
   "outputs": [],
   "source": [
    "df.drop(df.index[1:4])"
   ]
  },
  {
   "cell_type": "code",
   "execution_count": null,
   "id": "ec00b12e",
   "metadata": {},
   "outputs": [],
   "source": [
    "df\n",
    "df.loc[[1,2],:]=df.loc[[2,1],:].values  "
   ]
  },
  {
   "cell_type": "code",
   "execution_count": null,
   "id": "19b2b779",
   "metadata": {},
   "outputs": [],
   "source": [
    "df"
   ]
  },
  {
   "cell_type": "code",
   "execution_count": null,
   "id": "84bca1ea",
   "metadata": {},
   "outputs": [],
   "source": [
    "df['总分']=(df['英语']+df['政治']+df['线代']+df['高数']+df['专业课']+df['表达能力'])*.7+df['面试']*.3"
   ]
  },
  {
   "cell_type": "code",
   "execution_count": null,
   "id": "58214a3e",
   "metadata": {},
   "outputs": [],
   "source": [
    "df"
   ]
  },
  {
   "cell_type": "code",
   "execution_count": null,
   "id": "1410e35a",
   "metadata": {},
   "outputs": [],
   "source": [
    "df.loc[:,['政治', '英语']] = df.loc[:,[ '英语','政治']].values\n",
    "df"
   ]
  },
  {
   "cell_type": "code",
   "execution_count": null,
   "id": "1ac03468",
   "metadata": {},
   "outputs": [],
   "source": [
    "df.replace({'姓名':{'范印':'范仲淹'},'高数':{81: 149}}) "
   ]
  },
  {
   "cell_type": "code",
   "execution_count": null,
   "id": "3bebadc0",
   "metadata": {},
   "outputs": [],
   "source": []
  }
 ],
 "metadata": {
  "kernelspec": {
   "display_name": "Python 3 (ipykernel)",
   "language": "python",
   "name": "python3"
  },
  "language_info": {
   "codemirror_mode": {
    "name": "ipython",
    "version": 3
   },
   "file_extension": ".py",
   "mimetype": "text/x-python",
   "name": "python",
   "nbconvert_exporter": "python",
   "pygments_lexer": "ipython3",
   "version": "3.10.4"
  }
 },
 "nbformat": 4,
 "nbformat_minor": 5
}
