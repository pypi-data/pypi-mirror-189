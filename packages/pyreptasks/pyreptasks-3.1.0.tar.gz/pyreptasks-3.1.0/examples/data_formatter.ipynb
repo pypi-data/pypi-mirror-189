{
 "cells": [
  {
   "attachments": {},
   "cell_type": "markdown",
   "metadata": {},
   "source": [
    "This Jupyter notebook aims to show an example of usage for the DataFormatter class."
   ]
  },
  {
   "cell_type": "code",
   "execution_count": 1,
   "metadata": {},
   "outputs": [],
   "source": [
    "from pyreptasks import DataFormatter"
   ]
  },
  {
   "attachments": {},
   "cell_type": "markdown",
   "metadata": {},
   "source": [
    "We show the documentation of the class and its methods."
   ]
  },
  {
   "cell_type": "code",
   "execution_count": 2,
   "metadata": {},
   "outputs": [
    {
     "name": "stdout",
     "output_type": "stream",
     "text": [
      "\n",
      "    This class allows to define a specific format for different fields in a direct way. Then, the object is able to convert some data string into the format specified by the fields, as well as to ensure that the data respects the fields constraints, otherwise it will throw an exception.\n",
      "\n",
      "    An object of type DataFormatter does not need any argument during its declaration, as all the specifications will be done while adding fields and their formats to the object. All the data formatted, regardless of the choosen format, will delete innecesary spaces automatically (example: \"   hello     world      \" -> \"hello world\").\n",
      "\n",
      "    METHODS:\n",
      "\n",
      "     - add_field: This method allows the user to add a new field and the format it must respect to the object list 'fields'. Check the method description for detailed explanation.\n",
      "\n",
      "     - delete_field: This method takes a field name as argument and remove the corresponding field from the object list 'fields', if it exists.\n",
      "\n",
      "     - show_fields: This method returns a list containing the name of each field defined in the formatter.\n",
      "\n",
      "     - field_format: This method takes the name of a field defined in the formatter as input and returns the format set for this field.\n",
      "\n",
      "     - single_data_to_format: This method takes two arguments, the data to format and the field of which this data should be part. It returns the formatted data, following the formatting rules stablished by the field.\n",
      "\n",
      "     - to_format: This method takes a list containing some data as argument. This list must contain one entry for each field defined in the formatter. The method returns a list containing all the formatted data.\n",
      "    \n"
     ]
    }
   ],
   "source": [
    "print(DataFormatter.__doc__)"
   ]
  },
  {
   "cell_type": "code",
   "execution_count": 3,
   "metadata": {},
   "outputs": [
    {
     "name": "stdout",
     "output_type": "stream",
     "text": [
      "\n",
      "        This method is used to add a new field and its desired format to the object.\n",
      "\n",
      "        INPUTS:\n",
      "\n",
      "        - name: <class 'str'> Contains the name of our field. Example: residence_country.\n",
      "\n",
      "        - style: <class 'str'> Specification of how data must look. This option is just ignored when the field is numeric, as it does not make sense. The admitted values for this field are:\n",
      "\n",
      "            - title: The first character of each substring will be a capital letter. The rest will be converted to lower case. Example: hello woRLd -> Hello World\n",
      "\n",
      "            - capitalize: The first character will be a capital letter, the rest will be converted to lowe case. Example: hello woRLd -> Hello world\n",
      "\n",
      "            - upper: The whole data will be converted to upper case. Example: hello woRLd -> HELLO WORLD\n",
      "\n",
      "            - lower: The whole data will be converted to lowe case. Example: hello woRLd -> hello world\n",
      "\n",
      "            - (empty string): This is the default case. The data will not be converted to any specific style.\n",
      "\n",
      "        - alphabetic_field: <class 'bool'> Its default value is False. If it is activated, the formatter will ensure that non-alphabetic characters are not present in the data.\n",
      "\n",
      "        - int_field: <class 'bool'> Its default value is False. If it is activated, the formatter will ensure that the field could be converted into an integer.\n",
      "\n",
      "        - float_field: <class 'bool'> Its default value is False. If it is activated, the formatter will ensure that the field could be converted into a float number. The formatter will add .0 to the string if an integer is given.\n",
      "\n",
      "        - alphanumeric_field: <class 'bool'> Its default value is False. If it is activated, the formatter will ensure that non-alphanumeric characters are not present in the data.\n",
      "\n",
      "        - admitted: <class 'dict'> Only available for alphabetic and alphanumeric fields. Its default value is an empty dict. It should be formed by the single characters that the formatter must skip while checking if the introduced data fits in the field's format specification as keys, and their corresponding values will be the maximum times they are admitted. If there is not limit in the amount of this characters, the value must be True. For example, if the field should be formed by alphabetic characters but admitting spaces, dots,commas and '@' just once. To ensure the data fits this description, it might be done using alphabetic_field = True and admitted = {\" \":True,\".\":True, \",\":True, \"@\":1}\n",
      "\n",
      "        - required: <class 'dict'> Not available for integer or float fields. Its default value is an empty dict. It may contain as keys:\n",
      "\n",
      "            - Single character strings: Meaning that this character must be present in the string.\n",
      "\n",
      "            - Two characters strings: Defining a range of characters, so the formatter checks that the string contains characters inside this range.\n",
      "\n",
      "            - Tuples of single characters: Defining a set of characters, so the formatter checks that the string contains characters inside this tuple.\n",
      "\n",
      "        The value of each key stands for the number of times the formatter has to check each key.\n",
      "\n",
      "        - length_range: <class 'list'> This list contains lower and upper bounds on the data length. The formatter will ensure that the data respect these constraints. If an exact length is required, set both bounds equal to the desired length. The default value is an empty list, meaning that there is not any constraint to apply.\n",
      "\n",
      "        - value_range: <class 'list'> Only available for integer or float fields. This list contains lower and upper bounds on the data value (only applied for numeric fields). The formatter will ensure that the data respect these constraints. If an exact value is required, set both bounds equal to the desired value. The default value is an empty list, meaning that there is not any constraint to apply.\n",
      "        \n"
     ]
    }
   ],
   "source": [
    "print(DataFormatter.add_field.__doc__)"
   ]
  },
  {
   "cell_type": "code",
   "execution_count": 4,
   "metadata": {},
   "outputs": [
    {
     "name": "stdout",
     "output_type": "stream",
     "text": [
      "\n",
      "        This method is used to delete a field from the formatter.\n",
      "\n",
      "        INPUTS:\n",
      "\n",
      "        - field_name: <class 'str'> The name of the field to delete from the formatter. It must match one of the defined fields.\n",
      "        \n"
     ]
    }
   ],
   "source": [
    "print (DataFormatter.delete_field.__doc__)"
   ]
  },
  {
   "cell_type": "code",
   "execution_count": 5,
   "metadata": {},
   "outputs": [
    {
     "name": "stdout",
     "output_type": "stream",
     "text": [
      "\n",
      "        This method returns a list with the names of the fields already defined in the formatter.\n",
      "\n",
      "        OUTPUT:\n",
      "\n",
      "        - <class 'list'> A list containing the name of the defined fields.\n",
      "        \n"
     ]
    }
   ],
   "source": [
    "print (DataFormatter.show_fields.__doc__)"
   ]
  },
  {
   "cell_type": "code",
   "execution_count": 6,
   "metadata": {},
   "outputs": [
    {
     "name": "stdout",
     "output_type": "stream",
     "text": [
      "\n",
      "        This method returns the format of the introduced field.\n",
      "\n",
      "        INPUTS:\n",
      "\n",
      "        - field_name: <class 'str'>. The name of the field whose format is to be returned.\n",
      "\n",
      "        OUTPUT:\n",
      "\n",
      "        <class 'dict'>. A dictionary containing the format of de specified field.\n",
      "        \n"
     ]
    }
   ],
   "source": [
    "print (DataFormatter.field_format.__doc__)"
   ]
  },
  {
   "cell_type": "code",
   "execution_count": 7,
   "metadata": {},
   "outputs": [
    {
     "name": "stdout",
     "output_type": "stream",
     "text": [
      "\n",
      "        This method format the introduced data respecting the format specified by the introduced field.\n",
      "\n",
      "        INPUTS:\n",
      "\n",
      "        - data: <class 'str'> The string of data to format.\n",
      "\n",
      "        - field_name: <class 'str'> The name of the field whose format must be applied. It must match one of the defined fields.\n",
      "\n",
      "        OUTPUT:\n",
      "        - <class 'str'> The formatted data.\n",
      "        \n"
     ]
    }
   ],
   "source": [
    "print(DataFormatter.single_data_to_format.__doc__)"
   ]
  },
  {
   "cell_type": "code",
   "execution_count": 8,
   "metadata": {},
   "outputs": [
    {
     "name": "stdout",
     "output_type": "stream",
     "text": [
      "\n",
      "        This method apply all the defined formats to a list containing the data to format.\n",
      "\n",
      "        INPUTS:\n",
      "\n",
      "        - data: <class 'list'> A list containing an entry for each defined field, the data to be formatted. It is mandatory that its length matches the length of the object list 'fields', as the first field's format will be applied to the first data entry, the second field's format will be applied to the second data entry, and so on.\n",
      "\n",
      "        OUTPUT:\n",
      "\n",
      "        - <class 'list'> A list containing all the formatted data. Example: fields = [field1, field2], data = [data_1, data_2] -> returns [field1.format(data_1), field2.format(data_2)]\n",
      "        \n"
     ]
    }
   ],
   "source": [
    "print (DataFormatter.to_format.__doc__)"
   ]
  },
  {
   "attachments": {},
   "cell_type": "markdown",
   "metadata": {},
   "source": [
    "USAGE EXAMPLE\n",
    "=============\n",
    "\n",
    "To show how the class works, we are going to simulate a website where the users must introduce some data, and we will use a DataFormatter object to keep all the fields in the same format, as well as to ensure that the data introduced in each field respects the defined constraints (ie, if the user introduces a letter in its phone number an exception will be thrown). We are not going to deal with the exceptions here as it is not the goal of the example.\n",
    "\n",
    "The fields the user must send to the website will be:\n",
    "\n",
    "- Name and Last Name: The first letter of each word will be a capital letter. We accept only letters. We set a maximum length of 50 characters.\n",
    "\n",
    "- Phone Number: An integer, the length must be exactly 9.\n",
    "\n",
    "- Email: A mail address composed by alphanumeric characters. \".\",\"-\",\"_\" and \"@\" are also accepted here. \"@\" can appear just once in the email. We set a maximum length of 25 characters.\n",
    "\n",
    "- Country: The user's residence country, it will be stored in upper case. We set a maximum length of 20 characters.\n",
    "\n",
    "- Description: A short description of why the user is signing up into the website. The first letter will be capital and the rest will be lower case. We accept alphanumeric characters, also dots, commas, blank spaces and some other useful characters. As it is short, there is a maximum of 50 characters for this field.\n",
    "\n",
    "- Contribution: The user may contribute monthly with the website. To be part of it, the contribution must be at least of 3.99, but it cannot exceed 100. (This is just a number, the currency is not specified)\n",
    "\n",
    "- Password: A password for the website. An alphanumeric field of length greater than 5 (we set a maximum length in 30 characters to have an upper bound), admitting $,#,!,-, _ and ., and requiring at least two of those symbols, a number, a lower case and an upper case. \n",
    "\n",
    "REMARK: The user must fill all the data, so we set up the formatter to ensure that there is not any empty field. To do so, we use length and value ranges.\n",
    "\n",
    "REMARK: There are many different possibilities to customize the fields, this example is just a quick overview."
   ]
  },
  {
   "cell_type": "code",
   "execution_count": 9,
   "metadata": {},
   "outputs": [],
   "source": [
    "Website_Form = DataFormatter() # We create the object\n",
    "## We define all the fields, specifying how they must be.\n",
    "Website_Form.add_field(\"Name\", style=\"title\", alphabetic_field=True, admitted={\" \":True}, length_range=[1,50])\n",
    "Website_Form.add_field(\"Last Name\", style=\"title\", alphabetic_field=True, admitted={\" \":True},length_range=[1,50])\n",
    "Website_Form.add_field(\"Phone\",int_field=True,length_range=[9,9])\n",
    "Website_Form.add_field(\"Email\", alphanumeric_field=True,admitted={\".\":True,\"-\":True,\"_\":True,\"@\":1},length_range=[1,25])\n",
    "Website_Form.add_field(\"Country\",alphabetic_field=True,style=\"upper\",length_range=[1,20], admitted={\" \":True})\n",
    "Website_Form.add_field(\"Description\", alphanumeric_field=True, style=\"capitalize\", admitted={\" \":True,\".\":True,\",\":True, \"'\":True, \"!\":True, \"?\":True},length_range=[0,50])\n",
    "Website_Form.add_field(\"Contribution\",float_field=True,value_range=[3.99,100])\n",
    "Website_Form.add_field(\"Password\", alphanumeric_field=True, admitted={\"$\":True, \"#\":True, \"!\":True, \"-\":True, \".\":True, \"_\":True}, required={\"az\":1,\"AZ\":1,\"09\":1,(\"$\",\"#\",\"!\",\"-\",\"_\",\".\"):2}, length_range=[5,30]) "
   ]
  },
  {
   "cell_type": "code",
   "execution_count": 10,
   "metadata": {},
   "outputs": [
    {
     "name": "stdout",
     "output_type": "stream",
     "text": [
      "['John', 'Doe', '987654321', 'john_doe1@gmail.com', 'UNITED KINGDOM', \"Hi i'm john, i would like to join your website\", '45.67', 'my1Pa$W0rD.']\n",
      "['Maria', 'Perez González', '123456789', 'its-mary13@gmail.com', 'VENEZUELA', 'Hey!', '3.99', 'my1Pa$W0rD.']\n"
     ]
    }
   ],
   "source": [
    "## DataFormatter in action\n",
    "\n",
    "print(Website_Form.to_format([\"   joHn \",\"doE\",\"987654321\",\"john_doe1@gmail.com\",\"united Kingdom\", \"hi I'm john, i would like to join your website          \", \"45.67\", \"my1Pa$W0rD.\"]))\n",
    "print(Website_Form.to_format([\"   maria \",\"perez  gonzález\",\"123456789\",\"its-mary13@gmail.com\",\"Venezuela\", \"hey!\", \"3.99\", \"my1Pa$W0rD.\"]))"
   ]
  },
  {
   "cell_type": "code",
   "execution_count": 11,
   "metadata": {},
   "outputs": [
    {
     "name": "stdout",
     "output_type": "stream",
     "text": [
      "test_mail@hotmail.com\n"
     ]
    }
   ],
   "source": [
    "## We can apply the formatter only in one of our fields as well!\n",
    "\n",
    "print(Website_Form.single_data_to_format(\"   test_mail@hotmail.com\",\"Email\"))"
   ]
  },
  {
   "cell_type": "code",
   "execution_count": 12,
   "metadata": {},
   "outputs": [
    {
     "name": "stdout",
     "output_type": "stream",
     "text": [
      "['Name', 'Last Name', 'Phone', 'Email', 'Country', 'Description', 'Contribution', 'Password']\n",
      "['Name', 'Last Name', 'Phone', 'Email', 'Country', 'Contribution', 'Password']\n"
     ]
    }
   ],
   "source": [
    "## We can also delete a field if we do not need it anymore\n",
    "\n",
    "print(Website_Form.show_fields())\n",
    "Website_Form.delete_field(\"Description\")\n",
    "print(Website_Form.show_fields())"
   ]
  },
  {
   "cell_type": "code",
   "execution_count": 13,
   "metadata": {},
   "outputs": [
    {
     "name": "stdout",
     "output_type": "stream",
     "text": [
      "{'name': 'Password', 'alphabetic_field': False, 'int_field': False, 'float_field': False, 'alphanumeric_field': True, 'admitted': {'$': True, '#': True, '!': True, '-': True, '.': True, '_': True}, 'required': {'az': 1, 'AZ': 1, '09': 1, ('$', '#', '!', '-', '_', '.'): 2}, 'length_range': [5, 30]}\n"
     ]
    }
   ],
   "source": [
    "# If we want to check the format of one of the defined fields, we can use field_format method\n",
    "\n",
    "print(Website_Form.field_format(\"Password\"))"
   ]
  },
  {
   "attachments": {},
   "cell_type": "markdown",
   "metadata": {},
   "source": [
    "Finally we show some exceptions produced when the introduced data does not fit with the format specified by the field. We do not show every exceptions due to there are soooooo many possibilities :)"
   ]
  },
  {
   "cell_type": "code",
   "execution_count": 14,
   "metadata": {},
   "outputs": [
    {
     "name": "stdout",
     "output_type": "stream",
     "text": [
      "the introduced data test@mail@hotmailcom may contain at most 1 @, but it contains 2.\n"
     ]
    }
   ],
   "source": [
    "try:\n",
    "    Website_Form.single_data_to_format(\"test@_mail@hotmail.com\",\"Email\")\n",
    "except ValueError as error:\n",
    "    print(error)"
   ]
  },
  {
   "cell_type": "code",
   "execution_count": 15,
   "metadata": {},
   "outputs": [
    {
     "name": "stdout",
     "output_type": "stream",
     "text": [
      "the introduced data myPa$SW0rd must contain characters from the set ('$', '#', '!', '-', '_', '.') at least 2 times.\n"
     ]
    }
   ],
   "source": [
    "try: \n",
    "    Website_Form.single_data_to_format(\"myPa$SW0rd\",\"Password\")\n",
    "except ValueError as error:\n",
    "    print(error)"
   ]
  },
  {
   "cell_type": "code",
   "execution_count": 16,
   "metadata": {},
   "outputs": [
    {
     "name": "stdout",
     "output_type": "stream",
     "text": [
      "Phone length out of range.\n"
     ]
    }
   ],
   "source": [
    "try: \n",
    "    Website_Form.single_data_to_format(\"12345678\",\"Phone\")\n",
    "except ValueError as error:\n",
    "    print(error)"
   ]
  },
  {
   "cell_type": "code",
   "execution_count": 17,
   "metadata": {},
   "outputs": [
    {
     "name": "stdout",
     "output_type": "stream",
     "text": [
      "Contribution value out of range.\n"
     ]
    }
   ],
   "source": [
    "try:\n",
    "    Website_Form.single_data_to_format(\"1\",\"Contribution\")\n",
    "except ValueError as error:\n",
    "    print(error)"
   ]
  },
  {
   "cell_type": "code",
   "execution_count": 18,
   "metadata": {},
   "outputs": [
    {
     "name": "stdout",
     "output_type": "stream",
     "text": [
      "non-admitted character introduced in alphabetic field Country.\n"
     ]
    }
   ],
   "source": [
    "try:\n",
    "    Website_Form.single_data_to_format(\"5pain\",\"Country\")\n",
    "except ValueError as error:\n",
    "    print(error)"
   ]
  }
 ],
 "metadata": {
  "kernelspec": {
   "display_name": "Python 3",
   "language": "python",
   "name": "python3"
  },
  "language_info": {
   "codemirror_mode": {
    "name": "ipython",
    "version": 3
   },
   "file_extension": ".py",
   "mimetype": "text/x-python",
   "name": "python",
   "nbconvert_exporter": "python",
   "pygments_lexer": "ipython3",
   "version": "3.8.3"
  },
  "orig_nbformat": 4,
  "vscode": {
   "interpreter": {
    "hash": "aee8b7b246df8f9039afb4144a1f6fd8d2ca17a180786b69acc140d282b71a49"
   }
  }
 },
 "nbformat": 4,
 "nbformat_minor": 2
}
