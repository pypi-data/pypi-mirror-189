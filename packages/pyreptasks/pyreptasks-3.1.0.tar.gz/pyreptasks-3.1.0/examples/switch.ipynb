{
 "cells": [
  {
   "cell_type": "markdown",
   "metadata": {},
   "source": [
    "This Jupyter notebook aims to show the use of the Switch class."
   ]
  },
  {
   "cell_type": "code",
   "execution_count": 1,
   "metadata": {},
   "outputs": [],
   "source": [
    "from pyreptasks import Switch"
   ]
  },
  {
   "cell_type": "markdown",
   "metadata": {},
   "source": [
    "We start showing the documentation of the class"
   ]
  },
  {
   "cell_type": "code",
   "execution_count": 2,
   "metadata": {},
   "outputs": [
    {
     "name": "stdout",
     "output_type": "stream",
     "text": [
      "\n",
      "    This class creates a switch structure in Python. It may be configured to manage a default case if necessary.\n",
      "\n",
      "    An object of type Switch must be declared using at least one argument: \n",
      "    \n",
      "    - cases: <class 'dict'>. A dictionary composed of the conditions that the switch may match and their related switch values. A switch value may be whatever, from an integer to a function performing the action needed when its switch condition has been matched.\n",
      "\n",
      "    There are also two optional arguments that may be provided when creating the object:\n",
      "\n",
      "     - use_default_case: <class 'bool'>. Used to determine if a default case is necessary for the switch. By default its value is False.\n",
      "     - default_case: The action to perform in the default case if use_default_case == True.\n",
      "\n",
      "    METHODS:\n",
      "\n",
      "     - exec: This method takes the desired choice as argument and returns the corresponding switch value. \n",
      "\n",
      "     - add_case: This method takes a condition and a switch value, and creates a new switch case with them.\n",
      "\n",
      "     - update_case: This method takes a condition used in one of the defined cases and a new switch value, that may be returned by the Switch when the execution matches the condition.\n",
      "\n",
      "     - delete_case: This method deletes the introduced case from the object.\n",
      "\n",
      "     - enable_default_case: This method sets the Switch object to use a default case when the execution does not match the defined ones. If the Switch object had this feature activated, nothing happens.\n",
      "\n",
      "     - disable_default_case: This method sets the Switch object to return None when the execution does not match any the defined cases. If the Switch object was configured in such a way before using this method, nothing happens.\n",
      "     \n",
      "     - update_default_case: This method updates the default switch value to return, if the Switch object must return such a value when the execution does not match any of the defined cases.\n",
      "    \n"
     ]
    }
   ],
   "source": [
    "print(Switch.__doc__)"
   ]
  },
  {
   "attachments": {},
   "cell_type": "markdown",
   "metadata": {},
   "source": [
    "USAGE EXAMPLE\n",
    "==============\n",
    "\n",
    "In this example we are going to define a function taking a string and two numbers as arguments. The string will indicate the computation to do with the numbers (\"add\", \"sub\", \"mul\"). We will use a Switch object to determine the selected option. If the input is not one of the admitted options, we are going to set up a default case that will tell us that the operation we have introduced is not admitted.\n",
    "\n",
    "We see the power of switch structures as we can pass other functions as switch values."
   ]
  },
  {
   "cell_type": "code",
   "execution_count": 3,
   "metadata": {},
   "outputs": [],
   "source": [
    "def add(a,b): return a+b\n",
    "\n",
    "def sub(a,b): return a-b\n",
    "\n",
    "def mul(a,b): return a*b"
   ]
  },
  {
   "cell_type": "code",
   "execution_count": 7,
   "metadata": {},
   "outputs": [
    {
     "name": "stdout",
     "output_type": "stream",
     "text": [
      "46\n",
      "-51\n",
      "12\n",
      "Op is not admitted\n",
      "Op is not admitted\n"
     ]
    }
   ],
   "source": [
    "def example_1(op, n1, n2):\n",
    "    cases = {\"add\":add,\"sub\":sub,\"mul\":mul}\n",
    "    switch = Switch(cases,use_default_case=True,default_case=\"Op is not admitted\")\n",
    "    if op in cases.keys():\n",
    "        return switch.exec(op)(n1,n2)\n",
    "    return switch.exec(op)\n",
    "\n",
    "print(example_1(\"add\",45,1))\n",
    "print(example_1(\"sub\",3,54))\n",
    "print(example_1(\"mul\",3,4))\n",
    "print(example_1(\"division\",4,7))\n",
    "print(example_1(2,2,2))"
   ]
  },
  {
   "attachments": {},
   "cell_type": "markdown",
   "metadata": {},
   "source": [
    "If we do not define the default case in the previous example, we see that the Switch object does nothing when the condition does not match one of the defined ones."
   ]
  },
  {
   "cell_type": "code",
   "execution_count": 24,
   "metadata": {},
   "outputs": [
    {
     "name": "stdout",
     "output_type": "stream",
     "text": [
      "46\n",
      "-51\n",
      "12\n",
      "None\n",
      "None\n"
     ]
    }
   ],
   "source": [
    "cases = {\"add\":add,\"sub\":sub,\"mul\":mul}\n",
    "switch = Switch(cases)\n",
    "def example_2(op, n1, n2):\n",
    "    if op in cases.keys():\n",
    "        return switch.exec(op)(n1,n2)\n",
    "    return switch.exec(op)\n",
    "\n",
    "print(example_2(\"add\",45,1))\n",
    "print(example_2(\"sub\",3,54))\n",
    "print(example_2(\"mul\",3,4))\n",
    "print(example_2(\"division\",4,7))\n",
    "print(example_2(2,2,2))"
   ]
  },
  {
   "attachments": {},
   "cell_type": "markdown",
   "metadata": {},
   "source": [
    "But if we need to have a default case for our Switch in futures lines of our code, we can enable and disable it easily"
   ]
  },
  {
   "cell_type": "code",
   "execution_count": 25,
   "metadata": {},
   "outputs": [
    {
     "name": "stdout",
     "output_type": "stream",
     "text": [
      "None\n"
     ]
    }
   ],
   "source": [
    "switch.enable_default_case() \n",
    "print(switch.exec(3))"
   ]
  },
  {
   "attachments": {},
   "cell_type": "markdown",
   "metadata": {},
   "source": [
    "But wait, this is still giving None instead of a default case. Of course! We did not defined such a case! We can use the update_default_case function to set up our default case. If we disable the use of the default case after setting it, don't worry, the Switch object is simply going to ignore it. And if we re-enable its usage, it will have take the defined default case again."
   ]
  },
  {
   "cell_type": "code",
   "execution_count": 26,
   "metadata": {},
   "outputs": [
    {
     "name": "stdout",
     "output_type": "stream",
     "text": [
      "Default case\n"
     ]
    }
   ],
   "source": [
    "switch.update_default_case(\"Default case\")\n",
    "print(switch.exec(3))"
   ]
  },
  {
   "cell_type": "code",
   "execution_count": 27,
   "metadata": {},
   "outputs": [
    {
     "name": "stdout",
     "output_type": "stream",
     "text": [
      "None\n"
     ]
    }
   ],
   "source": [
    "switch.disable_default_case()\n",
    "print(switch.exec(3))"
   ]
  },
  {
   "cell_type": "code",
   "execution_count": 28,
   "metadata": {},
   "outputs": [
    {
     "name": "stdout",
     "output_type": "stream",
     "text": [
      "None\n"
     ]
    }
   ],
   "source": [
    "switch.update_default_case(\"New default case\")\n",
    "print(switch.exec(3))"
   ]
  },
  {
   "cell_type": "code",
   "execution_count": 29,
   "metadata": {},
   "outputs": [
    {
     "name": "stdout",
     "output_type": "stream",
     "text": [
      "New default case\n"
     ]
    }
   ],
   "source": [
    "switch.enable_default_case()\n",
    "print(switch.exec(3))"
   ]
  },
  {
   "attachments": {},
   "cell_type": "markdown",
   "metadata": {},
   "source": [
    "And we may also, update, delete, or create new cases easily!"
   ]
  },
  {
   "cell_type": "code",
   "execution_count": 30,
   "metadata": {},
   "outputs": [
    {
     "name": "stdout",
     "output_type": "stream",
     "text": [
      "The condition is 3\n"
     ]
    }
   ],
   "source": [
    "switch.add_case(3,\"The condition is 3\")\n",
    "print(switch.exec(3))"
   ]
  },
  {
   "cell_type": "code",
   "execution_count": 31,
   "metadata": {},
   "outputs": [
    {
     "name": "stdout",
     "output_type": "stream",
     "text": [
      "New condition\n"
     ]
    }
   ],
   "source": [
    "switch.update_case(3,\"New condition\")\n",
    "print(switch.exec(3))"
   ]
  },
  {
   "cell_type": "code",
   "execution_count": 32,
   "metadata": {},
   "outputs": [
    {
     "name": "stdout",
     "output_type": "stream",
     "text": [
      "New default case\n"
     ]
    }
   ],
   "source": [
    "switch.delete_case(3)\n",
    "print(switch.exec(3)) # And we have again the default case"
   ]
  }
 ],
 "metadata": {
  "kernelspec": {
   "display_name": "Python 3.8.3 64-bit",
   "language": "python",
   "name": "python3"
  },
  "language_info": {
   "codemirror_mode": {
    "name": "ipython",
    "version": 3
   },
   "file_extension": ".py",
   "mimetype": "text/x-python",
   "name": "python",
   "nbconvert_exporter": "python",
   "pygments_lexer": "ipython3",
   "version": "3.8.3"
  },
  "orig_nbformat": 4,
  "vscode": {
   "interpreter": {
    "hash": "aee8b7b246df8f9039afb4144a1f6fd8d2ca17a180786b69acc140d282b71a49"
   }
  }
 },
 "nbformat": 4,
 "nbformat_minor": 2
}
