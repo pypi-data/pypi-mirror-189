{
 "cells": [
  {
   "cell_type": "markdown",
   "metadata": {},
   "source": [
    "# 2D SLAM with g2opy\n",
    "\n",
    "## Setup\n",
    "First we need to import g2opy to be able to run a 2D SLAM example.\n",
    "We do this by adding the lib folder inside g2o's source to the python path and\n",
    "afterwards import g2opy"
   ]
  },
  {
   "cell_type": "code",
   "execution_count": null,
   "metadata": {},
   "outputs": [],
   "source": [
    "import os\n",
    "import sys\n",
    "\n",
    "lib_directory = os.path.join(os.getcwd(), \"../../lib\")\n",
    "\n",
    "if not lib_directory in sys.path:\n",
    "    sys.path.append(lib_directory)\n",
    "\n",
    "import g2opy"
   ]
  },
  {
   "cell_type": "markdown",
   "metadata": {},
   "source": [
    "## Download a g2o file to work with the optimizer\n",
    "We download a data set and save it to a temporary file to operate on this data"
   ]
  },
  {
   "cell_type": "code",
   "execution_count": null,
   "metadata": {},
   "outputs": [],
   "source": [
    "import tempfile\n",
    "import requests\n",
    "\n",
    "url = \"https://raw.githubusercontent.com/OpenSLAM-org/openslam_g2o/master/data/2d/manhattan3500/manhattanOlson3500.g2o\"\n",
    "tmp_fd, tmp_filename = tempfile.mkstemp(suffix=\".g2o\", prefix=\"slam2d_python\")\n",
    "data = requests.get(url)\n",
    "with os.fdopen(tmp_fd, \"wb\") as f:\n",
    "    f.write(data.content)"
   ]
  },
  {
   "cell_type": "markdown",
   "metadata": {},
   "source": [
    "## Creating an optimizer and solver\n",
    "Now we are ready to create an optimizer and a solver"
   ]
  },
  {
   "cell_type": "code",
   "execution_count": null,
   "metadata": {},
   "outputs": [],
   "source": [
    "def create_optimizer():\n",
    "    optimizer = g2opy.SparseOptimizer()\n",
    "    solver = g2opy.BlockSolverX(g2opy.LinearSolverEigenX())\n",
    "    solver = g2opy.OptimizationAlgorithmLevenberg(solver)\n",
    "    optimizer.set_algorithm(solver)\n",
    "    return optimizer\n",
    "\n",
    "\n",
    "optimizer = create_optimizer()"
   ]
  },
  {
   "cell_type": "markdown",
   "metadata": {},
   "source": [
    "## Loading the data\n",
    "Given the optimizer we now can load data into it. For that purpose, we use the\n",
    "data which we downloaded above."
   ]
  },
  {
   "cell_type": "code",
   "execution_count": null,
   "metadata": {},
   "outputs": [],
   "source": [
    "optimizer.clear()\n",
    "optimizer.load(tmp_filename)\n",
    "print(f\"Number of vertices: {len(optimizer.vertices())}\")\n",
    "print(f\"Number of edges {len(optimizer.edges())}\")"
   ]
  },
  {
   "cell_type": "markdown",
   "metadata": {},
   "source": [
    "## Visualization of the initial state\n",
    "Below, we can visualize the data"
   ]
  },
  {
   "cell_type": "code",
   "execution_count": null,
   "metadata": {},
   "outputs": [],
   "source": [
    "import plotly.graph_objects as go\n",
    "\n",
    "\n",
    "def plot_slam2d(optimizer, title):\n",
    "    def edges_coord(edges, dim):\n",
    "        for e in edges:\n",
    "            yield e.vertices()[0].estimate().to_vector()[dim]\n",
    "            yield e.vertices()[1].estimate().to_vector()[dim]\n",
    "            yield None\n",
    "\n",
    "    fig = go.Figure()\n",
    "\n",
    "    # poses of the vertices\n",
    "    vertices = optimizer.vertices()\n",
    "    fig.add_trace(\n",
    "        go.Scatter(\n",
    "            x=[v.estimate().to_vector()[0] for v in vertices.values()],\n",
    "            y=[v.estimate().to_vector()[1] for v in vertices.values()],\n",
    "            mode=\"markers\",\n",
    "        )\n",
    "    )\n",
    "\n",
    "    # edges\n",
    "    edges = optimizer.edges()  # get set once to have same order\n",
    "    fig.add_trace(\n",
    "        go.Scatter(\n",
    "            x=list(edges_coord(edges, 0)),\n",
    "            y=list(edges_coord(edges, 1)),\n",
    "            mode=\"lines\",\n",
    "            line=dict(width=0.5),\n",
    "        )\n",
    "    )\n",
    "\n",
    "    fig.update_yaxes(\n",
    "        scaleanchor=\"x\",\n",
    "        scaleratio=1,\n",
    "    )\n",
    "    fig.update_layout(go.Layout({\"title\": title, \"showlegend\": False}))\n",
    "\n",
    "    return fig\n",
    "\n",
    "\n",
    "fig = plot_slam2d(optimizer, \"Manhattan - Initial state\")\n",
    "fig.show()"
   ]
  },
  {
   "cell_type": "markdown",
   "metadata": {},
   "source": [
    "## Optimization and visualization\n",
    "Run the optimization and visualize the result"
   ]
  },
  {
   "cell_type": "code",
   "execution_count": null,
   "metadata": {},
   "outputs": [],
   "source": [
    "optimizer.vertices()[0].set_fixed(True)\n",
    "optimizer.initialize_optimization()\n",
    "optimizer.optimize(30)\n",
    "\n",
    "result_fig = plot_slam2d(optimizer, \"Manhattan - Optimized state\")\n",
    "result_fig.show()"
   ]
  },
  {
   "cell_type": "markdown",
   "metadata": {},
   "source": [
    "## Cleaning up\n",
    "Delete the temporary file"
   ]
  },
  {
   "cell_type": "code",
   "execution_count": null,
   "metadata": {},
   "outputs": [],
   "source": [
    "os.remove(tmp_filename)"
   ]
  }
 ],
 "metadata": {
  "interpreter": {
   "hash": "31f2aee4e71d21fbe5cf8b01ff0e069b9275f58929596ceb00d14d90e3e16cd6"
  },
  "kernelspec": {
   "display_name": "Python 3.9.7 64-bit",
   "language": "python",
   "name": "python3"
  },
  "language_info": {
   "codemirror_mode": {
    "name": "ipython",
    "version": 3
   },
   "file_extension": ".py",
   "mimetype": "text/x-python",
   "name": "python",
   "nbconvert_exporter": "python",
   "pygments_lexer": "ipython3",
   "version": "3.9.7"
  },
  "orig_nbformat": 4
 },
 "nbformat": 4,
 "nbformat_minor": 2
}
