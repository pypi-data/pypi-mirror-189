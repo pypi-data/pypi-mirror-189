{
 "cells": [
  {
   "cell_type": "code",
   "execution_count": 2,
   "metadata": {},
   "outputs": [
    {
     "name": "stdout",
     "output_type": "stream",
     "text": [
      "Collecting huble==0.2.257\n",
      "  Downloading huble-0.2.257-py3-none-any.whl (52 kB)\n",
      "\u001b[2K     \u001b[38;2;114;156;31m━━━━━━━━━━━━━━━━━━━━━━━━━━━━━━━━━━━━━━━━\u001b[0m \u001b[32m52.1/52.1 kB\u001b[0m \u001b[31m4.6 MB/s\u001b[0m eta \u001b[36m0:00:00\u001b[0m\n",
      "\u001b[?25hRequirement already satisfied: pandas<2.0.0,>=1.3.5 in /home/rugved/.cache/pypoetry/virtualenvs/huble-jmRcOqbb-py3.8/lib/python3.8/site-packages (from huble==0.2.257) (1.5.2)\n",
      "Requirement already satisfied: lightgbm<4.0.0,>=3.3.5 in /home/rugved/.cache/pypoetry/virtualenvs/huble-jmRcOqbb-py3.8/lib/python3.8/site-packages (from huble==0.2.257) (3.3.5)\n",
      "Requirement already satisfied: auto-sklearn==0.14.7 in /home/rugved/.cache/pypoetry/virtualenvs/huble-jmRcOqbb-py3.8/lib/python3.8/site-packages (from huble==0.2.257) (0.14.7)\n",
      "Requirement already satisfied: pydantic<2.0.0,>=1.10.4 in /home/rugved/.cache/pypoetry/virtualenvs/huble-jmRcOqbb-py3.8/lib/python3.8/site-packages (from huble==0.2.257) (1.10.4)\n",
      "Requirement already satisfied: catboost<2.0.0,>=1.1.1 in /home/rugved/.cache/pypoetry/virtualenvs/huble-jmRcOqbb-py3.8/lib/python3.8/site-packages (from huble==0.2.257) (1.1.1)\n",
      "Requirement already satisfied: boto3<2.0.0,>=1.26.63 in /home/rugved/.cache/pypoetry/virtualenvs/huble-jmRcOqbb-py3.8/lib/python3.8/site-packages (from huble==0.2.257) (1.26.63)\n",
      "Requirement already satisfied: xgboost<2.0.0,>=1.7.3 in /home/rugved/.cache/pypoetry/virtualenvs/huble-jmRcOqbb-py3.8/lib/python3.8/site-packages (from huble==0.2.257) (1.7.3)\n",
      "Requirement already satisfied: scipy<1.8.0,>=1.7.0 in /home/rugved/.cache/pypoetry/virtualenvs/huble-jmRcOqbb-py3.8/lib/python3.8/site-packages (from huble==0.2.257) (1.7.3)\n",
      "Requirement already satisfied: datacleaner<0.2.0,>=0.1.5 in /home/rugved/.cache/pypoetry/virtualenvs/huble-jmRcOqbb-py3.8/lib/python3.8/site-packages (from huble==0.2.257) (0.1.5)\n",
      "Requirement already satisfied: py-AutoClean<2.0.0,>=1.1.3 in /home/rugved/.cache/pypoetry/virtualenvs/huble-jmRcOqbb-py3.8/lib/python3.8/site-packages (from huble==0.2.257) (1.1.3)\n",
      "Requirement already satisfied: scikit-learn==0.24.2 in /home/rugved/.cache/pypoetry/virtualenvs/huble-jmRcOqbb-py3.8/lib/python3.8/site-packages (from huble==0.2.257) (0.24.2)\n",
      "Requirement already satisfied: woodwork<0.22.0,>=0.21.1 in /home/rugved/.cache/pypoetry/virtualenvs/huble-jmRcOqbb-py3.8/lib/python3.8/site-packages (from huble==0.2.257) (0.21.1)\n",
      "Requirement already satisfied: black<23.0.0,>=22.8.0 in /home/rugved/.cache/pypoetry/virtualenvs/huble-jmRcOqbb-py3.8/lib/python3.8/site-packages (from huble==0.2.257) (22.12.0)\n",
      "Requirement already satisfied: setuptools in /home/rugved/.cache/pypoetry/virtualenvs/huble-jmRcOqbb-py3.8/lib/python3.8/site-packages (from auto-sklearn==0.14.7->huble==0.2.257) (65.6.3)\n",
      "Requirement already satisfied: distributed>=2012.12 in /home/rugved/.cache/pypoetry/virtualenvs/huble-jmRcOqbb-py3.8/lib/python3.8/site-packages (from auto-sklearn==0.14.7->huble==0.2.257) (2022.2.0)\n",
      "Requirement already satisfied: dask>=2021.12 in /home/rugved/.cache/pypoetry/virtualenvs/huble-jmRcOqbb-py3.8/lib/python3.8/site-packages (from auto-sklearn==0.14.7->huble==0.2.257) (2022.2.0)\n",
      "Requirement already satisfied: joblib in /home/rugved/.cache/pypoetry/virtualenvs/huble-jmRcOqbb-py3.8/lib/python3.8/site-packages (from auto-sklearn==0.14.7->huble==0.2.257) (1.2.0)\n",
      "Requirement already satisfied: threadpoolctl in /home/rugved/.cache/pypoetry/virtualenvs/huble-jmRcOqbb-py3.8/lib/python3.8/site-packages (from auto-sklearn==0.14.7->huble==0.2.257) (3.1.0)\n",
      "Requirement already satisfied: numpy>=1.9.0 in /home/rugved/.cache/pypoetry/virtualenvs/huble-jmRcOqbb-py3.8/lib/python3.8/site-packages (from auto-sklearn==0.14.7->huble==0.2.257) (1.21.6)\n",
      "Requirement already satisfied: smac<1.3,>=1.2 in /home/rugved/.cache/pypoetry/virtualenvs/huble-jmRcOqbb-py3.8/lib/python3.8/site-packages (from auto-sklearn==0.14.7->huble==0.2.257) (1.2)\n",
      "Requirement already satisfied: liac-arff in /home/rugved/.cache/pypoetry/virtualenvs/huble-jmRcOqbb-py3.8/lib/python3.8/site-packages (from auto-sklearn==0.14.7->huble==0.2.257) (2.5.0)\n",
      "Requirement already satisfied: typing-extensions in /home/rugved/.cache/pypoetry/virtualenvs/huble-jmRcOqbb-py3.8/lib/python3.8/site-packages (from auto-sklearn==0.14.7->huble==0.2.257) (4.4.0)\n",
      "Requirement already satisfied: pyyaml in /home/rugved/.cache/pypoetry/virtualenvs/huble-jmRcOqbb-py3.8/lib/python3.8/site-packages (from auto-sklearn==0.14.7->huble==0.2.257) (6.0)\n",
      "Requirement already satisfied: distro in /home/rugved/.cache/pypoetry/virtualenvs/huble-jmRcOqbb-py3.8/lib/python3.8/site-packages (from auto-sklearn==0.14.7->huble==0.2.257) (1.8.0)\n",
      "Requirement already satisfied: ConfigSpace<0.5,>=0.4.21 in /home/rugved/.cache/pypoetry/virtualenvs/huble-jmRcOqbb-py3.8/lib/python3.8/site-packages (from auto-sklearn==0.14.7->huble==0.2.257) (0.4.21)\n",
      "Requirement already satisfied: pyrfr<0.9,>=0.8.1 in /home/rugved/.cache/pypoetry/virtualenvs/huble-jmRcOqbb-py3.8/lib/python3.8/site-packages (from auto-sklearn==0.14.7->huble==0.2.257) (0.8.3)\n",
      "Requirement already satisfied: pynisher<0.7,>=0.6.3 in /home/rugved/.cache/pypoetry/virtualenvs/huble-jmRcOqbb-py3.8/lib/python3.8/site-packages (from auto-sklearn==0.14.7->huble==0.2.257) (0.6.4)\n",
      "Requirement already satisfied: pathspec>=0.9.0 in /home/rugved/.cache/pypoetry/virtualenvs/huble-jmRcOqbb-py3.8/lib/python3.8/site-packages (from black<23.0.0,>=22.8.0->huble==0.2.257) (0.10.3)\n",
      "Requirement already satisfied: click>=8.0.0 in /home/rugved/.cache/pypoetry/virtualenvs/huble-jmRcOqbb-py3.8/lib/python3.8/site-packages (from black<23.0.0,>=22.8.0->huble==0.2.257) (8.1.3)\n",
      "Requirement already satisfied: mypy-extensions>=0.4.3 in /home/rugved/.cache/pypoetry/virtualenvs/huble-jmRcOqbb-py3.8/lib/python3.8/site-packages (from black<23.0.0,>=22.8.0->huble==0.2.257) (0.4.3)\n",
      "Requirement already satisfied: tomli>=1.1.0 in /home/rugved/.cache/pypoetry/virtualenvs/huble-jmRcOqbb-py3.8/lib/python3.8/site-packages (from black<23.0.0,>=22.8.0->huble==0.2.257) (2.0.1)\n",
      "Requirement already satisfied: platformdirs>=2 in /home/rugved/.cache/pypoetry/virtualenvs/huble-jmRcOqbb-py3.8/lib/python3.8/site-packages (from black<23.0.0,>=22.8.0->huble==0.2.257) (2.6.0)\n",
      "Requirement already satisfied: botocore<1.30.0,>=1.29.63 in /home/rugved/.cache/pypoetry/virtualenvs/huble-jmRcOqbb-py3.8/lib/python3.8/site-packages (from boto3<2.0.0,>=1.26.63->huble==0.2.257) (1.29.63)\n",
      "Requirement already satisfied: jmespath<2.0.0,>=0.7.1 in /home/rugved/.cache/pypoetry/virtualenvs/huble-jmRcOqbb-py3.8/lib/python3.8/site-packages (from boto3<2.0.0,>=1.26.63->huble==0.2.257) (1.0.1)\n",
      "Requirement already satisfied: s3transfer<0.7.0,>=0.6.0 in /home/rugved/.cache/pypoetry/virtualenvs/huble-jmRcOqbb-py3.8/lib/python3.8/site-packages (from boto3<2.0.0,>=1.26.63->huble==0.2.257) (0.6.0)\n",
      "Requirement already satisfied: six in /home/rugved/.cache/pypoetry/virtualenvs/huble-jmRcOqbb-py3.8/lib/python3.8/site-packages (from catboost<2.0.0,>=1.1.1->huble==0.2.257) (1.16.0)\n",
      "Requirement already satisfied: matplotlib in /home/rugved/.cache/pypoetry/virtualenvs/huble-jmRcOqbb-py3.8/lib/python3.8/site-packages (from catboost<2.0.0,>=1.1.1->huble==0.2.257) (3.6.3)\n",
      "Requirement already satisfied: plotly in /home/rugved/.cache/pypoetry/virtualenvs/huble-jmRcOqbb-py3.8/lib/python3.8/site-packages (from catboost<2.0.0,>=1.1.1->huble==0.2.257) (5.13.0)\n",
      "Requirement already satisfied: graphviz in /home/rugved/.cache/pypoetry/virtualenvs/huble-jmRcOqbb-py3.8/lib/python3.8/site-packages (from catboost<2.0.0,>=1.1.1->huble==0.2.257) (0.20.1)\n",
      "Requirement already satisfied: update-checker in /home/rugved/.cache/pypoetry/virtualenvs/huble-jmRcOqbb-py3.8/lib/python3.8/site-packages (from datacleaner<0.2.0,>=0.1.5->huble==0.2.257) (0.18.0)\n",
      "Requirement already satisfied: wheel in /home/rugved/.cache/pypoetry/virtualenvs/huble-jmRcOqbb-py3.8/lib/python3.8/site-packages (from lightgbm<4.0.0,>=3.3.5->huble==0.2.257) (0.38.4)\n",
      "Requirement already satisfied: pytz>=2020.1 in /home/rugved/.cache/pypoetry/virtualenvs/huble-jmRcOqbb-py3.8/lib/python3.8/site-packages (from pandas<2.0.0,>=1.3.5->huble==0.2.257) (2022.7)\n",
      "Requirement already satisfied: python-dateutil>=2.8.1 in /home/rugved/.cache/pypoetry/virtualenvs/huble-jmRcOqbb-py3.8/lib/python3.8/site-packages (from pandas<2.0.0,>=1.3.5->huble==0.2.257) (2.8.2)\n",
      "Requirement already satisfied: loguru in /home/rugved/.cache/pypoetry/virtualenvs/huble-jmRcOqbb-py3.8/lib/python3.8/site-packages (from py-AutoClean<2.0.0,>=1.1.3->huble==0.2.257) (0.6.0)\n",
      "Requirement already satisfied: importlib-resources>=5.10.0 in /home/rugved/.cache/pypoetry/virtualenvs/huble-jmRcOqbb-py3.8/lib/python3.8/site-packages (from woodwork<0.22.0,>=0.21.1->huble==0.2.257) (5.10.1)\n",
      "Requirement already satisfied: urllib3<1.27,>=1.25.4 in /home/rugved/.cache/pypoetry/virtualenvs/huble-jmRcOqbb-py3.8/lib/python3.8/site-packages (from botocore<1.30.0,>=1.29.63->boto3<2.0.0,>=1.26.63->huble==0.2.257) (1.26.14)\n",
      "Requirement already satisfied: pyparsing in /home/rugved/.cache/pypoetry/virtualenvs/huble-jmRcOqbb-py3.8/lib/python3.8/site-packages (from ConfigSpace<0.5,>=0.4.21->auto-sklearn==0.14.7->huble==0.2.257) (3.0.9)\n",
      "Requirement already satisfied: cython in /home/rugved/.cache/pypoetry/virtualenvs/huble-jmRcOqbb-py3.8/lib/python3.8/site-packages (from ConfigSpace<0.5,>=0.4.21->auto-sklearn==0.14.7->huble==0.2.257) (0.29.32)\n",
      "Requirement already satisfied: cloudpickle>=1.1.1 in /home/rugved/.cache/pypoetry/virtualenvs/huble-jmRcOqbb-py3.8/lib/python3.8/site-packages (from dask>=2021.12->auto-sklearn==0.14.7->huble==0.2.257) (2.2.0)\n",
      "Requirement already satisfied: toolz>=0.8.2 in /home/rugved/.cache/pypoetry/virtualenvs/huble-jmRcOqbb-py3.8/lib/python3.8/site-packages (from dask>=2021.12->auto-sklearn==0.14.7->huble==0.2.257) (0.12.0)\n",
      "Requirement already satisfied: partd>=0.3.10 in /home/rugved/.cache/pypoetry/virtualenvs/huble-jmRcOqbb-py3.8/lib/python3.8/site-packages (from dask>=2021.12->auto-sklearn==0.14.7->huble==0.2.257) (1.3.0)\n",
      "Requirement already satisfied: fsspec>=0.6.0 in /home/rugved/.cache/pypoetry/virtualenvs/huble-jmRcOqbb-py3.8/lib/python3.8/site-packages (from dask>=2021.12->auto-sklearn==0.14.7->huble==0.2.257) (2022.11.0)\n",
      "Requirement already satisfied: packaging>=20.0 in /home/rugved/.cache/pypoetry/virtualenvs/huble-jmRcOqbb-py3.8/lib/python3.8/site-packages (from dask>=2021.12->auto-sklearn==0.14.7->huble==0.2.257) (22.0)\n",
      "Requirement already satisfied: tornado>=6.0.3 in /home/rugved/.cache/pypoetry/virtualenvs/huble-jmRcOqbb-py3.8/lib/python3.8/site-packages (from distributed>=2012.12->auto-sklearn==0.14.7->huble==0.2.257) (6.2)\n",
      "Requirement already satisfied: jinja2 in /home/rugved/.cache/pypoetry/virtualenvs/huble-jmRcOqbb-py3.8/lib/python3.8/site-packages (from distributed>=2012.12->auto-sklearn==0.14.7->huble==0.2.257) (3.1.2)\n",
      "Requirement already satisfied: psutil>=5.0 in /home/rugved/.cache/pypoetry/virtualenvs/huble-jmRcOqbb-py3.8/lib/python3.8/site-packages (from distributed>=2012.12->auto-sklearn==0.14.7->huble==0.2.257) (5.9.4)\n",
      "Requirement already satisfied: sortedcontainers!=2.0.0,!=2.0.1 in /home/rugved/.cache/pypoetry/virtualenvs/huble-jmRcOqbb-py3.8/lib/python3.8/site-packages (from distributed>=2012.12->auto-sklearn==0.14.7->huble==0.2.257) (2.4.0)\n",
      "Requirement already satisfied: msgpack>=0.6.0 in /home/rugved/.cache/pypoetry/virtualenvs/huble-jmRcOqbb-py3.8/lib/python3.8/site-packages (from distributed>=2012.12->auto-sklearn==0.14.7->huble==0.2.257) (1.0.4)\n",
      "Requirement already satisfied: zict>=0.1.3 in /home/rugved/.cache/pypoetry/virtualenvs/huble-jmRcOqbb-py3.8/lib/python3.8/site-packages (from distributed>=2012.12->auto-sklearn==0.14.7->huble==0.2.257) (2.2.0)\n",
      "Requirement already satisfied: tblib>=1.6.0 in /home/rugved/.cache/pypoetry/virtualenvs/huble-jmRcOqbb-py3.8/lib/python3.8/site-packages (from distributed>=2012.12->auto-sklearn==0.14.7->huble==0.2.257) (1.7.0)\n",
      "Requirement already satisfied: zipp>=3.1.0 in /home/rugved/.cache/pypoetry/virtualenvs/huble-jmRcOqbb-py3.8/lib/python3.8/site-packages (from importlib-resources>=5.10.0->woodwork<0.22.0,>=0.21.1->huble==0.2.257) (3.11.0)\n",
      "Requirement already satisfied: emcee>=3.0.0 in /home/rugved/.cache/pypoetry/virtualenvs/huble-jmRcOqbb-py3.8/lib/python3.8/site-packages (from smac<1.3,>=1.2->auto-sklearn==0.14.7->huble==0.2.257) (3.1.3)\n",
      "Requirement already satisfied: pillow>=6.2.0 in /home/rugved/.cache/pypoetry/virtualenvs/huble-jmRcOqbb-py3.8/lib/python3.8/site-packages (from matplotlib->catboost<2.0.0,>=1.1.1->huble==0.2.257) (9.4.0)\n",
      "Requirement already satisfied: contourpy>=1.0.1 in /home/rugved/.cache/pypoetry/virtualenvs/huble-jmRcOqbb-py3.8/lib/python3.8/site-packages (from matplotlib->catboost<2.0.0,>=1.1.1->huble==0.2.257) (1.0.7)\n",
      "Requirement already satisfied: cycler>=0.10 in /home/rugved/.cache/pypoetry/virtualenvs/huble-jmRcOqbb-py3.8/lib/python3.8/site-packages (from matplotlib->catboost<2.0.0,>=1.1.1->huble==0.2.257) (0.11.0)\n",
      "Requirement already satisfied: kiwisolver>=1.0.1 in /home/rugved/.cache/pypoetry/virtualenvs/huble-jmRcOqbb-py3.8/lib/python3.8/site-packages (from matplotlib->catboost<2.0.0,>=1.1.1->huble==0.2.257) (1.4.4)\n",
      "Requirement already satisfied: fonttools>=4.22.0 in /home/rugved/.cache/pypoetry/virtualenvs/huble-jmRcOqbb-py3.8/lib/python3.8/site-packages (from matplotlib->catboost<2.0.0,>=1.1.1->huble==0.2.257) (4.38.0)\n",
      "Requirement already satisfied: tenacity>=6.2.0 in /home/rugved/.cache/pypoetry/virtualenvs/huble-jmRcOqbb-py3.8/lib/python3.8/site-packages (from plotly->catboost<2.0.0,>=1.1.1->huble==0.2.257) (8.1.0)\n",
      "Requirement already satisfied: requests>=2.3.0 in /home/rugved/.cache/pypoetry/virtualenvs/huble-jmRcOqbb-py3.8/lib/python3.8/site-packages (from update-checker->datacleaner<0.2.0,>=0.1.5->huble==0.2.257) (2.28.2)\n",
      "Requirement already satisfied: locket in /home/rugved/.cache/pypoetry/virtualenvs/huble-jmRcOqbb-py3.8/lib/python3.8/site-packages (from partd>=0.3.10->dask>=2021.12->auto-sklearn==0.14.7->huble==0.2.257) (1.0.0)\n",
      "Requirement already satisfied: certifi>=2017.4.17 in /home/rugved/.cache/pypoetry/virtualenvs/huble-jmRcOqbb-py3.8/lib/python3.8/site-packages (from requests>=2.3.0->update-checker->datacleaner<0.2.0,>=0.1.5->huble==0.2.257) (2022.12.7)\n",
      "Requirement already satisfied: idna<4,>=2.5 in /home/rugved/.cache/pypoetry/virtualenvs/huble-jmRcOqbb-py3.8/lib/python3.8/site-packages (from requests>=2.3.0->update-checker->datacleaner<0.2.0,>=0.1.5->huble==0.2.257) (3.4)\n",
      "Requirement already satisfied: charset-normalizer<4,>=2 in /home/rugved/.cache/pypoetry/virtualenvs/huble-jmRcOqbb-py3.8/lib/python3.8/site-packages (from requests>=2.3.0->update-checker->datacleaner<0.2.0,>=0.1.5->huble==0.2.257) (3.0.1)\n",
      "Requirement already satisfied: heapdict in /home/rugved/.cache/pypoetry/virtualenvs/huble-jmRcOqbb-py3.8/lib/python3.8/site-packages (from zict>=0.1.3->distributed>=2012.12->auto-sklearn==0.14.7->huble==0.2.257) (1.0.1)\n",
      "Requirement already satisfied: MarkupSafe>=2.0 in /home/rugved/.cache/pypoetry/virtualenvs/huble-jmRcOqbb-py3.8/lib/python3.8/site-packages (from jinja2->distributed>=2012.12->auto-sklearn==0.14.7->huble==0.2.257) (2.1.1)\n",
      "Installing collected packages: huble\n",
      "  Attempting uninstall: huble\n",
      "    Found existing installation: huble 0.2.256\n",
      "    Uninstalling huble-0.2.256:\n",
      "      Successfully uninstalled huble-0.2.256\n",
      "Successfully installed huble-0.2.257\n",
      "\n",
      "\u001b[1m[\u001b[0m\u001b[34;49mnotice\u001b[0m\u001b[1;39;49m]\u001b[0m\u001b[39;49m A new release of pip available: \u001b[0m\u001b[31;49m22.2.2\u001b[0m\u001b[39;49m -> \u001b[0m\u001b[32;49m22.3.1\u001b[0m\n",
      "\u001b[1m[\u001b[0m\u001b[34;49mnotice\u001b[0m\u001b[1;39;49m]\u001b[0m\u001b[39;49m To update, run: \u001b[0m\u001b[32;49mpip install --upgrade pip\u001b[0m\n"
     ]
    }
   ],
   "source": [
    "!pip install huble==0.2.257"
   ]
  },
  {
   "cell_type": "code",
   "execution_count": 8,
   "metadata": {},
   "outputs": [],
   "source": [
    "from huble import generate_experiment\n",
    "from huble import Experiment\n",
    "experiment = generate_experiment(experiment_id=\"ed3def81-f17e-4777-83c9-06708799c7b5\")"
   ]
  },
  {
   "cell_type": "code",
   "execution_count": 1,
   "metadata": {},
   "outputs": [],
   "source": [
    "from output import run_experiment"
   ]
  },
  {
   "cell_type": "code",
   "execution_count": 3,
   "metadata": {},
   "outputs": [
    {
     "ename": "KeyError",
     "evalue": "''",
     "output_type": "error",
     "traceback": [
      "\u001b[0;31m---------------------------------------------------------------------------\u001b[0m",
      "\u001b[0;31mKeyError\u001b[0m                                  Traceback (most recent call last)",
      "\u001b[0;32m~/.cache/pypoetry/virtualenvs/huble-jmRcOqbb-py3.8/lib/python3.8/site-packages/pandas/core/indexes/base.py\u001b[0m in \u001b[0;36mget_loc\u001b[0;34m(self, key, method, tolerance)\u001b[0m\n\u001b[1;32m   3802\u001b[0m             \u001b[0;32mtry\u001b[0m\u001b[0;34m:\u001b[0m\u001b[0;34m\u001b[0m\u001b[0;34m\u001b[0m\u001b[0m\n\u001b[0;32m-> 3803\u001b[0;31m                 \u001b[0;32mreturn\u001b[0m \u001b[0mself\u001b[0m\u001b[0;34m.\u001b[0m\u001b[0m_engine\u001b[0m\u001b[0;34m.\u001b[0m\u001b[0mget_loc\u001b[0m\u001b[0;34m(\u001b[0m\u001b[0mcasted_key\u001b[0m\u001b[0;34m)\u001b[0m\u001b[0;34m\u001b[0m\u001b[0;34m\u001b[0m\u001b[0m\n\u001b[0m\u001b[1;32m   3804\u001b[0m             \u001b[0;32mexcept\u001b[0m \u001b[0mKeyError\u001b[0m \u001b[0;32mas\u001b[0m \u001b[0merr\u001b[0m\u001b[0;34m:\u001b[0m\u001b[0;34m\u001b[0m\u001b[0;34m\u001b[0m\u001b[0m\n",
      "\u001b[0;32m~/.cache/pypoetry/virtualenvs/huble-jmRcOqbb-py3.8/lib/python3.8/site-packages/pandas/_libs/index.pyx\u001b[0m in \u001b[0;36mpandas._libs.index.IndexEngine.get_loc\u001b[0;34m()\u001b[0m\n",
      "\u001b[0;32m~/.cache/pypoetry/virtualenvs/huble-jmRcOqbb-py3.8/lib/python3.8/site-packages/pandas/_libs/index.pyx\u001b[0m in \u001b[0;36mpandas._libs.index.IndexEngine.get_loc\u001b[0;34m()\u001b[0m\n",
      "\u001b[0;32mpandas/_libs/hashtable_class_helper.pxi\u001b[0m in \u001b[0;36mpandas._libs.hashtable.PyObjectHashTable.get_item\u001b[0;34m()\u001b[0m\n",
      "\u001b[0;32mpandas/_libs/hashtable_class_helper.pxi\u001b[0m in \u001b[0;36mpandas._libs.hashtable.PyObjectHashTable.get_item\u001b[0;34m()\u001b[0m\n",
      "\u001b[0;31mKeyError\u001b[0m: ''",
      "\nThe above exception was the direct cause of the following exception:\n",
      "\u001b[0;31mKeyError\u001b[0m                                  Traceback (most recent call last)",
      "\u001b[0;32m/tmp/ipykernel_78795/557650162.py\u001b[0m in \u001b[0;36m<cell line: 1>\u001b[0;34m()\u001b[0m\n\u001b[0;32m----> 1\u001b[0;31m \u001b[0mrun_experiment\u001b[0m\u001b[0;34m(\u001b[0m\u001b[0mexperiment\u001b[0m\u001b[0;34m)\u001b[0m\u001b[0;34m\u001b[0m\u001b[0;34m\u001b[0m\u001b[0m\n\u001b[0m",
      "\u001b[0;32m~/Projects/huble/src/huble/sklearn/temp/output.py\u001b[0m in \u001b[0;36mrun_experiment\u001b[0;34m(experiment)\u001b[0m\n\u001b[1;32m      5\u001b[0m         \u001b[0mdata\u001b[0m \u001b[0;34m=\u001b[0m \u001b[0mDataset\u001b[0m\u001b[0;34m(\u001b[0m\u001b[0;34m'https://ipfs.filebase.io/ipfs/QmQgqzVKBQX1Gpyz3P1fJDricbhdzSNd9oLSCrNwDd5ANc'\u001b[0m\u001b[0;34m)\u001b[0m\u001b[0;34m.\u001b[0m\u001b[0mdataframe\u001b[0m\u001b[0;34m\u001b[0m\u001b[0;34m\u001b[0m\u001b[0m\n\u001b[1;32m      6\u001b[0m         \u001b[0mdata\u001b[0m \u001b[0;34m=\u001b[0m \u001b[0mhuble\u001b[0m\u001b[0;34m.\u001b[0m\u001b[0msklearn\u001b[0m\u001b[0;34m.\u001b[0m\u001b[0mdrop_rows_columns\u001b[0m\u001b[0;34m(\u001b[0m\u001b[0mdata\u001b[0m\u001b[0;34m=\u001b[0m\u001b[0mdata\u001b[0m\u001b[0;34m,\u001b[0m\u001b[0mparameters\u001b[0m\u001b[0;34m=\u001b[0m\u001b[0;34m{\u001b[0m\u001b[0;34m'labels'\u001b[0m\u001b[0;34m:\u001b[0m \u001b[0;34m[\u001b[0m\u001b[0;34m'index'\u001b[0m\u001b[0;34m]\u001b[0m\u001b[0;34m,\u001b[0m \u001b[0;34m'axis'\u001b[0m\u001b[0;34m:\u001b[0m \u001b[0;36m1\u001b[0m\u001b[0;34m,\u001b[0m \u001b[0;34m'inplace'\u001b[0m\u001b[0;34m:\u001b[0m \u001b[0;32mFalse\u001b[0m\u001b[0;34m,\u001b[0m \u001b[0;34m'errors'\u001b[0m\u001b[0;34m:\u001b[0m \u001b[0;34m'raise'\u001b[0m\u001b[0;34m}\u001b[0m\u001b[0;34m)\u001b[0m\u001b[0;34m\u001b[0m\u001b[0;34m\u001b[0m\u001b[0m\n\u001b[0;32m----> 7\u001b[0;31m         \u001b[0mdata\u001b[0m \u001b[0;34m=\u001b[0m \u001b[0mhuble\u001b[0m\u001b[0;34m.\u001b[0m\u001b[0msklearn\u001b[0m\u001b[0;34m.\u001b[0m\u001b[0mclean_data\u001b[0m\u001b[0;34m(\u001b[0m\u001b[0mdata\u001b[0m\u001b[0;34m=\u001b[0m\u001b[0mdata\u001b[0m\u001b[0;34m)\u001b[0m\u001b[0;34m\u001b[0m\u001b[0;34m\u001b[0m\u001b[0m\n\u001b[0m\u001b[1;32m      8\u001b[0m         \u001b[0mtraining_dataset\u001b[0m\u001b[0;34m,\u001b[0m \u001b[0mtest_dataset\u001b[0m \u001b[0;34m=\u001b[0m \u001b[0mhuble\u001b[0m\u001b[0;34m.\u001b[0m\u001b[0msklearn\u001b[0m\u001b[0;34m.\u001b[0m\u001b[0mtrain_test_split\u001b[0m\u001b[0;34m(\u001b[0m\u001b[0mdata\u001b[0m\u001b[0;34m=\u001b[0m\u001b[0mdata\u001b[0m\u001b[0;34m,\u001b[0m\u001b[0mparameters\u001b[0m\u001b[0;34m=\u001b[0m\u001b[0;34m{\u001b[0m\u001b[0;34m'test_size'\u001b[0m\u001b[0;34m:\u001b[0m \u001b[0;36m0.1\u001b[0m\u001b[0;34m}\u001b[0m\u001b[0;34m)\u001b[0m\u001b[0;34m\u001b[0m\u001b[0;34m\u001b[0m\u001b[0m\n\u001b[1;32m      9\u001b[0m         \u001b[0mModel\u001b[0m\u001b[0;34m,\u001b[0m \u001b[0minput_format\u001b[0m\u001b[0;34m,\u001b[0m \u001b[0mfilename\u001b[0m \u001b[0;34m=\u001b[0m \u001b[0mhuble\u001b[0m\u001b[0;34m.\u001b[0m\u001b[0msklearn\u001b[0m\u001b[0;34m.\u001b[0m\u001b[0mtrain_model\u001b[0m\u001b[0;34m(\u001b[0m\u001b[0mdata\u001b[0m\u001b[0;34m=\u001b[0m\u001b[0mtraining_dataset\u001b[0m\u001b[0;34m,\u001b[0m \u001b[0mmodel\u001b[0m\u001b[0;34m=\u001b[0m\u001b[0mmodel\u001b[0m\u001b[0;34m,\u001b[0m \u001b[0mcolumn\u001b[0m\u001b[0;34m=\u001b[0m\u001b[0;34m''\u001b[0m\u001b[0;34m)\u001b[0m\u001b[0;34m\u001b[0m\u001b[0;34m\u001b[0m\u001b[0m\n",
      "\u001b[0;32m~/.cache/pypoetry/virtualenvs/huble-jmRcOqbb-py3.8/lib/python3.8/site-packages/huble/sklearn/essentials/function.py\u001b[0m in \u001b[0;36mtrain_model\u001b[0;34m(**params)\u001b[0m\n\u001b[1;32m     18\u001b[0m \u001b[0;32mdef\u001b[0m \u001b[0mtrain_model\u001b[0m\u001b[0;34m(\u001b[0m\u001b[0;34m**\u001b[0m\u001b[0mparams\u001b[0m\u001b[0;34m)\u001b[0m\u001b[0;34m:\u001b[0m\u001b[0;34m\u001b[0m\u001b[0;34m\u001b[0m\u001b[0m\n\u001b[1;32m     19\u001b[0m     \u001b[0mdata\u001b[0m \u001b[0;34m=\u001b[0m \u001b[0mparams\u001b[0m\u001b[0;34m[\u001b[0m\u001b[0;34m\"data\"\u001b[0m\u001b[0;34m]\u001b[0m\u001b[0;34m\u001b[0m\u001b[0;34m\u001b[0m\u001b[0m\n\u001b[0;32m---> 20\u001b[0;31m     \u001b[0my\u001b[0m \u001b[0;34m=\u001b[0m \u001b[0mdata\u001b[0m\u001b[0;34m[\u001b[0m\u001b[0mparams\u001b[0m\u001b[0;34m[\u001b[0m\u001b[0;34m\"column\"\u001b[0m\u001b[0;34m]\u001b[0m\u001b[0;34m]\u001b[0m\u001b[0;34m\u001b[0m\u001b[0;34m\u001b[0m\u001b[0m\n\u001b[0m\u001b[1;32m     21\u001b[0m     \u001b[0mX\u001b[0m \u001b[0;34m=\u001b[0m \u001b[0mdata\u001b[0m\u001b[0;34m.\u001b[0m\u001b[0mdrop\u001b[0m\u001b[0;34m(\u001b[0m\u001b[0mparams\u001b[0m\u001b[0;34m[\u001b[0m\u001b[0;34m\"column\"\u001b[0m\u001b[0;34m]\u001b[0m\u001b[0;34m,\u001b[0m \u001b[0maxis\u001b[0m\u001b[0;34m=\u001b[0m\u001b[0;36m1\u001b[0m\u001b[0;34m)\u001b[0m\u001b[0;34m\u001b[0m\u001b[0;34m\u001b[0m\u001b[0m\n\u001b[1;32m     22\u001b[0m     \u001b[0mdata_dict\u001b[0m  \u001b[0;34m=\u001b[0m \u001b[0mget_dataframe_types\u001b[0m\u001b[0;34m(\u001b[0m\u001b[0mX\u001b[0m\u001b[0;34m)\u001b[0m\u001b[0;34m\u001b[0m\u001b[0;34m\u001b[0m\u001b[0m\n",
      "\u001b[0;32m~/.cache/pypoetry/virtualenvs/huble-jmRcOqbb-py3.8/lib/python3.8/site-packages/pandas/core/frame.py\u001b[0m in \u001b[0;36m__getitem__\u001b[0;34m(self, key)\u001b[0m\n\u001b[1;32m   3803\u001b[0m             \u001b[0;32mif\u001b[0m \u001b[0mself\u001b[0m\u001b[0;34m.\u001b[0m\u001b[0mcolumns\u001b[0m\u001b[0;34m.\u001b[0m\u001b[0mnlevels\u001b[0m \u001b[0;34m>\u001b[0m \u001b[0;36m1\u001b[0m\u001b[0;34m:\u001b[0m\u001b[0;34m\u001b[0m\u001b[0;34m\u001b[0m\u001b[0m\n\u001b[1;32m   3804\u001b[0m                 \u001b[0;32mreturn\u001b[0m \u001b[0mself\u001b[0m\u001b[0;34m.\u001b[0m\u001b[0m_getitem_multilevel\u001b[0m\u001b[0;34m(\u001b[0m\u001b[0mkey\u001b[0m\u001b[0;34m)\u001b[0m\u001b[0;34m\u001b[0m\u001b[0;34m\u001b[0m\u001b[0m\n\u001b[0;32m-> 3805\u001b[0;31m             \u001b[0mindexer\u001b[0m \u001b[0;34m=\u001b[0m \u001b[0mself\u001b[0m\u001b[0;34m.\u001b[0m\u001b[0mcolumns\u001b[0m\u001b[0;34m.\u001b[0m\u001b[0mget_loc\u001b[0m\u001b[0;34m(\u001b[0m\u001b[0mkey\u001b[0m\u001b[0;34m)\u001b[0m\u001b[0;34m\u001b[0m\u001b[0;34m\u001b[0m\u001b[0m\n\u001b[0m\u001b[1;32m   3806\u001b[0m             \u001b[0;32mif\u001b[0m \u001b[0mis_integer\u001b[0m\u001b[0;34m(\u001b[0m\u001b[0mindexer\u001b[0m\u001b[0;34m)\u001b[0m\u001b[0;34m:\u001b[0m\u001b[0;34m\u001b[0m\u001b[0;34m\u001b[0m\u001b[0m\n\u001b[1;32m   3807\u001b[0m                 \u001b[0mindexer\u001b[0m \u001b[0;34m=\u001b[0m \u001b[0;34m[\u001b[0m\u001b[0mindexer\u001b[0m\u001b[0;34m]\u001b[0m\u001b[0;34m\u001b[0m\u001b[0;34m\u001b[0m\u001b[0m\n",
      "\u001b[0;32m~/.cache/pypoetry/virtualenvs/huble-jmRcOqbb-py3.8/lib/python3.8/site-packages/pandas/core/indexes/base.py\u001b[0m in \u001b[0;36mget_loc\u001b[0;34m(self, key, method, tolerance)\u001b[0m\n\u001b[1;32m   3803\u001b[0m                 \u001b[0;32mreturn\u001b[0m \u001b[0mself\u001b[0m\u001b[0;34m.\u001b[0m\u001b[0m_engine\u001b[0m\u001b[0;34m.\u001b[0m\u001b[0mget_loc\u001b[0m\u001b[0;34m(\u001b[0m\u001b[0mcasted_key\u001b[0m\u001b[0;34m)\u001b[0m\u001b[0;34m\u001b[0m\u001b[0;34m\u001b[0m\u001b[0m\n\u001b[1;32m   3804\u001b[0m             \u001b[0;32mexcept\u001b[0m \u001b[0mKeyError\u001b[0m \u001b[0;32mas\u001b[0m \u001b[0merr\u001b[0m\u001b[0;34m:\u001b[0m\u001b[0;34m\u001b[0m\u001b[0;34m\u001b[0m\u001b[0m\n\u001b[0;32m-> 3805\u001b[0;31m                 \u001b[0;32mraise\u001b[0m \u001b[0mKeyError\u001b[0m\u001b[0;34m(\u001b[0m\u001b[0mkey\u001b[0m\u001b[0;34m)\u001b[0m \u001b[0;32mfrom\u001b[0m \u001b[0merr\u001b[0m\u001b[0;34m\u001b[0m\u001b[0;34m\u001b[0m\u001b[0m\n\u001b[0m\u001b[1;32m   3806\u001b[0m             \u001b[0;32mexcept\u001b[0m \u001b[0mTypeError\u001b[0m\u001b[0;34m:\u001b[0m\u001b[0;34m\u001b[0m\u001b[0;34m\u001b[0m\u001b[0m\n\u001b[1;32m   3807\u001b[0m                 \u001b[0;31m# If we have a listlike key, _check_indexing_error will raise\u001b[0m\u001b[0;34m\u001b[0m\u001b[0;34m\u001b[0m\u001b[0;34m\u001b[0m\u001b[0m\n",
      "\u001b[0;31mKeyError\u001b[0m: ''"
     ]
    }
   ],
   "source": [
    "run_experiment(experiment)"
   ]
  },
  {
   "cell_type": "code",
   "execution_count": 6,
   "metadata": {},
   "outputs": [
    {
     "ename": "KeyError",
     "evalue": "''",
     "output_type": "error",
     "traceback": [
      "\u001b[0;31m---------------------------------------------------------------------------\u001b[0m",
      "\u001b[0;31mKeyError\u001b[0m                                  Traceback (most recent call last)",
      "\u001b[0;32m~/.cache/pypoetry/virtualenvs/huble-jmRcOqbb-py3.8/lib/python3.8/site-packages/pandas/core/indexes/base.py\u001b[0m in \u001b[0;36mget_loc\u001b[0;34m(self, key, method, tolerance)\u001b[0m\n\u001b[1;32m   3802\u001b[0m             \u001b[0;32mtry\u001b[0m\u001b[0;34m:\u001b[0m\u001b[0;34m\u001b[0m\u001b[0;34m\u001b[0m\u001b[0m\n\u001b[0;32m-> 3803\u001b[0;31m                 \u001b[0;32mreturn\u001b[0m \u001b[0mself\u001b[0m\u001b[0;34m.\u001b[0m\u001b[0m_engine\u001b[0m\u001b[0;34m.\u001b[0m\u001b[0mget_loc\u001b[0m\u001b[0;34m(\u001b[0m\u001b[0mcasted_key\u001b[0m\u001b[0;34m)\u001b[0m\u001b[0;34m\u001b[0m\u001b[0;34m\u001b[0m\u001b[0m\n\u001b[0m\u001b[1;32m   3804\u001b[0m             \u001b[0;32mexcept\u001b[0m \u001b[0mKeyError\u001b[0m \u001b[0;32mas\u001b[0m \u001b[0merr\u001b[0m\u001b[0;34m:\u001b[0m\u001b[0;34m\u001b[0m\u001b[0;34m\u001b[0m\u001b[0m\n",
      "\u001b[0;32m~/.cache/pypoetry/virtualenvs/huble-jmRcOqbb-py3.8/lib/python3.8/site-packages/pandas/_libs/index.pyx\u001b[0m in \u001b[0;36mpandas._libs.index.IndexEngine.get_loc\u001b[0;34m()\u001b[0m\n",
      "\u001b[0;32m~/.cache/pypoetry/virtualenvs/huble-jmRcOqbb-py3.8/lib/python3.8/site-packages/pandas/_libs/index.pyx\u001b[0m in \u001b[0;36mpandas._libs.index.IndexEngine.get_loc\u001b[0;34m()\u001b[0m\n",
      "\u001b[0;32mpandas/_libs/hashtable_class_helper.pxi\u001b[0m in \u001b[0;36mpandas._libs.hashtable.PyObjectHashTable.get_item\u001b[0;34m()\u001b[0m\n",
      "\u001b[0;32mpandas/_libs/hashtable_class_helper.pxi\u001b[0m in \u001b[0;36mpandas._libs.hashtable.PyObjectHashTable.get_item\u001b[0;34m()\u001b[0m\n",
      "\u001b[0;31mKeyError\u001b[0m: ''",
      "\nThe above exception was the direct cause of the following exception:\n",
      "\u001b[0;31mKeyError\u001b[0m                                  Traceback (most recent call last)",
      "\u001b[0;32m/tmp/ipykernel_78795/1498311818.py\u001b[0m in \u001b[0;36m<cell line: 8>\u001b[0;34m()\u001b[0m\n\u001b[1;32m      6\u001b[0m \u001b[0mdata\u001b[0m \u001b[0;34m=\u001b[0m \u001b[0mhuble\u001b[0m\u001b[0;34m.\u001b[0m\u001b[0msklearn\u001b[0m\u001b[0;34m.\u001b[0m\u001b[0mclean_data\u001b[0m\u001b[0;34m(\u001b[0m\u001b[0mdata\u001b[0m\u001b[0;34m=\u001b[0m\u001b[0mdata\u001b[0m\u001b[0;34m)\u001b[0m\u001b[0;34m\u001b[0m\u001b[0;34m\u001b[0m\u001b[0m\n\u001b[1;32m      7\u001b[0m \u001b[0mtraining_dataset\u001b[0m\u001b[0;34m,\u001b[0m \u001b[0mtest_dataset\u001b[0m \u001b[0;34m=\u001b[0m \u001b[0mhuble\u001b[0m\u001b[0;34m.\u001b[0m\u001b[0msklearn\u001b[0m\u001b[0;34m.\u001b[0m\u001b[0mtrain_test_split\u001b[0m\u001b[0;34m(\u001b[0m\u001b[0mdata\u001b[0m\u001b[0;34m=\u001b[0m\u001b[0mdata\u001b[0m\u001b[0;34m,\u001b[0m\u001b[0mparameters\u001b[0m\u001b[0;34m=\u001b[0m\u001b[0;34m{\u001b[0m\u001b[0;34m'test_size'\u001b[0m\u001b[0;34m:\u001b[0m \u001b[0;36m0.1\u001b[0m\u001b[0;34m}\u001b[0m\u001b[0;34m)\u001b[0m\u001b[0;34m\u001b[0m\u001b[0;34m\u001b[0m\u001b[0m\n\u001b[0;32m----> 8\u001b[0;31m \u001b[0mModel\u001b[0m\u001b[0;34m,\u001b[0m \u001b[0minput_format\u001b[0m\u001b[0;34m,\u001b[0m \u001b[0mfilename\u001b[0m \u001b[0;34m=\u001b[0m \u001b[0mhuble\u001b[0m\u001b[0;34m.\u001b[0m\u001b[0msklearn\u001b[0m\u001b[0;34m.\u001b[0m\u001b[0mtrain_model\u001b[0m\u001b[0;34m(\u001b[0m\u001b[0mdata\u001b[0m\u001b[0;34m=\u001b[0m\u001b[0mtraining_dataset\u001b[0m\u001b[0;34m,\u001b[0m \u001b[0mmodel\u001b[0m\u001b[0;34m=\u001b[0m\u001b[0mmodel\u001b[0m\u001b[0;34m,\u001b[0m \u001b[0mcolumn\u001b[0m\u001b[0;34m=\u001b[0m\u001b[0;34m''\u001b[0m\u001b[0;34m)\u001b[0m\u001b[0;34m\u001b[0m\u001b[0;34m\u001b[0m\u001b[0m\n\u001b[0m\u001b[1;32m      9\u001b[0m \u001b[0mmetrics\u001b[0m \u001b[0;34m=\u001b[0m \u001b[0mhuble\u001b[0m\u001b[0;34m.\u001b[0m\u001b[0msklearn\u001b[0m\u001b[0;34m.\u001b[0m\u001b[0mevaluate_model\u001b[0m\u001b[0;34m(\u001b[0m\u001b[0mmodel\u001b[0m\u001b[0;34m=\u001b[0m\u001b[0mModel\u001b[0m\u001b[0;34m,\u001b[0m \u001b[0mtest_dataset\u001b[0m\u001b[0;34m=\u001b[0m\u001b[0mtest_dataset\u001b[0m\u001b[0;34m,\u001b[0m \u001b[0mtarget_column\u001b[0m\u001b[0;34m=\u001b[0m \u001b[0;34m'species'\u001b[0m\u001b[0;34m,\u001b[0m \u001b[0mtask_type\u001b[0m\u001b[0;34m=\u001b[0m\u001b[0;34m'classification'\u001b[0m \u001b[0;34m)\u001b[0m\u001b[0;34m\u001b[0m\u001b[0;34m\u001b[0m\u001b[0m\n\u001b[1;32m     10\u001b[0m \u001b[0mexperiment\u001b[0m\u001b[0;34m.\u001b[0m\u001b[0mupload_metrics\u001b[0m\u001b[0;34m(\u001b[0m\u001b[0mmetrics\u001b[0m\u001b[0;34m,\u001b[0m\u001b[0minput_format\u001b[0m\u001b[0;34m)\u001b[0m\u001b[0;34m\u001b[0m\u001b[0;34m\u001b[0m\u001b[0m\n",
      "\u001b[0;32m~/.cache/pypoetry/virtualenvs/huble-jmRcOqbb-py3.8/lib/python3.8/site-packages/huble/sklearn/essentials/function.py\u001b[0m in \u001b[0;36mtrain_model\u001b[0;34m(**params)\u001b[0m\n\u001b[1;32m     18\u001b[0m \u001b[0;32mdef\u001b[0m \u001b[0mtrain_model\u001b[0m\u001b[0;34m(\u001b[0m\u001b[0;34m**\u001b[0m\u001b[0mparams\u001b[0m\u001b[0;34m)\u001b[0m\u001b[0;34m:\u001b[0m\u001b[0;34m\u001b[0m\u001b[0;34m\u001b[0m\u001b[0m\n\u001b[1;32m     19\u001b[0m     \u001b[0mdata\u001b[0m \u001b[0;34m=\u001b[0m \u001b[0mparams\u001b[0m\u001b[0;34m[\u001b[0m\u001b[0;34m\"data\"\u001b[0m\u001b[0;34m]\u001b[0m\u001b[0;34m\u001b[0m\u001b[0;34m\u001b[0m\u001b[0m\n\u001b[0;32m---> 20\u001b[0;31m     \u001b[0my\u001b[0m \u001b[0;34m=\u001b[0m \u001b[0mdata\u001b[0m\u001b[0;34m[\u001b[0m\u001b[0mparams\u001b[0m\u001b[0;34m[\u001b[0m\u001b[0;34m\"column\"\u001b[0m\u001b[0;34m]\u001b[0m\u001b[0;34m]\u001b[0m\u001b[0;34m\u001b[0m\u001b[0;34m\u001b[0m\u001b[0m\n\u001b[0m\u001b[1;32m     21\u001b[0m     \u001b[0mX\u001b[0m \u001b[0;34m=\u001b[0m \u001b[0mdata\u001b[0m\u001b[0;34m.\u001b[0m\u001b[0mdrop\u001b[0m\u001b[0;34m(\u001b[0m\u001b[0mparams\u001b[0m\u001b[0;34m[\u001b[0m\u001b[0;34m\"column\"\u001b[0m\u001b[0;34m]\u001b[0m\u001b[0;34m,\u001b[0m \u001b[0maxis\u001b[0m\u001b[0;34m=\u001b[0m\u001b[0;36m1\u001b[0m\u001b[0;34m)\u001b[0m\u001b[0;34m\u001b[0m\u001b[0;34m\u001b[0m\u001b[0m\n\u001b[1;32m     22\u001b[0m     \u001b[0mdata_dict\u001b[0m  \u001b[0;34m=\u001b[0m \u001b[0mget_dataframe_types\u001b[0m\u001b[0;34m(\u001b[0m\u001b[0mX\u001b[0m\u001b[0;34m)\u001b[0m\u001b[0;34m\u001b[0m\u001b[0;34m\u001b[0m\u001b[0m\n",
      "\u001b[0;32m~/.cache/pypoetry/virtualenvs/huble-jmRcOqbb-py3.8/lib/python3.8/site-packages/pandas/core/frame.py\u001b[0m in \u001b[0;36m__getitem__\u001b[0;34m(self, key)\u001b[0m\n\u001b[1;32m   3803\u001b[0m             \u001b[0;32mif\u001b[0m \u001b[0mself\u001b[0m\u001b[0;34m.\u001b[0m\u001b[0mcolumns\u001b[0m\u001b[0;34m.\u001b[0m\u001b[0mnlevels\u001b[0m \u001b[0;34m>\u001b[0m \u001b[0;36m1\u001b[0m\u001b[0;34m:\u001b[0m\u001b[0;34m\u001b[0m\u001b[0;34m\u001b[0m\u001b[0m\n\u001b[1;32m   3804\u001b[0m                 \u001b[0;32mreturn\u001b[0m \u001b[0mself\u001b[0m\u001b[0;34m.\u001b[0m\u001b[0m_getitem_multilevel\u001b[0m\u001b[0;34m(\u001b[0m\u001b[0mkey\u001b[0m\u001b[0;34m)\u001b[0m\u001b[0;34m\u001b[0m\u001b[0;34m\u001b[0m\u001b[0m\n\u001b[0;32m-> 3805\u001b[0;31m             \u001b[0mindexer\u001b[0m \u001b[0;34m=\u001b[0m \u001b[0mself\u001b[0m\u001b[0;34m.\u001b[0m\u001b[0mcolumns\u001b[0m\u001b[0;34m.\u001b[0m\u001b[0mget_loc\u001b[0m\u001b[0;34m(\u001b[0m\u001b[0mkey\u001b[0m\u001b[0;34m)\u001b[0m\u001b[0;34m\u001b[0m\u001b[0;34m\u001b[0m\u001b[0m\n\u001b[0m\u001b[1;32m   3806\u001b[0m             \u001b[0;32mif\u001b[0m \u001b[0mis_integer\u001b[0m\u001b[0;34m(\u001b[0m\u001b[0mindexer\u001b[0m\u001b[0;34m)\u001b[0m\u001b[0;34m:\u001b[0m\u001b[0;34m\u001b[0m\u001b[0;34m\u001b[0m\u001b[0m\n\u001b[1;32m   3807\u001b[0m                 \u001b[0mindexer\u001b[0m \u001b[0;34m=\u001b[0m \u001b[0;34m[\u001b[0m\u001b[0mindexer\u001b[0m\u001b[0;34m]\u001b[0m\u001b[0;34m\u001b[0m\u001b[0;34m\u001b[0m\u001b[0m\n",
      "\u001b[0;32m~/.cache/pypoetry/virtualenvs/huble-jmRcOqbb-py3.8/lib/python3.8/site-packages/pandas/core/indexes/base.py\u001b[0m in \u001b[0;36mget_loc\u001b[0;34m(self, key, method, tolerance)\u001b[0m\n\u001b[1;32m   3803\u001b[0m                 \u001b[0;32mreturn\u001b[0m \u001b[0mself\u001b[0m\u001b[0;34m.\u001b[0m\u001b[0m_engine\u001b[0m\u001b[0;34m.\u001b[0m\u001b[0mget_loc\u001b[0m\u001b[0;34m(\u001b[0m\u001b[0mcasted_key\u001b[0m\u001b[0;34m)\u001b[0m\u001b[0;34m\u001b[0m\u001b[0;34m\u001b[0m\u001b[0m\n\u001b[1;32m   3804\u001b[0m             \u001b[0;32mexcept\u001b[0m \u001b[0mKeyError\u001b[0m \u001b[0;32mas\u001b[0m \u001b[0merr\u001b[0m\u001b[0;34m:\u001b[0m\u001b[0;34m\u001b[0m\u001b[0;34m\u001b[0m\u001b[0m\n\u001b[0;32m-> 3805\u001b[0;31m                 \u001b[0;32mraise\u001b[0m \u001b[0mKeyError\u001b[0m\u001b[0;34m(\u001b[0m\u001b[0mkey\u001b[0m\u001b[0;34m)\u001b[0m \u001b[0;32mfrom\u001b[0m \u001b[0merr\u001b[0m\u001b[0;34m\u001b[0m\u001b[0;34m\u001b[0m\u001b[0m\n\u001b[0m\u001b[1;32m   3806\u001b[0m             \u001b[0;32mexcept\u001b[0m \u001b[0mTypeError\u001b[0m\u001b[0;34m:\u001b[0m\u001b[0;34m\u001b[0m\u001b[0;34m\u001b[0m\u001b[0m\n\u001b[1;32m   3807\u001b[0m                 \u001b[0;31m# If we have a listlike key, _check_indexing_error will raise\u001b[0m\u001b[0;34m\u001b[0m\u001b[0;34m\u001b[0m\u001b[0;34m\u001b[0m\u001b[0m\n",
      "\u001b[0;31mKeyError\u001b[0m: ''"
     ]
    }
   ],
   "source": [
    "import huble\n",
    "from huble import Dataset\n",
    "model = huble.sklearn.random_forest(parameters={'criterion': 'gini', 'n_estimators': 100, 'max_depth': None, 'max_leaf_nodes': None, 'random_state': None})\n",
    "data = Dataset('https://ipfs.filebase.io/ipfs/QmQgqzVKBQX1Gpyz3P1fJDricbhdzSNd9oLSCrNwDd5ANc').dataframe\n",
    "#data = huble.sklearn.drop_rows_columns(data=data,parameters={'labels': ['index'], 'axis': 1, 'inplace': False, 'errors': 'raise'})\n",
    "data = huble.sklearn.clean_data(data=data)\n",
    "training_dataset, test_dataset = huble.sklearn.train_test_split(data=data,parameters={'test_size': 0.1})\n",
    "Model, input_format, filename = huble.sklearn.train_model(data=training_dataset, model=model, column='')\n",
    "metrics = huble.sklearn.evaluate_model(model=Model, test_dataset=test_dataset, target_column= 'species', task_type='classification' )\n",
    "experiment.upload_metrics(metrics,input_format)\n",
    "print(\"Uploading model...\")\n",
    "experiment.upload_model(filename)"
   ]
  },
  {
   "cell_type": "code",
   "execution_count": null,
   "metadata": {},
   "outputs": [],
   "source": []
  }
 ],
 "metadata": {
  "kernelspec": {
   "display_name": "Python 3.8.8 ('huble-jmRcOqbb-py3.8')",
   "language": "python",
   "name": "python3"
  },
  "language_info": {
   "codemirror_mode": {
    "name": "ipython",
    "version": 3
   },
   "file_extension": ".py",
   "mimetype": "text/x-python",
   "name": "python",
   "nbconvert_exporter": "python",
   "pygments_lexer": "ipython3",
   "version": "3.8.8"
  },
  "orig_nbformat": 4,
  "vscode": {
   "interpreter": {
    "hash": "2bd4402ae2af66a9b9715c78fa165f8547e33a1d62e8b49e18e8b2170d5f09d4"
   }
  }
 },
 "nbformat": 4,
 "nbformat_minor": 2
}
