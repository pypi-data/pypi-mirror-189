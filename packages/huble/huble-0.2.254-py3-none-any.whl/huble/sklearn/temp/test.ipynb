{
 "cells": [
  {
   "cell_type": "code",
   "execution_count": 2,
   "metadata": {},
   "outputs": [
    {
     "name": "stdout",
     "output_type": "stream",
     "text": [
      "Collecting huble==0.2.253\n",
      "  Downloading huble-0.2.253-py3-none-any.whl (70 kB)\n",
      "\u001b[2K     \u001b[38;2;114;156;31m━━━━━━━━━━━━━━━━━━━━━━━━━━━━━━━━━━━━━━━━\u001b[0m \u001b[32m70.6/70.6 kB\u001b[0m \u001b[31m4.7 MB/s\u001b[0m eta \u001b[36m0:00:00\u001b[0m\n",
      "\u001b[?25hRequirement already satisfied: pydantic<2.0.0,>=1.10.4 in /home/rugved/.cache/pypoetry/virtualenvs/huble-jmRcOqbb-py3.8/lib/python3.8/site-packages (from huble==0.2.253) (1.10.4)\n",
      "Requirement already satisfied: black<23.0.0,>=22.8.0 in /home/rugved/.cache/pypoetry/virtualenvs/huble-jmRcOqbb-py3.8/lib/python3.8/site-packages (from huble==0.2.253) (22.12.0)\n",
      "Requirement already satisfied: datacleaner<0.2.0,>=0.1.5 in /home/rugved/.cache/pypoetry/virtualenvs/huble-jmRcOqbb-py3.8/lib/python3.8/site-packages (from huble==0.2.253) (0.1.5)\n",
      "Requirement already satisfied: catboost<2.0.0,>=1.1.1 in /home/rugved/.cache/pypoetry/virtualenvs/huble-jmRcOqbb-py3.8/lib/python3.8/site-packages (from huble==0.2.253) (1.1.1)\n",
      "Requirement already satisfied: auto-sklearn==0.14.7 in /home/rugved/.cache/pypoetry/virtualenvs/huble-jmRcOqbb-py3.8/lib/python3.8/site-packages (from huble==0.2.253) (0.14.7)\n",
      "Requirement already satisfied: woodwork<0.22.0,>=0.21.1 in /home/rugved/.cache/pypoetry/virtualenvs/huble-jmRcOqbb-py3.8/lib/python3.8/site-packages (from huble==0.2.253) (0.21.1)\n",
      "Requirement already satisfied: scikit-learn==0.24.2 in /home/rugved/.cache/pypoetry/virtualenvs/huble-jmRcOqbb-py3.8/lib/python3.8/site-packages (from huble==0.2.253) (0.24.2)\n",
      "Requirement already satisfied: py-AutoClean<2.0.0,>=1.1.3 in /home/rugved/.cache/pypoetry/virtualenvs/huble-jmRcOqbb-py3.8/lib/python3.8/site-packages (from huble==0.2.253) (1.1.3)\n",
      "Requirement already satisfied: xgboost<2.0.0,>=1.7.3 in /home/rugved/.cache/pypoetry/virtualenvs/huble-jmRcOqbb-py3.8/lib/python3.8/site-packages (from huble==0.2.253) (1.7.3)\n",
      "Requirement already satisfied: pandas<2.0.0,>=1.3.5 in /home/rugved/.cache/pypoetry/virtualenvs/huble-jmRcOqbb-py3.8/lib/python3.8/site-packages (from huble==0.2.253) (1.5.2)\n",
      "Requirement already satisfied: scipy<1.8.0,>=1.7.0 in /home/rugved/.cache/pypoetry/virtualenvs/huble-jmRcOqbb-py3.8/lib/python3.8/site-packages (from huble==0.2.253) (1.7.3)\n",
      "Requirement already satisfied: lightgbm<4.0.0,>=3.3.5 in /home/rugved/.cache/pypoetry/virtualenvs/huble-jmRcOqbb-py3.8/lib/python3.8/site-packages (from huble==0.2.253) (3.3.5)\n",
      "Requirement already satisfied: boto3<2.0.0,>=1.26.63 in /home/rugved/.cache/pypoetry/virtualenvs/huble-jmRcOqbb-py3.8/lib/python3.8/site-packages (from huble==0.2.253) (1.26.63)\n",
      "Requirement already satisfied: setuptools in /home/rugved/.cache/pypoetry/virtualenvs/huble-jmRcOqbb-py3.8/lib/python3.8/site-packages (from auto-sklearn==0.14.7->huble==0.2.253) (65.6.3)\n",
      "Requirement already satisfied: distributed>=2012.12 in /home/rugved/.cache/pypoetry/virtualenvs/huble-jmRcOqbb-py3.8/lib/python3.8/site-packages (from auto-sklearn==0.14.7->huble==0.2.253) (2022.2.0)\n",
      "Requirement already satisfied: ConfigSpace<0.5,>=0.4.21 in /home/rugved/.cache/pypoetry/virtualenvs/huble-jmRcOqbb-py3.8/lib/python3.8/site-packages (from auto-sklearn==0.14.7->huble==0.2.253) (0.4.21)\n",
      "Requirement already satisfied: typing-extensions in /home/rugved/.cache/pypoetry/virtualenvs/huble-jmRcOqbb-py3.8/lib/python3.8/site-packages (from auto-sklearn==0.14.7->huble==0.2.253) (4.4.0)\n",
      "Requirement already satisfied: threadpoolctl in /home/rugved/.cache/pypoetry/virtualenvs/huble-jmRcOqbb-py3.8/lib/python3.8/site-packages (from auto-sklearn==0.14.7->huble==0.2.253) (3.1.0)\n",
      "Requirement already satisfied: pyyaml in /home/rugved/.cache/pypoetry/virtualenvs/huble-jmRcOqbb-py3.8/lib/python3.8/site-packages (from auto-sklearn==0.14.7->huble==0.2.253) (6.0)\n",
      "Requirement already satisfied: pyrfr<0.9,>=0.8.1 in /home/rugved/.cache/pypoetry/virtualenvs/huble-jmRcOqbb-py3.8/lib/python3.8/site-packages (from auto-sklearn==0.14.7->huble==0.2.253) (0.8.3)\n",
      "Requirement already satisfied: numpy>=1.9.0 in /home/rugved/.cache/pypoetry/virtualenvs/huble-jmRcOqbb-py3.8/lib/python3.8/site-packages (from auto-sklearn==0.14.7->huble==0.2.253) (1.21.6)\n",
      "Requirement already satisfied: joblib in /home/rugved/.cache/pypoetry/virtualenvs/huble-jmRcOqbb-py3.8/lib/python3.8/site-packages (from auto-sklearn==0.14.7->huble==0.2.253) (1.2.0)\n",
      "Requirement already satisfied: dask>=2021.12 in /home/rugved/.cache/pypoetry/virtualenvs/huble-jmRcOqbb-py3.8/lib/python3.8/site-packages (from auto-sklearn==0.14.7->huble==0.2.253) (2022.2.0)\n",
      "Requirement already satisfied: liac-arff in /home/rugved/.cache/pypoetry/virtualenvs/huble-jmRcOqbb-py3.8/lib/python3.8/site-packages (from auto-sklearn==0.14.7->huble==0.2.253) (2.5.0)\n",
      "Requirement already satisfied: distro in /home/rugved/.cache/pypoetry/virtualenvs/huble-jmRcOqbb-py3.8/lib/python3.8/site-packages (from auto-sklearn==0.14.7->huble==0.2.253) (1.8.0)\n",
      "Requirement already satisfied: pynisher<0.7,>=0.6.3 in /home/rugved/.cache/pypoetry/virtualenvs/huble-jmRcOqbb-py3.8/lib/python3.8/site-packages (from auto-sklearn==0.14.7->huble==0.2.253) (0.6.4)\n",
      "Requirement already satisfied: smac<1.3,>=1.2 in /home/rugved/.cache/pypoetry/virtualenvs/huble-jmRcOqbb-py3.8/lib/python3.8/site-packages (from auto-sklearn==0.14.7->huble==0.2.253) (1.2)\n",
      "Requirement already satisfied: tomli>=1.1.0 in /home/rugved/.cache/pypoetry/virtualenvs/huble-jmRcOqbb-py3.8/lib/python3.8/site-packages (from black<23.0.0,>=22.8.0->huble==0.2.253) (2.0.1)\n",
      "Requirement already satisfied: platformdirs>=2 in /home/rugved/.cache/pypoetry/virtualenvs/huble-jmRcOqbb-py3.8/lib/python3.8/site-packages (from black<23.0.0,>=22.8.0->huble==0.2.253) (2.6.0)\n",
      "Requirement already satisfied: pathspec>=0.9.0 in /home/rugved/.cache/pypoetry/virtualenvs/huble-jmRcOqbb-py3.8/lib/python3.8/site-packages (from black<23.0.0,>=22.8.0->huble==0.2.253) (0.10.3)\n",
      "Requirement already satisfied: click>=8.0.0 in /home/rugved/.cache/pypoetry/virtualenvs/huble-jmRcOqbb-py3.8/lib/python3.8/site-packages (from black<23.0.0,>=22.8.0->huble==0.2.253) (8.1.3)\n",
      "Requirement already satisfied: mypy-extensions>=0.4.3 in /home/rugved/.cache/pypoetry/virtualenvs/huble-jmRcOqbb-py3.8/lib/python3.8/site-packages (from black<23.0.0,>=22.8.0->huble==0.2.253) (0.4.3)\n",
      "Requirement already satisfied: s3transfer<0.7.0,>=0.6.0 in /home/rugved/.cache/pypoetry/virtualenvs/huble-jmRcOqbb-py3.8/lib/python3.8/site-packages (from boto3<2.0.0,>=1.26.63->huble==0.2.253) (0.6.0)\n",
      "Requirement already satisfied: jmespath<2.0.0,>=0.7.1 in /home/rugved/.cache/pypoetry/virtualenvs/huble-jmRcOqbb-py3.8/lib/python3.8/site-packages (from boto3<2.0.0,>=1.26.63->huble==0.2.253) (1.0.1)\n",
      "Requirement already satisfied: botocore<1.30.0,>=1.29.63 in /home/rugved/.cache/pypoetry/virtualenvs/huble-jmRcOqbb-py3.8/lib/python3.8/site-packages (from boto3<2.0.0,>=1.26.63->huble==0.2.253) (1.29.63)\n",
      "Requirement already satisfied: matplotlib in /home/rugved/.cache/pypoetry/virtualenvs/huble-jmRcOqbb-py3.8/lib/python3.8/site-packages (from catboost<2.0.0,>=1.1.1->huble==0.2.253) (3.6.3)\n",
      "Requirement already satisfied: six in /home/rugved/.cache/pypoetry/virtualenvs/huble-jmRcOqbb-py3.8/lib/python3.8/site-packages (from catboost<2.0.0,>=1.1.1->huble==0.2.253) (1.16.0)\n",
      "Requirement already satisfied: plotly in /home/rugved/.cache/pypoetry/virtualenvs/huble-jmRcOqbb-py3.8/lib/python3.8/site-packages (from catboost<2.0.0,>=1.1.1->huble==0.2.253) (5.13.0)\n",
      "Requirement already satisfied: graphviz in /home/rugved/.cache/pypoetry/virtualenvs/huble-jmRcOqbb-py3.8/lib/python3.8/site-packages (from catboost<2.0.0,>=1.1.1->huble==0.2.253) (0.20.1)\n",
      "Requirement already satisfied: update-checker in /home/rugved/.cache/pypoetry/virtualenvs/huble-jmRcOqbb-py3.8/lib/python3.8/site-packages (from datacleaner<0.2.0,>=0.1.5->huble==0.2.253) (0.18.0)\n",
      "Requirement already satisfied: wheel in /home/rugved/.cache/pypoetry/virtualenvs/huble-jmRcOqbb-py3.8/lib/python3.8/site-packages (from lightgbm<4.0.0,>=3.3.5->huble==0.2.253) (0.38.4)\n",
      "Requirement already satisfied: python-dateutil>=2.8.1 in /home/rugved/.cache/pypoetry/virtualenvs/huble-jmRcOqbb-py3.8/lib/python3.8/site-packages (from pandas<2.0.0,>=1.3.5->huble==0.2.253) (2.8.2)\n",
      "Requirement already satisfied: pytz>=2020.1 in /home/rugved/.cache/pypoetry/virtualenvs/huble-jmRcOqbb-py3.8/lib/python3.8/site-packages (from pandas<2.0.0,>=1.3.5->huble==0.2.253) (2022.7)\n",
      "Requirement already satisfied: loguru in /home/rugved/.cache/pypoetry/virtualenvs/huble-jmRcOqbb-py3.8/lib/python3.8/site-packages (from py-AutoClean<2.0.0,>=1.1.3->huble==0.2.253) (0.6.0)\n",
      "Requirement already satisfied: importlib-resources>=5.10.0 in /home/rugved/.cache/pypoetry/virtualenvs/huble-jmRcOqbb-py3.8/lib/python3.8/site-packages (from woodwork<0.22.0,>=0.21.1->huble==0.2.253) (5.10.1)\n",
      "Requirement already satisfied: urllib3<1.27,>=1.25.4 in /home/rugved/.cache/pypoetry/virtualenvs/huble-jmRcOqbb-py3.8/lib/python3.8/site-packages (from botocore<1.30.0,>=1.29.63->boto3<2.0.0,>=1.26.63->huble==0.2.253) (1.26.14)\n",
      "Requirement already satisfied: cython in /home/rugved/.cache/pypoetry/virtualenvs/huble-jmRcOqbb-py3.8/lib/python3.8/site-packages (from ConfigSpace<0.5,>=0.4.21->auto-sklearn==0.14.7->huble==0.2.253) (0.29.32)\n",
      "Requirement already satisfied: pyparsing in /home/rugved/.cache/pypoetry/virtualenvs/huble-jmRcOqbb-py3.8/lib/python3.8/site-packages (from ConfigSpace<0.5,>=0.4.21->auto-sklearn==0.14.7->huble==0.2.253) (3.0.9)\n",
      "Requirement already satisfied: partd>=0.3.10 in /home/rugved/.cache/pypoetry/virtualenvs/huble-jmRcOqbb-py3.8/lib/python3.8/site-packages (from dask>=2021.12->auto-sklearn==0.14.7->huble==0.2.253) (1.3.0)\n",
      "Requirement already satisfied: fsspec>=0.6.0 in /home/rugved/.cache/pypoetry/virtualenvs/huble-jmRcOqbb-py3.8/lib/python3.8/site-packages (from dask>=2021.12->auto-sklearn==0.14.7->huble==0.2.253) (2022.11.0)\n",
      "Requirement already satisfied: toolz>=0.8.2 in /home/rugved/.cache/pypoetry/virtualenvs/huble-jmRcOqbb-py3.8/lib/python3.8/site-packages (from dask>=2021.12->auto-sklearn==0.14.7->huble==0.2.253) (0.12.0)\n",
      "Requirement already satisfied: packaging>=20.0 in /home/rugved/.cache/pypoetry/virtualenvs/huble-jmRcOqbb-py3.8/lib/python3.8/site-packages (from dask>=2021.12->auto-sklearn==0.14.7->huble==0.2.253) (22.0)\n",
      "Requirement already satisfied: cloudpickle>=1.1.1 in /home/rugved/.cache/pypoetry/virtualenvs/huble-jmRcOqbb-py3.8/lib/python3.8/site-packages (from dask>=2021.12->auto-sklearn==0.14.7->huble==0.2.253) (2.2.0)\n",
      "Requirement already satisfied: jinja2 in /home/rugved/.cache/pypoetry/virtualenvs/huble-jmRcOqbb-py3.8/lib/python3.8/site-packages (from distributed>=2012.12->auto-sklearn==0.14.7->huble==0.2.253) (3.1.2)\n",
      "Requirement already satisfied: msgpack>=0.6.0 in /home/rugved/.cache/pypoetry/virtualenvs/huble-jmRcOqbb-py3.8/lib/python3.8/site-packages (from distributed>=2012.12->auto-sklearn==0.14.7->huble==0.2.253) (1.0.4)\n",
      "Requirement already satisfied: psutil>=5.0 in /home/rugved/.cache/pypoetry/virtualenvs/huble-jmRcOqbb-py3.8/lib/python3.8/site-packages (from distributed>=2012.12->auto-sklearn==0.14.7->huble==0.2.253) (5.9.4)\n",
      "Requirement already satisfied: zict>=0.1.3 in /home/rugved/.cache/pypoetry/virtualenvs/huble-jmRcOqbb-py3.8/lib/python3.8/site-packages (from distributed>=2012.12->auto-sklearn==0.14.7->huble==0.2.253) (2.2.0)\n",
      "Requirement already satisfied: tornado>=6.0.3 in /home/rugved/.cache/pypoetry/virtualenvs/huble-jmRcOqbb-py3.8/lib/python3.8/site-packages (from distributed>=2012.12->auto-sklearn==0.14.7->huble==0.2.253) (6.2)\n",
      "Requirement already satisfied: sortedcontainers!=2.0.0,!=2.0.1 in /home/rugved/.cache/pypoetry/virtualenvs/huble-jmRcOqbb-py3.8/lib/python3.8/site-packages (from distributed>=2012.12->auto-sklearn==0.14.7->huble==0.2.253) (2.4.0)\n",
      "Requirement already satisfied: tblib>=1.6.0 in /home/rugved/.cache/pypoetry/virtualenvs/huble-jmRcOqbb-py3.8/lib/python3.8/site-packages (from distributed>=2012.12->auto-sklearn==0.14.7->huble==0.2.253) (1.7.0)\n",
      "Requirement already satisfied: zipp>=3.1.0 in /home/rugved/.cache/pypoetry/virtualenvs/huble-jmRcOqbb-py3.8/lib/python3.8/site-packages (from importlib-resources>=5.10.0->woodwork<0.22.0,>=0.21.1->huble==0.2.253) (3.11.0)\n",
      "Requirement already satisfied: emcee>=3.0.0 in /home/rugved/.cache/pypoetry/virtualenvs/huble-jmRcOqbb-py3.8/lib/python3.8/site-packages (from smac<1.3,>=1.2->auto-sklearn==0.14.7->huble==0.2.253) (3.1.3)\n",
      "Requirement already satisfied: cycler>=0.10 in /home/rugved/.cache/pypoetry/virtualenvs/huble-jmRcOqbb-py3.8/lib/python3.8/site-packages (from matplotlib->catboost<2.0.0,>=1.1.1->huble==0.2.253) (0.11.0)\n",
      "Requirement already satisfied: fonttools>=4.22.0 in /home/rugved/.cache/pypoetry/virtualenvs/huble-jmRcOqbb-py3.8/lib/python3.8/site-packages (from matplotlib->catboost<2.0.0,>=1.1.1->huble==0.2.253) (4.38.0)\n",
      "Requirement already satisfied: contourpy>=1.0.1 in /home/rugved/.cache/pypoetry/virtualenvs/huble-jmRcOqbb-py3.8/lib/python3.8/site-packages (from matplotlib->catboost<2.0.0,>=1.1.1->huble==0.2.253) (1.0.7)\n",
      "Requirement already satisfied: pillow>=6.2.0 in /home/rugved/.cache/pypoetry/virtualenvs/huble-jmRcOqbb-py3.8/lib/python3.8/site-packages (from matplotlib->catboost<2.0.0,>=1.1.1->huble==0.2.253) (9.4.0)\n",
      "Requirement already satisfied: kiwisolver>=1.0.1 in /home/rugved/.cache/pypoetry/virtualenvs/huble-jmRcOqbb-py3.8/lib/python3.8/site-packages (from matplotlib->catboost<2.0.0,>=1.1.1->huble==0.2.253) (1.4.4)\n",
      "Requirement already satisfied: tenacity>=6.2.0 in /home/rugved/.cache/pypoetry/virtualenvs/huble-jmRcOqbb-py3.8/lib/python3.8/site-packages (from plotly->catboost<2.0.0,>=1.1.1->huble==0.2.253) (8.1.0)\n",
      "Requirement already satisfied: requests>=2.3.0 in /home/rugved/.cache/pypoetry/virtualenvs/huble-jmRcOqbb-py3.8/lib/python3.8/site-packages (from update-checker->datacleaner<0.2.0,>=0.1.5->huble==0.2.253) (2.28.2)\n",
      "Requirement already satisfied: locket in /home/rugved/.cache/pypoetry/virtualenvs/huble-jmRcOqbb-py3.8/lib/python3.8/site-packages (from partd>=0.3.10->dask>=2021.12->auto-sklearn==0.14.7->huble==0.2.253) (1.0.0)\n",
      "Requirement already satisfied: charset-normalizer<4,>=2 in /home/rugved/.cache/pypoetry/virtualenvs/huble-jmRcOqbb-py3.8/lib/python3.8/site-packages (from requests>=2.3.0->update-checker->datacleaner<0.2.0,>=0.1.5->huble==0.2.253) (3.0.1)\n",
      "Requirement already satisfied: idna<4,>=2.5 in /home/rugved/.cache/pypoetry/virtualenvs/huble-jmRcOqbb-py3.8/lib/python3.8/site-packages (from requests>=2.3.0->update-checker->datacleaner<0.2.0,>=0.1.5->huble==0.2.253) (3.4)\n",
      "Requirement already satisfied: certifi>=2017.4.17 in /home/rugved/.cache/pypoetry/virtualenvs/huble-jmRcOqbb-py3.8/lib/python3.8/site-packages (from requests>=2.3.0->update-checker->datacleaner<0.2.0,>=0.1.5->huble==0.2.253) (2022.12.7)\n",
      "Requirement already satisfied: heapdict in /home/rugved/.cache/pypoetry/virtualenvs/huble-jmRcOqbb-py3.8/lib/python3.8/site-packages (from zict>=0.1.3->distributed>=2012.12->auto-sklearn==0.14.7->huble==0.2.253) (1.0.1)\n",
      "Requirement already satisfied: MarkupSafe>=2.0 in /home/rugved/.cache/pypoetry/virtualenvs/huble-jmRcOqbb-py3.8/lib/python3.8/site-packages (from jinja2->distributed>=2012.12->auto-sklearn==0.14.7->huble==0.2.253) (2.1.1)\n",
      "Installing collected packages: huble\n",
      "  Attempting uninstall: huble\n",
      "    Found existing installation: huble 0.2.252\n",
      "    Uninstalling huble-0.2.252:\n",
      "      Successfully uninstalled huble-0.2.252\n",
      "Successfully installed huble-0.2.253\n",
      "\n",
      "\u001b[1m[\u001b[0m\u001b[34;49mnotice\u001b[0m\u001b[1;39;49m]\u001b[0m\u001b[39;49m A new release of pip available: \u001b[0m\u001b[31;49m22.2.2\u001b[0m\u001b[39;49m -> \u001b[0m\u001b[32;49m22.3.1\u001b[0m\n",
      "\u001b[1m[\u001b[0m\u001b[34;49mnotice\u001b[0m\u001b[1;39;49m]\u001b[0m\u001b[39;49m To update, run: \u001b[0m\u001b[32;49mpip install --upgrade pip\u001b[0m\n"
     ]
    }
   ],
   "source": [
    "!pip install huble==0.2.253"
   ]
  },
  {
   "cell_type": "code",
   "execution_count": 3,
   "metadata": {},
   "outputs": [],
   "source": [
    "from huble import generate_experiment\n",
    "experiment = generate_experiment(experiment_id=\"b9c36c0e-5a1c-4ce2-86cd-f146dd2a5e58\")"
   ]
  },
  {
   "cell_type": "code",
   "execution_count": 4,
   "metadata": {},
   "outputs": [],
   "source": [
    "from output import run_experiment"
   ]
  },
  {
   "cell_type": "code",
   "execution_count": 5,
   "metadata": {},
   "outputs": [
    {
     "name": "stdout",
     "output_type": "stream",
     "text": [
      "Uploading model...\n"
     ]
    }
   ],
   "source": [
    "run_experiment(experiment)"
   ]
  },
  {
   "cell_type": "code",
   "execution_count": null,
   "metadata": {},
   "outputs": [],
   "source": []
  }
 ],
 "metadata": {
  "kernelspec": {
   "display_name": "Python 3.8.8 ('huble-jmRcOqbb-py3.8')",
   "language": "python",
   "name": "python3"
  },
  "language_info": {
   "codemirror_mode": {
    "name": "ipython",
    "version": 3
   },
   "file_extension": ".py",
   "mimetype": "text/x-python",
   "name": "python",
   "nbconvert_exporter": "python",
   "pygments_lexer": "ipython3",
   "version": "3.8.8"
  },
  "orig_nbformat": 4,
  "vscode": {
   "interpreter": {
    "hash": "2bd4402ae2af66a9b9715c78fa165f8547e33a1d62e8b49e18e8b2170d5f09d4"
   }
  }
 },
 "nbformat": 4,
 "nbformat_minor": 2
}
