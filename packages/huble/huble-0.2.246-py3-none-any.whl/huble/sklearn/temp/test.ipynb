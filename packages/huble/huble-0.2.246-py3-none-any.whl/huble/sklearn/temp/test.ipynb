{
 "cells": [
  {
   "cell_type": "code",
   "execution_count": 1,
   "metadata": {},
   "outputs": [
    {
     "name": "stdout",
     "output_type": "stream",
     "text": [
      "Requirement already satisfied: huble in /home/rugved/anaconda3/lib/python3.8/site-packages (0.2.245)\n",
      "Requirement already satisfied: auto-sklearn==0.14.7 in /home/rugved/anaconda3/lib/python3.8/site-packages (from huble) (0.14.7)\n",
      "Requirement already satisfied: scikit-learn==0.24.2 in /home/rugved/anaconda3/lib/python3.8/site-packages (from huble) (0.24.2)\n",
      "Requirement already satisfied: xgboost<2.0.0,>=1.7.3 in /home/rugved/anaconda3/lib/python3.8/site-packages (from huble) (1.7.3)\n",
      "Requirement already satisfied: black<23.0.0,>=22.8.0 in /home/rugved/anaconda3/lib/python3.8/site-packages (from huble) (22.12.0)\n",
      "Requirement already satisfied: catboost<2.0.0,>=1.1.1 in /home/rugved/anaconda3/lib/python3.8/site-packages (from huble) (1.1.1)\n",
      "Requirement already satisfied: lightgbm<4.0.0,>=3.3.5 in /home/rugved/anaconda3/lib/python3.8/site-packages (from huble) (3.3.5)\n",
      "Requirement already satisfied: woodwork<0.22.0,>=0.21.1 in /home/rugved/anaconda3/lib/python3.8/site-packages (from huble) (0.21.2)\n",
      "Requirement already satisfied: pydantic<2.0.0,>=1.10.4 in /home/rugved/anaconda3/lib/python3.8/site-packages (from huble) (1.10.4)\n",
      "Requirement already satisfied: pandas<2.0.0,>=1.3.5 in /home/rugved/anaconda3/lib/python3.8/site-packages (from huble) (1.5.3)\n",
      "Requirement already satisfied: scipy<1.8.0,>=1.7.0 in /home/rugved/anaconda3/lib/python3.8/site-packages (from huble) (1.7.3)\n",
      "Requirement already satisfied: py-AutoClean<2.0.0,>=1.1.3 in /home/rugved/anaconda3/lib/python3.8/site-packages (from huble) (1.1.3)\n",
      "Requirement already satisfied: datacleaner<0.2.0,>=0.1.5 in /home/rugved/anaconda3/lib/python3.8/site-packages (from huble) (0.1.5)\n",
      "Requirement already satisfied: distributed>=2012.12 in /home/rugved/anaconda3/lib/python3.8/site-packages (from auto-sklearn==0.14.7->huble) (2021.4.1)\n",
      "Requirement already satisfied: pynisher<0.7,>=0.6.3 in /home/rugved/anaconda3/lib/python3.8/site-packages (from auto-sklearn==0.14.7->huble) (0.6.4)\n",
      "Requirement already satisfied: pyyaml in /home/rugved/anaconda3/lib/python3.8/site-packages (from auto-sklearn==0.14.7->huble) (5.4.1)\n",
      "Requirement already satisfied: distro in /home/rugved/anaconda3/lib/python3.8/site-packages (from auto-sklearn==0.14.7->huble) (1.8.0)\n",
      "Requirement already satisfied: liac-arff in /home/rugved/anaconda3/lib/python3.8/site-packages (from auto-sklearn==0.14.7->huble) (2.5.0)\n",
      "Requirement already satisfied: setuptools in /home/rugved/anaconda3/lib/python3.8/site-packages (from auto-sklearn==0.14.7->huble) (52.0.0.post20210125)\n",
      "Requirement already satisfied: pyrfr<0.9,>=0.8.1 in /home/rugved/anaconda3/lib/python3.8/site-packages (from auto-sklearn==0.14.7->huble) (0.8.3)\n",
      "Requirement already satisfied: typing-extensions in /home/rugved/anaconda3/lib/python3.8/site-packages (from auto-sklearn==0.14.7->huble) (4.4.0)\n",
      "Requirement already satisfied: joblib in /home/rugved/anaconda3/lib/python3.8/site-packages (from auto-sklearn==0.14.7->huble) (1.0.1)\n",
      "Requirement already satisfied: dask>=2021.12 in /home/rugved/anaconda3/lib/python3.8/site-packages (from auto-sklearn==0.14.7->huble) (2023.1.1)\n",
      "Requirement already satisfied: ConfigSpace<0.5,>=0.4.21 in /home/rugved/anaconda3/lib/python3.8/site-packages (from auto-sklearn==0.14.7->huble) (0.4.21)\n",
      "Requirement already satisfied: numpy>=1.9.0 in /home/rugved/anaconda3/lib/python3.8/site-packages (from auto-sklearn==0.14.7->huble) (1.22.4)\n",
      "Requirement already satisfied: smac<1.3,>=1.2 in /home/rugved/anaconda3/lib/python3.8/site-packages (from auto-sklearn==0.14.7->huble) (1.2)\n",
      "Requirement already satisfied: threadpoolctl in /home/rugved/anaconda3/lib/python3.8/site-packages (from auto-sklearn==0.14.7->huble) (2.1.0)\n",
      "Requirement already satisfied: click>=8.0.0 in /home/rugved/anaconda3/lib/python3.8/site-packages (from black<23.0.0,>=22.8.0->huble) (8.1.3)\n",
      "Requirement already satisfied: platformdirs>=2 in /home/rugved/anaconda3/lib/python3.8/site-packages (from black<23.0.0,>=22.8.0->huble) (2.6.2)\n",
      "Requirement already satisfied: tomli>=1.1.0 in /home/rugved/anaconda3/lib/python3.8/site-packages (from black<23.0.0,>=22.8.0->huble) (2.0.1)\n",
      "Requirement already satisfied: pathspec>=0.9.0 in /home/rugved/anaconda3/lib/python3.8/site-packages (from black<23.0.0,>=22.8.0->huble) (0.11.0)\n",
      "Requirement already satisfied: mypy-extensions>=0.4.3 in /home/rugved/anaconda3/lib/python3.8/site-packages (from black<23.0.0,>=22.8.0->huble) (0.4.3)\n",
      "Requirement already satisfied: matplotlib in /home/rugved/anaconda3/lib/python3.8/site-packages (from catboost<2.0.0,>=1.1.1->huble) (3.3.4)\n",
      "Requirement already satisfied: six in /home/rugved/anaconda3/lib/python3.8/site-packages (from catboost<2.0.0,>=1.1.1->huble) (1.15.0)\n",
      "Requirement already satisfied: graphviz in /home/rugved/anaconda3/lib/python3.8/site-packages (from catboost<2.0.0,>=1.1.1->huble) (0.20.1)\n",
      "Requirement already satisfied: plotly in /home/rugved/anaconda3/lib/python3.8/site-packages (from catboost<2.0.0,>=1.1.1->huble) (5.13.0)\n",
      "Requirement already satisfied: pyparsing in /home/rugved/anaconda3/lib/python3.8/site-packages (from ConfigSpace<0.5,>=0.4.21->auto-sklearn==0.14.7->huble) (2.4.7)\n",
      "Requirement already satisfied: cython in /home/rugved/anaconda3/lib/python3.8/site-packages (from ConfigSpace<0.5,>=0.4.21->auto-sklearn==0.14.7->huble) (0.29.23)\n",
      "Requirement already satisfied: packaging>=20.0 in /home/rugved/anaconda3/lib/python3.8/site-packages (from dask>=2021.12->auto-sklearn==0.14.7->huble) (21.3)\n",
      "Requirement already satisfied: cloudpickle>=1.1.1 in /home/rugved/anaconda3/lib/python3.8/site-packages (from dask>=2021.12->auto-sklearn==0.14.7->huble) (1.6.0)\n",
      "Requirement already satisfied: partd>=0.3.10 in /home/rugved/anaconda3/lib/python3.8/site-packages (from dask>=2021.12->auto-sklearn==0.14.7->huble) (1.2.0)\n",
      "Requirement already satisfied: fsspec>=0.6.0 in /home/rugved/anaconda3/lib/python3.8/site-packages (from dask>=2021.12->auto-sklearn==0.14.7->huble) (0.9.0)\n",
      "Requirement already satisfied: toolz>=0.8.2 in /home/rugved/anaconda3/lib/python3.8/site-packages (from dask>=2021.12->auto-sklearn==0.14.7->huble) (0.11.1)\n",
      "Requirement already satisfied: update-checker in /home/rugved/anaconda3/lib/python3.8/site-packages (from datacleaner<0.2.0,>=0.1.5->huble) (0.18.0)\n",
      "Requirement already satisfied: tblib>=1.6.0 in /home/rugved/anaconda3/lib/python3.8/site-packages (from distributed>=2012.12->auto-sklearn==0.14.7->huble) (1.7.0)\n",
      "Requirement already satisfied: tornado>=6.0.3 in /home/rugved/anaconda3/lib/python3.8/site-packages (from distributed>=2012.12->auto-sklearn==0.14.7->huble) (6.1)\n",
      "Requirement already satisfied: zict>=0.1.3 in /home/rugved/anaconda3/lib/python3.8/site-packages (from distributed>=2012.12->auto-sklearn==0.14.7->huble) (2.0.0)\n",
      "Requirement already satisfied: psutil>=5.0 in /home/rugved/anaconda3/lib/python3.8/site-packages (from distributed>=2012.12->auto-sklearn==0.14.7->huble) (5.8.0)\n",
      "Requirement already satisfied: msgpack>=0.6.0 in /home/rugved/anaconda3/lib/python3.8/site-packages (from distributed>=2012.12->auto-sklearn==0.14.7->huble) (1.0.2)\n",
      "Requirement already satisfied: sortedcontainers!=2.0.0,!=2.0.1 in /home/rugved/anaconda3/lib/python3.8/site-packages (from distributed>=2012.12->auto-sklearn==0.14.7->huble) (2.3.0)\n",
      "Requirement already satisfied: wheel in /home/rugved/anaconda3/lib/python3.8/site-packages (from lightgbm<4.0.0,>=3.3.5->huble) (0.36.2)\n",
      "Requirement already satisfied: python-dateutil>=2.8.1 in /home/rugved/anaconda3/lib/python3.8/site-packages (from pandas<2.0.0,>=1.3.5->huble) (2.8.1)\n",
      "Requirement already satisfied: pytz>=2020.1 in /home/rugved/anaconda3/lib/python3.8/site-packages (from pandas<2.0.0,>=1.3.5->huble) (2021.1)\n",
      "Requirement already satisfied: locket in /home/rugved/anaconda3/lib/python3.8/site-packages/locket-0.2.1-py3.8.egg (from partd>=0.3.10->dask>=2021.12->auto-sklearn==0.14.7->huble) (0.2.1)\n",
      "Requirement already satisfied: loguru in /home/rugved/anaconda3/lib/python3.8/site-packages (from py-AutoClean<2.0.0,>=1.1.3->huble) (0.6.0)\n",
      "Requirement already satisfied: emcee>=3.0.0 in /home/rugved/anaconda3/lib/python3.8/site-packages (from smac<1.3,>=1.2->auto-sklearn==0.14.7->huble) (3.1.4)\n",
      "Requirement already satisfied: importlib-resources>=5.10.0 in /home/rugved/anaconda3/lib/python3.8/site-packages (from woodwork<0.22.0,>=0.21.1->huble) (5.10.1)\n",
      "Requirement already satisfied: zipp>=3.1.0 in /home/rugved/anaconda3/lib/python3.8/site-packages (from importlib-resources>=5.10.0->woodwork<0.22.0,>=0.21.1->huble) (3.4.1)\n",
      "Requirement already satisfied: heapdict in /home/rugved/anaconda3/lib/python3.8/site-packages (from zict>=0.1.3->distributed>=2012.12->auto-sklearn==0.14.7->huble) (1.0.1)\n",
      "Requirement already satisfied: pillow>=6.2.0 in /home/rugved/anaconda3/lib/python3.8/site-packages (from matplotlib->catboost<2.0.0,>=1.1.1->huble) (8.2.0)\n",
      "Requirement already satisfied: cycler>=0.10 in /home/rugved/anaconda3/lib/python3.8/site-packages (from matplotlib->catboost<2.0.0,>=1.1.1->huble) (0.10.0)\n",
      "Requirement already satisfied: kiwisolver>=1.0.1 in /home/rugved/anaconda3/lib/python3.8/site-packages (from matplotlib->catboost<2.0.0,>=1.1.1->huble) (1.3.1)\n",
      "Requirement already satisfied: tenacity>=6.2.0 in /home/rugved/anaconda3/lib/python3.8/site-packages (from plotly->catboost<2.0.0,>=1.1.1->huble) (8.1.0)\n",
      "Requirement already satisfied: requests>=2.3.0 in /home/rugved/anaconda3/lib/python3.8/site-packages (from update-checker->datacleaner<0.2.0,>=0.1.5->huble) (2.28.2)\n",
      "Requirement already satisfied: urllib3<1.27,>=1.21.1 in /home/rugved/anaconda3/lib/python3.8/site-packages (from requests>=2.3.0->update-checker->datacleaner<0.2.0,>=0.1.5->huble) (1.26.4)\n",
      "Requirement already satisfied: certifi>=2017.4.17 in /home/rugved/anaconda3/lib/python3.8/site-packages (from requests>=2.3.0->update-checker->datacleaner<0.2.0,>=0.1.5->huble) (2020.12.5)\n",
      "Requirement already satisfied: idna<4,>=2.5 in /home/rugved/anaconda3/lib/python3.8/site-packages (from requests>=2.3.0->update-checker->datacleaner<0.2.0,>=0.1.5->huble) (2.10)\n",
      "Requirement already satisfied: charset-normalizer<4,>=2 in /home/rugved/anaconda3/lib/python3.8/site-packages (from requests>=2.3.0->update-checker->datacleaner<0.2.0,>=0.1.5->huble) (3.0.1)\n"
     ]
    }
   ],
   "source": [
    "!pip install --upgrade huble"
   ]
  },
  {
   "cell_type": "code",
   "execution_count": 3,
   "metadata": {},
   "outputs": [
    {
     "data": {
      "text/plain": [
       "<huble.connector.experiment.Experiment at 0x7fcada19ff10>"
      ]
     },
     "execution_count": 3,
     "metadata": {},
     "output_type": "execute_result"
    }
   ],
   "source": [
    "from huble import generate_experiment\n",
    "experiment = generate_experiment(experiment_id=\"b9c36c0e-5a1c-4ce2-86cd-f146dd2a5e58\")"
   ]
  },
  {
   "cell_type": "code",
   "execution_count": null,
   "metadata": {},
   "outputs": [],
   "source": []
  }
 ],
 "metadata": {
  "kernelspec": {
   "display_name": "Python 3.8.8 ('base')",
   "language": "python",
   "name": "python3"
  },
  "language_info": {
   "codemirror_mode": {
    "name": "ipython",
    "version": 3
   },
   "file_extension": ".py",
   "mimetype": "text/x-python",
   "name": "python",
   "nbconvert_exporter": "python",
   "pygments_lexer": "ipython3",
   "version": "3.8.8"
  },
  "orig_nbformat": 4,
  "vscode": {
   "interpreter": {
    "hash": "2c3fa0e868eab2096311d304aba03b24c1009ced47713f6fdb48c22da7ae2065"
   }
  }
 },
 "nbformat": 4,
 "nbformat_minor": 2
}
