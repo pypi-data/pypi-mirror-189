{
 "cells": [
  {
   "cell_type": "markdown",
   "metadata": {},
   "source": [
    "# IAD with Spheres\n",
    "\n",
    "**Scott Prahl**\n",
    "\n",
    "**March 2019**\n",
    "\n",
    "**version 1**\n",
    "\n",
    "A series of functionality tests to validate implementation of the influence of spheres on the inverse radiative transfer problem."
   ]
  },
  {
   "cell_type": "code",
   "execution_count": 1,
   "metadata": {},
   "outputs": [],
   "source": [
    "import numpy as np\n",
    "import matplotlib.pyplot as plt\n",
    "import iadpython"
   ]
  },
  {
   "cell_type": "markdown",
   "metadata": {},
   "source": [
    "## Checking imports\n",
    "\n",
    "Basic sanity check to validate that module was imported"
   ]
  },
  {
   "cell_type": "markdown",
   "metadata": {},
   "source": [
    "## Verifying basic functionality of the objects"
   ]
  },
  {
   "cell_type": "code",
   "execution_count": 2,
   "metadata": {},
   "outputs": [
    {
     "name": "stdout",
     "output_type": "stream",
     "text": [
      "Intrinsic Properties\n",
      "   albedo            = 0.000\n",
      "   optical thickness = 1.000\n",
      "   anisotropy        = 0.000\n",
      "   thickness         = 1.000 mm\n",
      "   sample index      = 1.000\n",
      "   top slide index   = 1.000\n",
      "   bottom slide index= 1.000\n",
      " cos(theta incident) = 1.000\n",
      "   quadrature points = 4\n",
      "\n",
      "Derived quantities\n",
      "   mu_a              = 1.000 1/mm\n",
      "   mu_s              = 0.000 1/mm\n",
      "   mu_s*(1-g)        = 0.000 1/mm\n",
      "      theta incident = 0.0°\n",
      " cos(theta critical) = 0.0000\n",
      "      theta critical = 90.0°\n",
      "\n",
      "[0, 1, 0, 1, 1]\n"
     ]
    }
   ],
   "source": [
    "ss = iadpython.Sample()\n",
    "print(ss)\n",
    "print(ss.as_array())"
   ]
  },
  {
   "cell_type": "code",
   "execution_count": 4,
   "metadata": {
    "scrolled": true
   },
   "outputs": [
    {
     "name": "stdout",
     "output_type": "stream",
     "text": [
      "Sphere diameter = 152.4 mm\n",
      "Port diameters\n",
      "         sample = 25.4 mm\n",
      "       entrance = 0.0 mm\n",
      "       detector = 0.0 mm\n",
      "Fractional areas of sphere\n",
      "          walls = 0.99301\n",
      "         sample = 0.00699\n",
      "       entrance = 0.00000\n",
      "       detector = 0.00000\n",
      "Diffuse reflectivities\n",
      "          walls = 99.0%\n",
      "       detector = 0.0%\n",
      "       standard = 99.0%\n",
      "Gain\n",
      "        nothing = 0.0\n",
      "       standard = 99.0\n",
      "\n",
      "Sphere diameter = 152.4 mm\n",
      "Port diameters\n",
      "         sample = 25.4 mm\n",
      "       entrance = 0.0 mm\n",
      "       detector = 0.0 mm\n",
      "Fractional areas of sphere\n",
      "          walls = 0.99301\n",
      "         sample = 0.00699\n",
      "       entrance = 0.00000\n",
      "       detector = 0.00000\n",
      "Diffuse reflectivities\n",
      "          walls = 99.0%\n",
      "       detector = 0.0%\n",
      "       standard = 99.0%\n",
      "Gain\n",
      "        nothing = 0.0\n",
      "       standard = 99.0\n",
      "\n"
     ]
    }
   ],
   "source": [
    "d_sphere = 6 * 25.4\n",
    "d_sample = 1 * 25.4\n",
    "rs = iadpython.Sphere(d_sphere,d_sample)\n",
    "ts = iadpython.Sphere(d_sphere,d_sample)\n",
    "\n",
    "print(rs)\n",
    "print(ts)\n"
   ]
  },
  {
   "cell_type": "code",
   "execution_count": 5,
   "metadata": {
    "scrolled": true
   },
   "outputs": [
    {
     "ename": "AttributeError",
     "evalue": "module 'iadpython' has no attribute 'Illumination'",
     "output_type": "error",
     "traceback": [
      "\u001b[0;31m---------------------------------------------------------------------------\u001b[0m",
      "\u001b[0;31mAttributeError\u001b[0m                            Traceback (most recent call last)",
      "\u001b[0;32m<ipython-input-5-0c400b239840>\u001b[0m in \u001b[0;36m<module>\u001b[0;34m\u001b[0m\n\u001b[0;32m----> 1\u001b[0;31m \u001b[0milum\u001b[0m \u001b[0;34m=\u001b[0m \u001b[0miadpython\u001b[0m\u001b[0;34m.\u001b[0m\u001b[0mIllumination\u001b[0m\u001b[0;34m(\u001b[0m\u001b[0;34m)\u001b[0m\u001b[0;34m\u001b[0m\u001b[0;34m\u001b[0m\u001b[0m\n\u001b[0m\u001b[1;32m      2\u001b[0m \u001b[0mprint\u001b[0m\u001b[0;34m(\u001b[0m\u001b[0milum\u001b[0m\u001b[0;34m)\u001b[0m\u001b[0;34m\u001b[0m\u001b[0;34m\u001b[0m\u001b[0m\n\u001b[1;32m      3\u001b[0m \u001b[0mprint\u001b[0m\u001b[0;34m(\u001b[0m\u001b[0milum\u001b[0m\u001b[0;34m.\u001b[0m\u001b[0mas_array\u001b[0m\u001b[0;34m(\u001b[0m\u001b[0;34m)\u001b[0m\u001b[0;34m)\u001b[0m\u001b[0;34m\u001b[0m\u001b[0;34m\u001b[0m\u001b[0m\n",
      "\u001b[0;31mAttributeError\u001b[0m: module 'iadpython' has no attribute 'Illumination'"
     ]
    }
   ],
   "source": [
    "ilum = iadpython.Illumination()\n",
    "print(ilum)\n",
    "print(ilum.as_array())"
   ]
  },
  {
   "cell_type": "code",
   "execution_count": null,
   "metadata": {
    "scrolled": true
   },
   "outputs": [],
   "source": [
    "m = iadpython.Measurement()\n",
    "print(m)\n",
    "print(m.as_array())"
   ]
  },
  {
   "cell_type": "code",
   "execution_count": null,
   "metadata": {},
   "outputs": [],
   "source": [
    "aa = iadpython.Analysis()\n",
    "print(aa)\n",
    "print(aa.as_array())"
   ]
  },
  {
   "cell_type": "code",
   "execution_count": null,
   "metadata": {},
   "outputs": [],
   "source": [
    "e = iadpython.Experiment()\n",
    "print(e)"
   ]
  },
  {
   "cell_type": "markdown",
   "metadata": {},
   "source": [
    "## Testing the inversion process\n",
    "\n",
    "### First validate that changing one thing works"
   ]
  },
  {
   "cell_type": "code",
   "execution_count": 5,
   "metadata": {},
   "outputs": [
    {
     "ename": "AttributeError",
     "evalue": "module 'iadpython' has no attribute 'Experiment'",
     "output_type": "error",
     "traceback": [
      "\u001b[0;31m---------------------------------------------------------------------------\u001b[0m",
      "\u001b[0;31mAttributeError\u001b[0m                            Traceback (most recent call last)",
      "\u001b[0;32m<ipython-input-5-9cb321cdba6d>\u001b[0m in \u001b[0;36m<module>\u001b[0;34m\u001b[0m\n\u001b[0;32m----> 1\u001b[0;31m \u001b[0me\u001b[0m \u001b[0;34m=\u001b[0m \u001b[0miadpython\u001b[0m\u001b[0;34m.\u001b[0m\u001b[0mExperiment\u001b[0m\u001b[0;34m(\u001b[0m\u001b[0;34m)\u001b[0m\u001b[0;34m\u001b[0m\u001b[0;34m\u001b[0m\u001b[0m\n\u001b[0m\u001b[1;32m      2\u001b[0m \u001b[0ma\u001b[0m\u001b[0;34m,\u001b[0m\u001b[0mb\u001b[0m\u001b[0;34m,\u001b[0m\u001b[0mg\u001b[0m \u001b[0;34m=\u001b[0m \u001b[0me\u001b[0m\u001b[0;34m.\u001b[0m\u001b[0minvert\u001b[0m\u001b[0;34m(\u001b[0m\u001b[0;34m)\u001b[0m\u001b[0;34m\u001b[0m\u001b[0;34m\u001b[0m\u001b[0m\n\u001b[1;32m      3\u001b[0m \u001b[0mprint\u001b[0m\u001b[0;34m(\u001b[0m\u001b[0;34m\"With num_spheres = %d\"\u001b[0m \u001b[0;34m%\u001b[0m \u001b[0me\u001b[0m\u001b[0;34m.\u001b[0m\u001b[0millumination\u001b[0m\u001b[0;34m.\u001b[0m\u001b[0mnum_spheres\u001b[0m\u001b[0;34m)\u001b[0m\u001b[0;34m\u001b[0m\u001b[0;34m\u001b[0m\u001b[0m\n\u001b[1;32m      4\u001b[0m \u001b[0mprint\u001b[0m\u001b[0;34m(\u001b[0m\u001b[0;34m\"    mu_s = %.3f/mm\"\u001b[0m \u001b[0;34m%\u001b[0m \u001b[0;34m(\u001b[0m\u001b[0ma\u001b[0m\u001b[0;34m*\u001b[0m\u001b[0mb\u001b[0m\u001b[0;34m/\u001b[0m\u001b[0me\u001b[0m\u001b[0;34m.\u001b[0m\u001b[0msample\u001b[0m\u001b[0;34m.\u001b[0m\u001b[0msample_thickness\u001b[0m\u001b[0;34m)\u001b[0m\u001b[0;34m)\u001b[0m\u001b[0;34m\u001b[0m\u001b[0;34m\u001b[0m\u001b[0m\n\u001b[1;32m      5\u001b[0m \u001b[0mprint\u001b[0m\u001b[0;34m(\u001b[0m\u001b[0;34m\"    mu_a = %.3f/mm\"\u001b[0m \u001b[0;34m%\u001b[0m \u001b[0;34m(\u001b[0m\u001b[0;34m(\u001b[0m\u001b[0;36m1\u001b[0m\u001b[0;34m-\u001b[0m\u001b[0ma\u001b[0m\u001b[0;34m)\u001b[0m\u001b[0;34m*\u001b[0m\u001b[0mb\u001b[0m\u001b[0;34m/\u001b[0m\u001b[0me\u001b[0m\u001b[0;34m.\u001b[0m\u001b[0msample\u001b[0m\u001b[0;34m.\u001b[0m\u001b[0msample_thickness\u001b[0m\u001b[0;34m)\u001b[0m\u001b[0;34m)\u001b[0m\u001b[0;34m\u001b[0m\u001b[0;34m\u001b[0m\u001b[0m\n",
      "\u001b[0;31mAttributeError\u001b[0m: module 'iadpython' has no attribute 'Experiment'"
     ]
    }
   ],
   "source": [
    "e = iadpython.Experiment()\n",
    "a,b,g = e.invert()\n",
    "print(\"With num_spheres = %d\" % e.illumination.num_spheres)\n",
    "print(\"    mu_s = %.3f/mm\" % (a*b/e.sample.sample_thickness))\n",
    "print(\"    mu_a = %.3f/mm\" % ((1-a)*b/e.sample.sample_thickness))\n",
    "print(\"    g    = %.4f\" % g)\n",
    "print()\n",
    "\n",
    "e.illumination.num_spheres = 1\n",
    "a,b,g = e.invert()\n",
    "print(\"With num_spheres = %d\" % e.illumination.num_spheres)\n",
    "print(\"    mu_s = %.3f/mm\" % (a*b/e.sample.sample_thickness))\n",
    "print(\"    mu_a = %.3f/mm\" % ((1-a)*b/e.sample.sample_thickness))\n",
    "print(\"    g    = %.4f\" % g)\n",
    "print()\n",
    "\n",
    "e.illumination.num_spheres = 2\n",
    "a,b,g = e.invert()\n",
    "print(\"With num_spheres = %d\" % e.illumination.num_spheres)\n",
    "print(\"    mu_s = %.3f/mm\" % (a*b/e.sample.sample_thickness))\n",
    "print(\"    mu_a = %.3f/mm\" % ((1-a)*b/e.sample.sample_thickness))\n",
    "print(\"    g    = %.4f\" % g)\n",
    "print()"
   ]
  },
  {
   "cell_type": "code",
   "execution_count": null,
   "metadata": {},
   "outputs": [],
   "source": []
  }
 ],
 "metadata": {
  "kernelspec": {
   "display_name": "Python 3",
   "language": "python",
   "name": "python3"
  },
  "language_info": {
   "codemirror_mode": {
    "name": "ipython",
    "version": 3
   },
   "file_extension": ".py",
   "mimetype": "text/x-python",
   "name": "python",
   "nbconvert_exporter": "python",
   "pygments_lexer": "ipython3",
   "version": "3.9.7"
  }
 },
 "nbformat": 4,
 "nbformat_minor": 4
}
