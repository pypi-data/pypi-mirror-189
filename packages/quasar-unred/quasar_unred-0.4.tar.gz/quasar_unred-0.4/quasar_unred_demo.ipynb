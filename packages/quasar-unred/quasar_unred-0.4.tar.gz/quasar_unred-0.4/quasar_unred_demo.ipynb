{
 "cells": [
  {
   "cell_type": "markdown",
   "id": "5cbb1a6f",
   "metadata": {},
   "source": [
    "# This notebook shows a simple usecase for quasar_unred. More information about each of the functions is provided in quasar_unred.py.\n",
    "\n",
    "## The theory behind this method can be found in section 5 of \"The FIRST-2MASS Red Quasar Survey\" - Glikman et al\n",
    "###### https://ui.adsabs.harvard.edu/abs/2007ApJ...667..673G/abstract\n",
    "\n",
    "### This demo relies on the files qso_template.txt and ukfs1037p0236.final.dat"
   ]
  },
  {
   "cell_type": "code",
   "execution_count": 1,
   "id": "a1ea7d0e",
   "metadata": {},
   "outputs": [],
   "source": [
    "import warnings\n",
    "import matplotlib.pyplot as plt\n",
    "import numpy as np\n",
    "\n",
    "from quasar_unred import load_template, extinguish, fit_composite, find_ebv, mc_spec\n",
    "#from quasar_unred import extinguish\n",
    "#from quasar_unred import fit_composite\n",
    "#from quasar_unred import find_ebv\n",
    "#from quasar_unred import mc_spec"
   ]
  },
  {
   "cell_type": "markdown",
   "id": "7ba77f59",
   "metadata": {},
   "source": [
    "## Load in the template data. If no parameters are provided, the template created by Glikman et al (2006) is used."
   ]
  },
  {
   "cell_type": "code",
   "execution_count": 2,
   "id": "d618903b",
   "metadata": {},
   "outputs": [],
   "source": [
    "templateWave, templateFlux = load_template()"
   ]
  },
  {
   "cell_type": "markdown",
   "id": "8544e558",
   "metadata": {},
   "source": [
    "## Load in spectrum data. This process will vary based on how your data is stored but in the end you need to have a numpy array for both wavelength and flux. Wavelength should have units of Angstroms\n",
    "### The redshift of the quasar must be known and set as z below. All calculations occur in the rest frame."
   ]
  },
  {
   "cell_type": "code",
   "execution_count": 3,
   "id": "6260c548",
   "metadata": {},
   "outputs": [],
   "source": [
    "specData = np.loadtxt(\"SDSSJ0036-0113.dat\")\n",
    "wave = specData[:,0]\n",
    "flux = specData[:,1]\n",
    "error_array = specData[:,2]\n",
    "error_array = 1e-17 * 1/np.sqrt(error_array) \n",
    "\n",
    "#Remove values outside the range used by dust_extinction\n",
    "for i in range(wave.size -1,-1,-1):\n",
    "    if(wave[i] < 912 or wave[i] > 32000):\n",
    "        wave = np.delete(wave,i)\n",
    "        flux = np.delete(flux,i)\n",
    "        \n",
    "#Adjust into rest frame\n",
    "z = 0.294\n",
    "wave /= (z+1)\n",
    "\n",
    "#Remove any non-existant data point\n",
    "notNans = ~np.isnan(flux)\n",
    "flux = flux[notNans]\n",
    "wave = wave[notNans]"
   ]
  },
  {
   "cell_type": "markdown",
   "id": "69bd2b32",
   "metadata": {},
   "source": [
    "## Find the scaling factor between the template and the input spectrum."
   ]
  },
  {
   "cell_type": "code",
   "execution_count": 4,
   "id": "2c62cb07",
   "metadata": {},
   "outputs": [],
   "source": [
    "srat = fit_composite(templateWave, templateFlux, wave, flux)"
   ]
  },
  {
   "cell_type": "markdown",
   "id": "5ef03031",
   "metadata": {},
   "source": [
    "## Use find_ebv to obtain results."
   ]
  },
  {
   "cell_type": "code",
   "execution_count": 5,
   "id": "c8d0992a",
   "metadata": {},
   "outputs": [
    {
     "name": "stdout",
     "output_type": "stream",
     "text": [
      "E(B-V) =  0.576\n"
     ]
    }
   ],
   "source": [
    "results = find_ebv(templateWave, templateFlux, wave, flux, srat, z)\n",
    "ebv = results[0]\n",
    "print(\"E(B-V) = \", round(ebv,3))"
   ]
  },
  {
   "cell_type": "markdown",
   "id": "5ce9b188",
   "metadata": {},
   "source": [
    "## Results can be plotted."
   ]
  },
  {
   "cell_type": "code",
   "execution_count": 6,
   "id": "49851572",
   "metadata": {},
   "outputs": [],
   "source": [
    "fitted_curve = results[4]\n",
    "fitted_wave = results[5]\n"
   ]
  },
  {
   "cell_type": "code",
   "execution_count": 7,
   "id": "b13707bd",
   "metadata": {},
   "outputs": [
    {
     "data": {
      "text/plain": [
       "<function matplotlib.pyplot.show(close=None, block=None)>"
      ]
     },
     "execution_count": 7,
     "metadata": {},
     "output_type": "execute_result"
    },
    {
     "data": {
      "image/png": "[encoded data removed]",
      "text/plain": [
       "<Figure size 432x288 with 1 Axes>"
      ]
     },
     "metadata": {
      "needs_background": "light"
     },
     "output_type": "display_data"
    }
   ],
   "source": [
    "fig, ax = plt.subplots()\n",
    "ax.plot(wave, flux, label = \"actual spectra\")\n",
    "ax.plot(fitted_wave, fitted_curve, label = \"reddened template\")\n",
    "plt.legend()\n",
    "plt.xlabel('Wavelength (Å)')\n",
    "plt.ylabel('Flux')\n",
    "plt.show"
   ]
  },
  {
   "cell_type": "markdown",
   "id": "159b1c1a",
   "metadata": {},
   "source": [
    "## An uncertainty value can be obtained using random sampling"
   ]
  },
  {
   "cell_type": "code",
   "execution_count": 8,
   "id": "35b3c5d3",
   "metadata": {},
   "outputs": [],
   "source": [
    "uncert = mc_spec(templateWave, templateFlux, error_array, wave, flux, srat, z)"
   ]
  },
  {
   "cell_type": "code",
   "execution_count": 9,
   "id": "4d9d74c4",
   "metadata": {},
   "outputs": [
    {
     "name": "stdout",
     "output_type": "stream",
     "text": [
      "E(B-V) =  0.5760702945437693  +/-  2.5064299821409883e-13\n"
     ]
    }
   ],
   "source": [
    "print(\"E(B-V) = \", ebv, \" +/- \", uncert)"
   ]
  }
 ],
 "metadata": {
  "kernelspec": {
   "display_name": "Python 3 (ipykernel)",
   "language": "python",
   "name": "python3"
  },
  "language_info": {
   "codemirror_mode": {
    "name": "ipython",
    "version": 3
   },
   "file_extension": ".py",
   "mimetype": "text/x-python",
   "name": "python",
   "nbconvert_exporter": "python",
   "pygments_lexer": "ipython3",
   "version": "3.7.13"
  }
 },
 "nbformat": 4,
 "nbformat_minor": 5
}
