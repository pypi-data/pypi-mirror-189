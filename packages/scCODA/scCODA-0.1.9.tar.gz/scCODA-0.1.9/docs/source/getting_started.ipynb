{
 "cells": [
  {
   "cell_type": "markdown",
   "metadata": {
    "collapsed": true,
    "pycharm": {
     "name": "#%% md\n"
    }
   },
   "source": [
    "# scCODA - Compositional analysis of single-cell data\n"
   ]
  },
  {
   "cell_type": "markdown",
   "metadata": {
    "pycharm": {
     "name": "#%% md\n"
    }
   },
   "source": [
    "\n",
    "This notebook serves as a tutorial for using the *scCODA* package ([Büttner, Ostner et al., 2021](https://www.nature.com/articles/s41467-021-27150-6)) to analyze changes in cell composition data.\n",
    "\n",
    "The package is intended to be used with cell composition from single-cell RNA-seq experiments, however there are no technical\n",
    "restrictions that prevent the use of data from other sources.\n",
    "\n",
    "The data we use in the following example comes from [Haber et al., 2017](https://www.nature.com/articles/nature24489).\n",
    "It contains samples from the small intestinal epithelium of mice with different conditions.\n",
    "\n",
    "This tutorial is designed to be executed on a standard computer (any operating system) in a Python environment with scCODA, Jupyter notebook and all their dependencies installed.\n",
    "Running the tutorial takes about 1.5 minutes on a 2020 Apple MacBook Pro (16GB RAM).\n"
   ]
  },
  {
   "cell_type": "code",
   "execution_count": 12,
   "metadata": {
    "collapsed": true,
    "pycharm": {
     "name": "#%%\n"
    }
   },
   "outputs": [],
   "source": [
    "# Setup\n",
    "import warnings\n",
    "warnings.filterwarnings(\"ignore\")\n",
    "\n",
    "import pandas as pd\n",
    "import pickle as pkl\n",
    "import matplotlib.pyplot as plt\n",
    "\n",
    "from sccoda.util import comp_ana as mod\n",
    "from sccoda.util import cell_composition_data as dat\n",
    "from sccoda.util import data_visualization as viz\n",
    "\n",
    "import sccoda.datasets as scd"
   ]
  },
  {
   "cell_type": "markdown",
   "metadata": {},
   "source": [
    "### Data preparation"
   ]
  },
  {
   "cell_type": "code",
   "execution_count": 2,
   "metadata": {
    "collapsed": false,
    "pycharm": {
     "name": "#%%\n"
    }
   },
   "outputs": [
    {
     "name": "stdout",
     "output_type": "stream",
     "text": [
      "            Mouse  Endocrine  Enterocyte  Enterocyte.Progenitor  Goblet  Stem  \\\n",
      "0       Control_1         36          59                    136      36   239   \n",
      "1       Control_2          5          46                     23      20    50   \n",
      "2       Control_3         45          98                    188     124   250   \n",
      "3       Control_4         26         221                    198      36   131   \n",
      "4  H.poly.Day10_1         42          71                    203     147   271   \n",
      "5  H.poly.Day10_2         40          57                    383     170   321   \n",
      "6   H.poly.Day3_1         52          75                    347      66   323   \n",
      "7   H.poly.Day3_2         65         126                    115      33    65   \n",
      "8          Salm_1         37         332                    113      59    90   \n",
      "9          Salm_2         32         373                    116      67   117   \n",
      "\n",
      "    TA  TA.Early  Tuft  \n",
      "0  125       191    18  \n",
      "1   11        40     5  \n",
      "2  155       365    33  \n",
      "3  130       196     4  \n",
      "4  109       180   146  \n",
      "5  244       256    71  \n",
      "6  263       313    51  \n",
      "7   39       129    59  \n",
      "8   47       132    10  \n",
      "9   65       168    12  \n"
     ]
    }
   ],
   "source": [
    "# Load data\n",
    "\n",
    "cell_counts = scd.haber()\n",
    "\n",
    "print(cell_counts)"
   ]
  },
  {
   "cell_type": "markdown",
   "metadata": {},
   "source": [
    "Looking at the data, we see that we have 4 control samples, and 3 conditions with 2 samples each. \n",
    "To use the models in *scCODA*, we first have to convert the data into an [anndata](https://github.com/theislab/anndata) object.\n",
    "This can be done easily with the `sccoda.util.cell_composition_data` module.\n",
    "The resulting object separates our data components: Cell counts are stored in `data.X`, covariates in `data.obs`."
   ]
  },
  {
   "cell_type": "code",
   "execution_count": 3,
   "metadata": {
    "collapsed": false,
    "pycharm": {
     "name": "#%%\n"
    }
   },
   "outputs": [
    {
     "name": "stdout",
     "output_type": "stream",
     "text": [
      "AnnData object with n_obs × n_vars = 10 × 8\n",
      "    obs: 'Mouse', 'Condition'\n"
     ]
    }
   ],
   "source": [
    "# Convert data to anndata object\n",
    "data_all = dat.from_pandas(cell_counts, covariate_columns=[\"Mouse\"])\n",
    "\n",
    "# Extract condition from mouse name and add it as an extra column to the covariates\n",
    "data_all.obs[\"Condition\"] = data_all.obs[\"Mouse\"].str.replace(r\"_[0-9]\", \"\")\n",
    "print(data_all)"
   ]
  },
  {
   "cell_type": "markdown",
   "metadata": {
    "pycharm": {
     "name": "#%% md\n"
    }
   },
   "source": [
    "For our first example, we want to look at how the Salmonella infection influences the cell composition.\n",
    "Therefore, we subset our data."
   ]
  },
  {
   "cell_type": "code",
   "execution_count": 4,
   "metadata": {
    "collapsed": false
   },
   "outputs": [
    {
     "name": "stdout",
     "output_type": "stream",
     "text": [
      "       Mouse Condition\n",
      "0  Control_1   Control\n",
      "1  Control_2   Control\n",
      "2  Control_3   Control\n",
      "3  Control_4   Control\n",
      "8     Salm_1      Salm\n",
      "9     Salm_2      Salm\n"
     ]
    }
   ],
   "source": [
    "\n",
    "# Select control and salmonella data\n",
    "data_salm = data_all[data_all.obs[\"Condition\"].isin([\"Control\", \"Salm\"])]\n",
    "print(data_salm.obs)\n"
   ]
  },
  {
   "cell_type": "markdown",
   "metadata": {
    "pycharm": {
     "name": "#%% md\n"
    }
   },
   "source": [
    "Plotting the data, we can see that there is a large increase of Enterocytes in the infected sampes, while most other cell types slightly decrease.\n",
    "Since scRNA-seq experiments are limited in the number of cells per sample, the count data is compositional, which leads to negative correlations between the cell types.\n",
    "Thus, the slight decreases in many cell types might be fully caused by the increase in Enterocytes."
   ]
  },
  {
   "cell_type": "code",
   "execution_count": 14,
   "metadata": {
    "collapsed": false,
    "pycharm": {
     "name": "#%%\n"
    }
   },
   "outputs": [
    {
     "data": {
      "text/plain": "<Figure size 640x480 with 1 Axes>",
      "image/png": "[encoded data removed]"
     },
     "metadata": {},
     "output_type": "display_data"
    }
   ],
   "source": [
    "viz.boxplots(data_salm, feature_name=\"Condition\")\n",
    "plt.show()"
   ]
  },
  {
   "cell_type": "markdown",
   "metadata": {
    "pycharm": {
     "name": "#%% md\n"
    }
   },
   "source": [
    "*Note that the use of* anndata *in* scCODA *is different from the use in scRNA-seq pipelines, e.g.* scanpy.\n",
    "*To convert* scanpy *objects to a scCODA dataset, have a look at `dat.from_scanpy.*"
   ]
  },
  {
   "cell_type": "markdown",
   "metadata": {},
   "source": [
    "### Model setup and inference\n",
    "\n",
    "We can now create the model and run inference on it. Creating a `sccoda.util.comp_ana.CompositionalAnalysis` class object\n",
    "sets up the compositional model and prepares everxthing for parameter inference. It needs these informations:\n",
    "\n",
    "- The data object from above.\n",
    "\n",
    "- The `formula` parameter. It specifies how the covariates are used in the model.\n",
    "It can process R-style formulas via the [patsy](https://patsy.readthedocs.io/en/latest/) package, e.g. `formula=\"Cov1 + Cov2 + Cov3\"`.\n",
    "Here, we simply use the \"Condition\" covariate of our dataset\n",
    "\n",
    "- The `reference_cell_type` parameter is used to specify a cell type that is believed to be unchanged by the covariates in `formula`.\n",
    "This is necessary, because compositional analysis must always be performed relative to a reference (See [Büttner, Ostner et al., 2021](https://www.nature.com/articles/s41467-021-27150-6) for a more thorough explanation).\n",
    "If no knowledge about such a cell type exists prior to the analysis, taking a cell type that has a nearly constant relative abundance over all samples is often a good choice.\n",
    "It is also possible to let scCODA find a suited reference cell type by using `reference_cell_type=\"automatic\"`.\n",
    "Here, we take Goblet cells as the reference."
   ]
  },
  {
   "cell_type": "code",
   "execution_count": 6,
   "metadata": {
    "collapsed": false
   },
   "outputs": [],
   "source": [
    "model_salm = mod.CompositionalAnalysis(data_salm, formula=\"Condition\", reference_cell_type=\"Goblet\")"
   ]
  },
  {
   "cell_type": "markdown",
   "metadata": {
    "pycharm": {
     "name": "#%% md\n"
    }
   },
   "source": [
    "HMC sampling is then initiated by calling `model.sample_hmc()`, which produces a `sccoda.util.result_classes.CAResult` object."
   ]
  },
  {
   "cell_type": "code",
   "execution_count": 7,
   "metadata": {
    "collapsed": false
   },
   "outputs": [
    {
     "name": "stdout",
     "output_type": "stream",
     "text": [
      "WARNING:tensorflow:From /Users/johannes.ostner/opt/anaconda3/envs/scCODA_3/lib/python3.8/site-packages/tensorflow/python/ops/array_ops.py:5043: calling gather (from tensorflow.python.ops.array_ops) with validate_indices is deprecated and will be removed in a future version.\n",
      "Instructions for updating:\n",
      "The `validate_indices` argument has no effect. Indices are always validated on CPU and never validated on GPU.\n"
     ]
    },
    {
     "name": "stderr",
     "output_type": "stream",
     "text": [
      "100%|██████████| 20000/20000 [01:01<00:00, 327.72it/s]\n"
     ]
    },
    {
     "name": "stdout",
     "output_type": "stream",
     "text": [
      "MCMC sampling finished. (79.348 sec)\n",
      "Acceptance rate: 51.9%\n"
     ]
    }
   ],
   "source": [
    "# Run MCMC\n",
    "sim_results = model_salm.sample_hmc()"
   ]
  },
  {
   "cell_type": "markdown",
   "metadata": {
    "pycharm": {
     "name": "#%% md\n"
    }
   },
   "source": [
    "### Result interpretation\n",
    "\n",
    "Calling `summary()` on the results object, we can see the most relevant information for further analysis:"
   ]
  },
  {
   "cell_type": "code",
   "execution_count": 8,
   "metadata": {
    "collapsed": false,
    "pycharm": {
     "name": "#%%\n"
    }
   },
   "outputs": [
    {
     "name": "stdout",
     "output_type": "stream",
     "text": [
      "Compositional Analysis summary:\n",
      "\n",
      "Data: 6 samples, 8 cell types\n",
      "Reference index: 3\n",
      "Formula: Condition\n",
      "\n",
      "Intercepts:\n",
      "                       Final Parameter  Expected Sample\n",
      "Cell Type                                              \n",
      "Endocrine                        1.102        34.068199\n",
      "Enterocyte                       2.328       116.089840\n",
      "Enterocyte.Progenitor            2.523       141.085258\n",
      "Goblet                           1.753        65.324318\n",
      "Stem                             2.705       169.247878\n",
      "TA                               2.113        93.631267\n",
      "TA.Early                         2.861       197.821355\n",
      "Tuft                             0.449        17.731884\n",
      "\n",
      "\n",
      "Effects:\n",
      "                                         Final Parameter  Expected Sample  \\\n",
      "Covariate         Cell Type                                                 \n",
      "Condition[T.Salm] Endocrine                       0.0000        24.315528   \n",
      "                  Enterocyte                      1.3571       321.891569   \n",
      "                  Enterocyte.Progenitor           0.0000       100.696915   \n",
      "                  Goblet                          0.0000        46.623988   \n",
      "                  Stem                            0.0000       120.797449   \n",
      "                  TA                              0.0000        66.827533   \n",
      "                  TA.Early                        0.0000       141.191224   \n",
      "                  Tuft                            0.0000        12.655794   \n",
      "\n",
      "                                         log2-fold change  \n",
      "Covariate         Cell Type                                \n",
      "Condition[T.Salm] Endocrine                     -0.486548  \n",
      "                  Enterocyte                     1.471333  \n",
      "                  Enterocyte.Progenitor         -0.486548  \n",
      "                  Goblet                        -0.486548  \n",
      "                  Stem                          -0.486548  \n",
      "                  TA                            -0.486548  \n",
      "                  TA.Early                      -0.486548  \n",
      "                  Tuft                          -0.486548  \n"
     ]
    }
   ],
   "source": [
    "sim_results.summary()"
   ]
  },
  {
   "cell_type": "markdown",
   "metadata": {
    "pycharm": {
     "name": "#%% md\n"
    }
   },
   "source": [
    "**Model properties**\n",
    "\n",
    "First, the summary shows an overview over the model properties: \n",
    "* Number of samples/cell types\n",
    "* The reference cell type.\n",
    "* The formula used\n",
    "\n",
    "The model has two types of parameters that are relevant for analysis - intercepts and effects. \n",
    "These can be interpreted like in a standard regression model:\n",
    "Intercepts show how the cell types are distributed without any active covariates, effects show ho the covariates influence the cell types.\n",
    "\n",
    "**Intercepts**\n",
    "\n",
    "The first column of the intercept summary shows the parameters determined by the MCMC inference.\n",
    "\n",
    "The \"Expected sample\" column gives some context to the numerical values. \n",
    "If we had a new sample (with no active covariates) with a total number of cells equal to the mean sampling depth of the dataset,\n",
    "then this distribution over the cell types would be most likely.\n",
    "\n",
    "**Effects**\n",
    "\n",
    "For the effect summary, the first column again shows the inferred parameters for all combinations of covariates and cell types.\n",
    "Most important is the distinctions between zero and non-zero entries\n",
    "A value of zero means that no statistically credible effect was detected.\n",
    "For a value other than zero, a credible change was detected. A positive sign indicates an increase, a negative sign a decrease in abundance.\n",
    "\n",
    "Since the numerical values of the \"Final parameter\" columns are not straightforward to interpret, the \"Expected sample\" and \"log2-fold change\" columns give us an idea on the magnitude of the change.\n",
    "The expected sample is calculated for each covariate separately (covariate value = 1, all other covariates = 0), with the same method as for the intercepts.\n",
    "The log-fold change is then calculated between this expected sample and the expected sample with no active covariates from the intercept section.\n",
    "Since the data is compositional, cell types for which no credible change was detected, are will change in abundance as well, as soon as a credible effect is detected on another cell type due to the sum-to-one constraint.\n",
    "\n",
    "**Interpretation**\n",
    "\n",
    "In the salmonella case, we see only a credible increase of Enterocytes, while all other cell types are unaffected by the disease.\n",
    "The log-fold change of Enterocytes between control and infected samples with the same total cell count lies at about 1.54.\n",
    "\n",
    "We can also easily filter out all credible effects:"
   ]
  },
  {
   "cell_type": "code",
   "execution_count": 9,
   "metadata": {
    "collapsed": false,
    "pycharm": {
     "name": "#%%\n"
    }
   },
   "outputs": [
    {
     "name": "stdout",
     "output_type": "stream",
     "text": [
      "Covariate          Cell Type            \n",
      "Condition[T.Salm]  Endocrine                False\n",
      "                   Enterocyte                True\n",
      "                   Enterocyte.Progenitor    False\n",
      "                   Goblet                   False\n",
      "                   Stem                     False\n",
      "                   TA                       False\n",
      "                   TA.Early                 False\n",
      "                   Tuft                     False\n",
      "Name: Final Parameter, dtype: bool\n"
     ]
    }
   ],
   "source": [
    "print(sim_results.credible_effects())"
   ]
  },
  {
   "cell_type": "markdown",
   "metadata": {
    "collapsed": false,
    "pycharm": {
     "name": "#%% md\n"
    }
   },
   "source": [
    "### Adjusting the False discovery rate\n",
    "\n",
    "scCODA selects credible effects based on their inclusion probability.\n",
    "The cutoff between credible and non-credible effects depends on the desired false discovery rate (FDR).\n",
    "A smaller FDR value will produce more conservative results, but might miss some effects,\n",
    "while a larger FDR value selects more effects at the cost of a larger number of false discoveries.\n",
    "\n",
    "The desired FDR level can be easily set after inference via `sim_results.set_fdr()`. Per default, the value is 0.05,\n",
    "but we recommend to increase it if no effects are found at a more conservative level.\n",
    "\n",
    "In our example, setting a desired FDR of 0.4 reveals effects on Endocrine and Enterocyte cells."
   ]
  },
  {
   "cell_type": "code",
   "execution_count": 16,
   "metadata": {
    "collapsed": false,
    "pycharm": {
     "name": "#%%\n"
    }
   },
   "outputs": [
    {
     "name": "stdout",
     "output_type": "stream",
     "text": [
      "Compositional Analysis summary (extended):\n",
      "\n",
      "Data: 6 samples, 8 cell types\n",
      "Reference index: 3\n",
      "Formula: Condition\n",
      "Spike-and-slab threshold: 0.434\n",
      "\n",
      "MCMC Sampling: Sampled 20000 chain states (5000 burnin samples) in 79.348 sec. Acceptance rate: 51.9%\n",
      "\n",
      "Intercepts:\n",
      "                       Final Parameter  HDI 3%  HDI 97%     SD  \\\n",
      "Cell Type                                                        \n",
      "Endocrine                        1.102   0.363    1.740  0.369   \n",
      "Enterocyte                       2.328   1.694    2.871  0.314   \n",
      "Enterocyte.Progenitor            2.523   1.904    3.088  0.320   \n",
      "Goblet                           1.753   1.130    2.346  0.330   \n",
      "Stem                             2.705   2.109    3.285  0.318   \n",
      "TA                               2.113   1.459    2.689  0.332   \n",
      "TA.Early                         2.861   2.225    3.378  0.307   \n",
      "Tuft                             0.449  -0.248    1.207  0.394   \n",
      "\n",
      "                       Expected Sample  \n",
      "Cell Type                               \n",
      "Endocrine                    34.068199  \n",
      "Enterocyte                  116.089840  \n",
      "Enterocyte.Progenitor       141.085258  \n",
      "Goblet                       65.324318  \n",
      "Stem                        169.247878  \n",
      "TA                           93.631267  \n",
      "TA.Early                    197.821355  \n",
      "Tuft                         17.731884  \n",
      "\n",
      "\n",
      "Effects:\n",
      "                                         Final Parameter  HDI 3%  HDI 97%  \\\n",
      "Covariate         Cell Type                                                 \n",
      "Condition[T.Salm] Endocrine                     0.327533  -0.506    1.087   \n",
      "                  Enterocyte                    1.357100   0.886    1.872   \n",
      "                  Enterocyte.Progenitor         0.000000  -0.395    0.612   \n",
      "                  Goblet                        0.000000   0.000    0.000   \n",
      "                  Stem                         -0.240268  -0.827    0.168   \n",
      "                  TA                            0.000000  -0.873    0.252   \n",
      "                  TA.Early                      0.000000  -0.464    0.486   \n",
      "                  Tuft                          0.000000  -1.003    0.961   \n",
      "\n",
      "                                            SD  Inclusion probability  \\\n",
      "Covariate         Cell Type                                             \n",
      "Condition[T.Salm] Endocrine              0.338               0.457133   \n",
      "                  Enterocyte             0.276               0.998400   \n",
      "                  Enterocyte.Progenitor  0.163               0.338200   \n",
      "                  Goblet                 0.000               0.000000   \n",
      "                  Stem                   0.219               0.434800   \n",
      "                  TA                     0.220               0.364000   \n",
      "                  TA.Early               0.128               0.284733   \n",
      "                  Tuft                   0.319               0.392533   \n",
      "\n",
      "                                         Expected Sample  log2-fold change  \n",
      "Covariate         Cell Type                                                 \n",
      "Condition[T.Salm] Endocrine                    34.413767          0.014560  \n",
      "                  Enterocyte                  328.331183          1.499910  \n",
      "                  Enterocyte.Progenitor       102.711411         -0.457971  \n",
      "                  Goblet                       47.556726         -0.457971  \n",
      "                  Stem                         96.897648         -0.804604  \n",
      "                  TA                           68.164454         -0.457971  \n",
      "                  TA.Early                    144.015830         -0.457971  \n",
      "                  Tuft                         12.908980         -0.457971  \n"
     ]
    }
   ],
   "source": [
    "sim_results.set_fdr(est_fdr=0.4)\n",
    "sim_results.summary()"
   ]
  },
  {
   "cell_type": "markdown",
   "metadata": {
    "pycharm": {
     "name": "#%% md\n"
    }
   },
   "source": [
    "### Saving results\n",
    "\n",
    "The compositional analysis results can be saved as a pickle object via `results.save(<path_to_file>)`."
   ]
  },
  {
   "cell_type": "code",
   "execution_count": 11,
   "metadata": {
    "collapsed": false,
    "pycharm": {
     "name": "#%%\n"
    }
   },
   "outputs": [
    {
     "name": "stdout",
     "output_type": "stream",
     "text": [
      "Compositional Analysis summary:\n",
      "\n",
      "Data: 6 samples, 8 cell types\n",
      "Reference index: 3\n",
      "Formula: Condition\n",
      "\n",
      "Intercepts:\n",
      "                       Final Parameter  Expected Sample\n",
      "Cell Type                                              \n",
      "Endocrine                        1.102        34.068199\n",
      "Enterocyte                       2.328       116.089840\n",
      "Enterocyte.Progenitor            2.523       141.085258\n",
      "Goblet                           1.753        65.324318\n",
      "Stem                             2.705       169.247878\n",
      "TA                               2.113        93.631267\n",
      "TA.Early                         2.861       197.821355\n",
      "Tuft                             0.449        17.731884\n",
      "\n",
      "\n",
      "Effects:\n",
      "                                         Final Parameter  Expected Sample  \\\n",
      "Covariate         Cell Type                                                 \n",
      "Condition[T.Salm] Endocrine                     0.327533        33.362298   \n",
      "                  Enterocyte                    1.357100       318.299445   \n",
      "                  Enterocyte.Progenitor         0.000000        99.573196   \n",
      "                  Goblet                        0.000000        46.103691   \n",
      "                  Stem                          0.000000       119.449419   \n",
      "                  TA                            0.000000        66.081776   \n",
      "                  TA.Early                      0.000000       139.615611   \n",
      "                  Tuft                          0.000000        12.514563   \n",
      "\n",
      "                                         log2-fold change  \n",
      "Covariate         Cell Type                                \n",
      "Condition[T.Salm] Endocrine                     -0.030207  \n",
      "                  Enterocyte                     1.455143  \n",
      "                  Enterocyte.Progenitor         -0.502738  \n",
      "                  Goblet                        -0.502738  \n",
      "                  Stem                          -0.502738  \n",
      "                  TA                            -0.502738  \n",
      "                  TA.Early                      -0.502738  \n",
      "                  Tuft                          -0.502738  \n"
     ]
    }
   ],
   "source": [
    "# saving\n",
    "path = \"test\"\n",
    "sim_results.save(path)\n",
    "\n",
    "# loading\n",
    "with open(path, \"rb\") as f:\n",
    "    sim_results_2 = pkl.load(f)\n",
    "    \n",
    "sim_results_2.summary()"
   ]
  },
  {
   "cell_type": "code",
   "execution_count": 11,
   "metadata": {
    "collapsed": true
   },
   "outputs": [],
   "source": []
  }
 ],
 "metadata": {
  "kernelspec": {
   "display_name": "Python 3.7",
   "language": "python",
   "name": "python3"
  },
  "language_info": {
   "codemirror_mode": {
    "name": "ipython",
    "version": 3
   },
   "file_extension": ".py",
   "mimetype": "text/x-python",
   "name": "python",
   "nbconvert_exporter": "python",
   "pygments_lexer": "ipython3",
   "version": "3.8.8"
  }
 },
 "nbformat": 4,
 "nbformat_minor": 1
}