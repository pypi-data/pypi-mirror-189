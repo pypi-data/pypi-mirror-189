{
 "cells": [
  {
   "cell_type": "code",
   "execution_count": null,
   "id": "desperate-press",
   "metadata": {},
   "outputs": [],
   "source": [
    "%load_ext autoreload\n",
    "%autoreload 2\n",
    "import os\n",
    "import cv2\n",
    "import PIL\n",
    "import time\n",
    "import random\n",
    "import numpy as np\n",
    "import matplotlib.pyplot as plt\n",
    "from copy import deepcopy\n",
    "\n",
    "import torch\n",
    "import torchvision\n",
    "import torch.nn as nn\n",
    "import torch.optim as optim\n",
    "from torch.utils.data import Dataset, DataLoader\n",
    "from torchsummary import summary\n",
    "\n",
    "from meter_digits_recognizer import Net"
   ]
  },
  {
   "cell_type": "code",
   "execution_count": null,
   "id": "desirable-festival",
   "metadata": {},
   "outputs": [],
   "source": [
    "def set_seed(seed):\n",
    "    torch.backends.cudnn.deterministic = True\n",
    "    torch.backends.cudnn.benchmark = False\n",
    "    torch.manual_seed(seed)\n",
    "    torch.cuda.manual_seed_all(seed)\n",
    "    np.random.seed(seed)\n",
    "    random.seed(seed)\n",
    "    \n",
    "set_seed(1)"
   ]
  },
  {
   "cell_type": "markdown",
   "id": "respiratory-project",
   "metadata": {},
   "source": [
    "# Split training and testing data"
   ]
  },
  {
   "cell_type": "code",
   "execution_count": null,
   "id": "buried-timothy",
   "metadata": {},
   "outputs": [],
   "source": [
    "dataset_dir = \"images\"\n",
    "input_filenames = []\n",
    "input_labels = []\n",
    "for sub_dir in [\"0\", \"1\", \"2\", \"3\", \"4\", \"5\", \"6\", \"7\", \"8\", \"9\", \"10\"]:\n",
    "    for fn in os.listdir(os.path.join(dataset_dir, sub_dir)):\n",
    "        if not fn.endswith(\".jpg\"):\n",
    "            continue\n",
    "        img_file = os.path.join(dataset_dir, sub_dir, fn)\n",
    "        input_filenames.append(img_file)\n",
    "        input_labels.append(int(sub_dir))\n",
    "indices = np.arange(len(input_filenames))\n",
    "np.random.shuffle(indices)\n",
    "split_index = int(0.15 * len(indices))\n",
    "test_indices, train_indices = indices[:split_index], indices[split_index:]\n",
    "print(\"Test %d, train %d\" % (len(test_indices), len(train_indices)))"
   ]
  },
  {
   "cell_type": "markdown",
   "id": "ahead-filing",
   "metadata": {},
   "source": [
    "# Init datasets and dataloaders"
   ]
  },
  {
   "cell_type": "code",
   "execution_count": null,
   "id": "sunrise-moore",
   "metadata": {},
   "outputs": [],
   "source": [
    "class DigitsDataset(Dataset):\n",
    "  \n",
    "    def __init__(self, indices, input_filenames, input_labels, transform=None):\n",
    "        self.transform = transform\n",
    "        self.images = []\n",
    "        self.labels = []\n",
    "        for i in indices:\n",
    "            img = cv2.imread(input_filenames[i])\n",
    "            resized = cv2.resize(img, (20, 32), interpolation=cv2.INTER_LINEAR)\n",
    "            self.images.append(resized)\n",
    "            self.labels.append(input_labels[i])\n",
    "        print(\"Loaded %d images\" % (len(self.images)))\n",
    "        print(np.bincount(self.labels))\n",
    "                \n",
    "    def __len__(self):\n",
    "        return len(self.images)\n",
    "\n",
    "    def __getitem__(self, idx):\n",
    "        img = self.images[idx]\n",
    "        if self.transform:\n",
    "            img = self.transform(img)\n",
    "        return img, self.labels[idx]\n",
    "\n",
    "trainset = DigitsDataset(train_indices, input_filenames, input_labels, transform=Net.train_transform)\n",
    "testset = DigitsDataset(test_indices, input_filenames, input_labels, transform=Net.test_transform)\n",
    "\n",
    "batch_size = 4\n",
    "trainloader = torch.utils.data.DataLoader(trainset, batch_size=batch_size, shuffle=True, num_workers=0)\n",
    "testloader = torch.utils.data.DataLoader(testset, batch_size=batch_size, shuffle=False, num_workers=0)"
   ]
  },
  {
   "cell_type": "markdown",
   "id": "overall-diamond",
   "metadata": {},
   "source": [
    "# Visualize training data"
   ]
  },
  {
   "cell_type": "code",
   "execution_count": null,
   "id": "severe-heaven",
   "metadata": {},
   "outputs": [],
   "source": [
    "def imshow(img):\n",
    "    #img = img / 2 + 0.5     # unnormalize\n",
    "    npimg = img.numpy()\n",
    "    plt.imshow(cv2.cvtColor(np.transpose(npimg, (1, 2, 0)), cv2.COLOR_BGR2RGB))\n",
    "    plt.show()\n",
    "    \n",
    "# get some random training images\n",
    "dataiter = iter(trainloader)\n",
    "images, labels = dataiter.next()\n",
    "imshow(torchvision.utils.make_grid(images))\n",
    "print(' '.join('%5s' % labels[j].item() for j in range(batch_size)))"
   ]
  },
  {
   "cell_type": "markdown",
   "id": "coupled-memory",
   "metadata": {},
   "source": [
    "# Train"
   ]
  },
  {
   "cell_type": "code",
   "execution_count": null,
   "id": "coordinate-israeli",
   "metadata": {
    "tags": [
     "outputPrepend"
    ]
   },
   "outputs": [],
   "source": [
    "def calculate_accuracy(loader):\n",
    "    correct, total = 0, 0\n",
    "    with torch.no_grad():\n",
    "        for data in loader:\n",
    "            images, labels = data[0].to(device), data[1].to(device)\n",
    "            for img, label in zip(images, labels):\n",
    "                output = net(img.unsqueeze(0))\n",
    "                predicted = torch.max(output, 1).indices[0].item()\n",
    "                total += 1\n",
    "                if predicted == label:\n",
    "                    correct += 1\n",
    "    return correct, total\n",
    "\n",
    "device = torch.device(\"cuda:0\" if torch.cuda.is_available() else \"cpu\")\n",
    "print(\"Device: %s\" % (device))\n",
    "\n",
    "best_model = None\n",
    "best_model_accuracy = -1.0\n",
    "net = Net()\n",
    "net.to(device)\n",
    "summary(net, input_size=(3, net.input_size[1], net.input_size[0]))\n",
    "criterion = nn.CrossEntropyLoss()\n",
    "optimizer = optim.Adam(net.parameters(), lr=1e-4)\n",
    "\n",
    "running_loss = 0.0\n",
    "start_time = time.time()\n",
    "for epoch in range(1500):\n",
    "    for i, data in enumerate(trainloader, 0):\n",
    "        inputs, labels = data[0].to(device), data[1].to(device)\n",
    "        optimizer.zero_grad()\n",
    "        outputs = net(inputs)\n",
    "        loss = criterion(outputs, labels)\n",
    "        loss.backward()\n",
    "        optimizer.step()\n",
    "        running_loss += loss.item()\n",
    "    \n",
    "    print(\"Epoch %d, batch %d, runnig_loss %.3f, loss %.3f\" % (epoch, i, running_loss, loss.item()))\n",
    "    running_loss = 0\n",
    "    \n",
    "    correct, total = calculate_accuracy(trainloader)\n",
    "    print(\"  Train: Correct %d, Total %d, Accuracy %.3f\" % (correct, total, float(correct) / total))\n",
    "    \n",
    "    correct, total = calculate_accuracy(testloader)\n",
    "    test_accuracy = float(correct) / total\n",
    "    print(\"  Test: Correct %d, Total %d, Accuracy %.3f\" % (correct, total, test_accuracy))\n",
    "    if test_accuracy > best_model_accuracy:\n",
    "        print(\"Saving new best model\")\n",
    "        best_model_accuracy = test_accuracy\n",
    "        best_model = deepcopy(net.state_dict())\n",
    "\n",
    "    #if epoch == 50:\n",
    "    #    print(\"Reducing learning rate..\")\n",
    "    #    optimizer.lr = 5e-4      \n",
    "print(\"Total time: %.3f\" % (time.time() - start_time))"
   ]
  },
  {
   "cell_type": "markdown",
   "id": "previous-conservation",
   "metadata": {},
   "source": [
    "# Test"
   ]
  },
  {
   "cell_type": "code",
   "execution_count": null,
   "id": "stuck-ethernet",
   "metadata": {},
   "outputs": [],
   "source": [
    "net = Net()\n",
    "net.load_state_dict(best_model)\n",
    "net.to(device)\n",
    "correct, total = calculate_accuracy(testloader)\n",
    "print(\"Correct %d, Total %d, Accuracy %.3f\" % (correct, total, float(correct) / total))"
   ]
  },
  {
   "cell_type": "code",
   "execution_count": null,
   "id": "earned-story",
   "metadata": {},
   "outputs": [],
   "source": [
    "fp_images = []\n",
    "with torch.no_grad():\n",
    "    for data in testloader:\n",
    "        images, labels = data[0].to(device), data[1].to(device)\n",
    "        for img, label in zip(images, labels):\n",
    "            output = net(img.unsqueeze(0))\n",
    "            predicted = torch.max(output, 1).indices[0].item()\n",
    "            confidences = torch.nn.functional.softmax(output, 1).cpu().numpy()[0]\n",
    "            if predicted != label:\n",
    "                print(\"Predicted %d, Label %d, confidence %.2f %%, %s\" % (predicted, label, 1e2 * confidences[predicted], [\"%.1f %%\" % (1e2 * c) for c in confidences]))\n",
    "                fp_images.append(img.cpu())\n",
    "  \n",
    "plt.figure(figsize=(10, 10))\n",
    "imshow(torchvision.utils.make_grid(fp_images, nrow=16))"
   ]
  },
  {
   "cell_type": "markdown",
   "id": "minor-wagner",
   "metadata": {},
   "source": [
    "# Save"
   ]
  },
  {
   "cell_type": "code",
   "execution_count": null,
   "id": "reverse-japan",
   "metadata": {},
   "outputs": [],
   "source": [
    "print(\"Saved model accuracy: %.3f\" % (best_model_accuracy))\n",
    "torch.save(best_model, os.path.join(\"meter_digits_recognizer\", \"model_weights.pt\"))"
   ]
  }
 ],
 "metadata": {
  "kernelspec": {
   "display_name": "Python 3",
   "language": "python",
   "name": "python3"
  },
  "language_info": {
   "codemirror_mode": {
    "name": "ipython",
    "version": 3
   },
   "file_extension": ".py",
   "mimetype": "text/x-python",
   "name": "python",
   "nbconvert_exporter": "python",
   "pygments_lexer": "ipython3",
   "version": "3.8.8"
  }
 },
 "nbformat": 4,
 "nbformat_minor": 5
}
